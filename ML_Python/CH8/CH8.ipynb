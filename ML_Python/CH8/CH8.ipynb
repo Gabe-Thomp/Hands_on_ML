{
 "cells": [
  {
   "cell_type": "markdown",
   "id": "505959f7",
   "metadata": {},
   "source": [
    "# Dimensionality Reduction"
   ]
  },
  {
   "cell_type": "markdown",
   "id": "a4771ba6",
   "metadata": {},
   "source": [
    "Our intuition begins to fail dramatically in high dimensions. For example, distance between two random points in a unit square is ~.52. In a 1,000,000 dimensional hypercube, it is ~408! There is a **lot of space** in higher dimensions, allowing for sparsity.\n"
   ]
  },
  {
   "cell_type": "markdown",
   "id": "68a18e8b",
   "metadata": {},
   "source": [
    "With just 100 features (significantly fewer than in the MNIST problem), you would need more training instances than atoms in the observable universe in order for training instances to be within 0.1 of each other on average, assuming they were spread out uniformly across all dimen‐ sions."
   ]
  },
  {
   "cell_type": "markdown",
   "id": "bc948a19",
   "metadata": {},
   "source": [
    "Because features are often correlated or constant, they can occupy a subspace of a high dimensional space. Like a surface in 3d"
   ]
  },
  {
   "cell_type": "markdown",
   "id": "23a44c7a",
   "metadata": {},
   "source": [
    "A surface is also known as a manifold - a shape embedded in a higher dimension."
   ]
  },
  {
   "cell_type": "markdown",
   "id": "401b6085",
   "metadata": {},
   "source": [
    "Theoretically, most datasets are a manifold in a higher dimensional space. Consider generating a bunch of random images - the chance that one is a digit is extremely small! "
   ]
  },
  {
   "cell_type": "markdown",
   "id": "9c48fb8f",
   "metadata": {},
   "source": [
    "## PCA (Principle Component Analysis)"
   ]
  },
  {
   "cell_type": "markdown",
   "id": "b001eec1",
   "metadata": {},
   "source": [
    "Most popular dimensionality reduction algorithm. How do you choose the right hyperplane? You want to minimize the mean square distance, or preserve the variance of the dataset. A line is drawn that maximizes the variance, then another line orthogonal is drawn that maximizes variance again. This is done n times for n dimensions. The *ith* component is called the *ith principle component (PC) of the data)*"
   ]
  },
  {
   "cell_type": "markdown",
   "id": "2818c625",
   "metadata": {},
   "source": [
    "#### How to extract principal components? "
   ]
  },
  {
   "cell_type": "markdown",
   "id": "5052006d",
   "metadata": {},
   "source": [
    "## *Singular Value Decomposition (SVD)*"
   ]
  },
  {
   "cell_type": "markdown",
   "id": "e65bbb8f",
   "metadata": {},
   "source": [
    "*Singular Value Decomposition (SVD)* can decompose matrix **X** into 3 matrices $U\\sum V^T$, where $V$ contains the unit vectors of all principle components"
   ]
  },
  {
   "cell_type": "markdown",
   "id": "58ce0f6b",
   "metadata": {},
   "source": [
    ">Here sigma is a matrix"
   ]
  },
  {
   "cell_type": "markdown",
   "id": "30020d46",
   "metadata": {},
   "source": [
    "#### PCA assumes that data is centered around the origin"
   ]
  },
  {
   "cell_type": "markdown",
   "id": "3b10f94c",
   "metadata": {},
   "source": [
    "## Projecting to d Dimensions"
   ]
  },
  {
   "cell_type": "markdown",
   "id": "7249acf9",
   "metadata": {},
   "source": [
    "This is the matrix multiplication of the first d columns of V"
   ]
  },
  {
   "cell_type": "markdown",
   "id": "81927336",
   "metadata": {},
   "source": [
    "$$X_{d-projection}=XW_d$$"
   ]
  },
  {
   "cell_type": "code",
   "execution_count": 2,
   "id": "265413d0",
   "metadata": {},
   "outputs": [
    {
     "name": "stderr",
     "output_type": "stream",
     "text": [
      "/opt/homebrew/Caskroom/miniforge/base/envs/DataScience/lib/python3.11/site-packages/sklearn/datasets/_openml.py:932: FutureWarning: The default value of `parser` will change from `'liac-arff'` to `'auto'` in 1.4. You can set `parser='auto'` to silence this warning. Therefore, an `ImportError` will be raised from 1.4 if the dataset is dense and pandas is not installed. Note that the pandas parser may return different data types. See the Notes Section in fetch_openml's API doc for details.\n",
      "  warn(\n"
     ]
    }
   ],
   "source": [
    "import numpy as np \n",
    "from sklearn.datasets import fetch_openml\n",
    "\n",
    "mnist = fetch_openml('mnist_784', version=1, as_frame=False)\n",
    "mnist.target = mnist.target.astype(np.uint8)\n",
    "\n",
    "X = mnist[\"data\"]\n",
    "y = mnist[\"target\"]\n",
    "\n",
    "from sklearn.model_selection import train_test_split\n",
    "\n",
    "\n",
    "X_train, X_test, y_train, y_test = train_test_split(X,y, test_size=.2)"
   ]
  },
  {
   "cell_type": "code",
   "execution_count": 3,
   "id": "b8c0605f",
   "metadata": {
    "scrolled": true
   },
   "outputs": [
    {
     "data": {
      "text/plain": [
       "(56000, 784)"
      ]
     },
     "execution_count": 3,
     "metadata": {},
     "output_type": "execute_result"
    }
   ],
   "source": [
    "X_train.shape"
   ]
  },
  {
   "cell_type": "code",
   "execution_count": 4,
   "id": "693ba932",
   "metadata": {
    "scrolled": true
   },
   "outputs": [
    {
     "name": "stdout",
     "output_type": "stream",
     "text": [
      "Old shape: 784\n",
      "New shape: 2\n"
     ]
    }
   ],
   "source": [
    "from sklearn.decomposition import PCA\n",
    "\n",
    "X_centered = X - X.mean(axis=0)\n",
    "\n",
    "pca = PCA(n_components = 2)\n",
    "X2D = pca.fit_transform(X_centered)\n",
    "\n",
    "print(f\"Old shape: {X_centered.shape[1]}\")\n",
    "print(f\"New shape: {X2D.shape[1]}\")"
   ]
  },
  {
   "cell_type": "markdown",
   "id": "897437a6",
   "metadata": {},
   "source": [
    "### Explained variance ratio"
   ]
  },
  {
   "cell_type": "markdown",
   "id": "454544ac",
   "metadata": {},
   "source": [
    "Here, the **explained variance ratio** of each principle component indicates the proportion of the variance that lies along each component."
   ]
  },
  {
   "cell_type": "code",
   "execution_count": 5,
   "id": "cd8f9de8",
   "metadata": {},
   "outputs": [
    {
     "data": {
      "text/plain": [
       "array([0.09746116, 0.07155445])"
      ]
     },
     "execution_count": 5,
     "metadata": {},
     "output_type": "execute_result"
    }
   ],
   "source": [
    "pca.explained_variance_ratio_"
   ]
  },
  {
   "cell_type": "markdown",
   "id": "d42908f9",
   "metadata": {},
   "source": [
    "### Choosing the Right Number of Dimensions"
   ]
  },
  {
   "cell_type": "markdown",
   "id": "0b9420e3",
   "metadata": {},
   "source": [
    "It is simpler to choose the number of dimensions that add up to a sufficiently large portion of the variance (maybe 95%?)."
   ]
  },
  {
   "cell_type": "code",
   "execution_count": 6,
   "id": "c087cba4",
   "metadata": {},
   "outputs": [],
   "source": [
    "pca = PCA()\n",
    "pca.fit(X_centered)\n",
    "cumsum = np.cumsum(pca.explained_variance_ratio_)\n",
    "d = np.argmax(cumsum >= 0.95) + 1\n",
    "\n",
    "n_components=d"
   ]
  },
  {
   "cell_type": "code",
   "execution_count": 7,
   "id": "e30bb486",
   "metadata": {},
   "outputs": [
    {
     "data": {
      "text/plain": [
       "array([ 10,  17,  23,  28,  33,  38,  41,  44,  47,  49,  51,  53,  55,\n",
       "        56,  57,  60,  61,  62,  63,  64,  66,  67,  68,  68,  69,  70,\n",
       "        71,  72,  72,  73,  74,  74,  75,  76,  76,  77,  77,  78,  78,\n",
       "        79,  79,  80,  80,  80,  81,  81,  82,  82,  82,  83,  83,  83,\n",
       "        83,  84,  84,  84,  85,  85,  85,  85,  86,  86,  86,  86,  86,\n",
       "        87,  87,  87,  87,  87,  88,  88,  88,  88,  88,  88,  89,  89,\n",
       "        89,  89,  89,  89,  90,  90,  90,  90,  90,  90,  90,  90,  91,\n",
       "        91,  91,  91,  91,  91,  91,  91,  91,  91,  92,  92,  92,  92,\n",
       "        92,  92,  92,  92,  92,  92,  92,  93,  93,  93,  93,  93,  93,\n",
       "        93,  93,  93,  93,  93,  93,  93,  93,  94,  94,  94,  94,  94,\n",
       "        94,  94,  94,  94,  94,  94,  94,  94,  94,  94,  94,  94,  95,\n",
       "        95,  95,  95,  95,  95,  95,  95,  95,  95,  95,  95,  95,  95,\n",
       "        95,  95,  95,  95,  95,  95,  95,  95,  95,  96,  96,  96,  96,\n",
       "        96,  96,  96,  96,  96,  96,  96,  96,  96,  96,  96,  96,  96,\n",
       "        96,  96,  96,  96,  96,  96,  96,  96,  96,  96,  96,  96,  97,\n",
       "        97,  97,  97,  97,  97,  97,  97,  97,  97,  97,  97,  97,  97,\n",
       "        97,  97,  97,  97,  97,  97,  97,  97,  97,  97,  97,  97,  97,\n",
       "        97,  97,  97,  97,  97,  97,  97,  97,  97,  97,  97,  97,  97,\n",
       "        98,  98,  98,  98,  98,  98,  98,  98,  98,  98,  98,  98,  98,\n",
       "        98,  98,  98,  98,  98,  98,  98,  98,  98,  98,  98,  98,  98,\n",
       "        98,  98,  98,  98,  98,  98,  98,  98,  98,  98,  98,  98,  98,\n",
       "        98,  98,  98,  98,  98,  98,  98,  98,  98,  98,  98,  98,  98,\n",
       "        98,  98,  98,  98,  99,  99,  99,  99,  99,  99,  99,  99,  99,\n",
       "        99,  99,  99,  99,  99,  99,  99,  99,  99,  99,  99,  99,  99,\n",
       "        99,  99,  99,  99,  99,  99,  99,  99,  99,  99,  99,  99,  99,\n",
       "        99,  99,  99,  99,  99,  99,  99,  99,  99,  99,  99,  99,  99,\n",
       "        99,  99,  99,  99,  99,  99,  99,  99,  99,  99,  99,  99,  99,\n",
       "        99,  99,  99,  99,  99,  99,  99,  99,  99,  99,  99,  99,  99,\n",
       "        99,  99,  99,  99,  99,  99,  99,  99,  99,  99,  99,  99,  99,\n",
       "        99,  99,  99,  99,  99,  99,  99,  99,  99, 100, 100, 100, 100,\n",
       "       100, 100, 100, 100, 100, 100, 100, 100, 100, 100, 100, 100, 100,\n",
       "       100, 100, 100, 100, 100, 100, 100, 100, 100, 100, 100, 100, 100,\n",
       "       100, 100, 100, 100, 100, 100, 100, 100, 100, 100, 100, 100, 100,\n",
       "       100, 100, 100, 100, 100, 100, 100, 100, 100, 100, 100, 100, 100,\n",
       "       100, 100, 100, 100, 100, 100, 100, 100, 100, 100, 100, 100, 100,\n",
       "       100, 100, 100, 100, 100, 100, 100, 100, 100, 100, 100, 100, 100,\n",
       "       100, 100, 100, 100, 100, 100, 100, 100, 100, 100, 100, 100, 100,\n",
       "       100, 100, 100, 100, 100, 100, 100, 100, 100, 100, 100, 100, 100,\n",
       "       100, 100, 100, 100, 100, 100, 100, 100, 100, 100, 100, 100, 100,\n",
       "       100, 100, 100, 100, 100, 100, 100, 100, 100, 100, 100, 100, 100,\n",
       "       100, 100, 100, 100, 100, 100, 100, 100, 100, 100, 100, 100, 100,\n",
       "       100, 100, 100, 100, 100, 100, 100, 100, 100, 100, 100, 100, 100,\n",
       "       100, 100, 100, 100, 100, 100, 100, 100, 100, 100, 100, 100, 100,\n",
       "       100, 100, 100, 100, 100, 100, 100, 100, 100, 100, 100, 100, 100,\n",
       "       100, 100, 100, 100, 100, 100, 100, 100, 100, 100, 100, 100, 100,\n",
       "       100, 100, 100, 100, 100, 100, 100, 100, 100, 100, 100, 100, 100,\n",
       "       100, 100, 100, 100, 100, 100, 100, 100, 100, 100, 100, 100, 100,\n",
       "       100, 100, 100, 100, 100, 100, 100, 100, 100, 100, 100, 100, 100,\n",
       "       100, 100, 100, 100, 100, 100, 100, 100, 100, 100, 100, 100, 100,\n",
       "       100, 100, 100, 100, 100, 100, 100, 100, 100, 100, 100, 100, 100,\n",
       "       100, 100, 100, 100, 100, 100, 100, 100, 100, 100, 100, 100, 100,\n",
       "       100, 100, 100, 100, 100, 100, 100, 100, 100, 100, 100, 100, 100,\n",
       "       100, 100, 100, 100, 100, 100, 100, 100, 100, 100, 100, 100, 100,\n",
       "       100, 100, 100, 100, 100, 100, 100, 100, 100, 100, 100, 100, 100,\n",
       "       100, 100, 100, 100, 100, 100, 100, 100, 100, 100, 100, 100, 100,\n",
       "       100, 100, 100, 100, 100, 100, 100, 100, 100, 100, 100, 100, 100,\n",
       "       100, 100, 100, 100, 100, 100, 100, 100, 100, 100, 100, 100, 100,\n",
       "       100, 100, 100, 100, 100, 100, 100, 100, 100, 100, 100, 100, 100,\n",
       "       100, 100, 100, 100, 100, 100, 100, 100, 100, 100, 100, 100, 100,\n",
       "       100, 100, 100, 100, 100, 100, 100, 100, 100, 100, 100, 100, 100,\n",
       "       100, 100, 100, 100], dtype=int16)"
      ]
     },
     "execution_count": 7,
     "metadata": {},
     "output_type": "execute_result"
    }
   ],
   "source": [
    "np.int16(np.round(cumsum,2)*100)"
   ]
  },
  {
   "cell_type": "markdown",
   "id": "96462397",
   "metadata": {},
   "source": [
    "Above, we find the first index which reaches .95, then set index+1 to be the # of components"
   ]
  },
  {
   "cell_type": "markdown",
   "id": "6184dcc7",
   "metadata": {},
   "source": [
    "Thankfully, SKLearn has an argument for this"
   ]
  },
  {
   "cell_type": "code",
   "execution_count": 8,
   "id": "ee3c5cbb",
   "metadata": {},
   "outputs": [],
   "source": [
    "pca = PCA(n_components=0.95)\n",
    "X_reduced = pca.fit_transform(X_train)"
   ]
  },
  {
   "cell_type": "code",
   "execution_count": 9,
   "id": "363949fd",
   "metadata": {},
   "outputs": [],
   "source": [
    "import matplotlib.pyplot as plt\n",
    "%matplotlib inline"
   ]
  },
  {
   "cell_type": "code",
   "execution_count": 10,
   "id": "aefa3917",
   "metadata": {},
   "outputs": [
    {
     "data": {
      "image/png": "[encoded data removed]",
      "text/plain": [
       "<Figure size 640x480 with 1 Axes>"
      ]
     },
     "metadata": {},
     "output_type": "display_data"
    }
   ],
   "source": [
    "plt.plot(cumsum, linewidth=3)\n",
    "\n",
    "plt.plot([d, d], [0, 0.95], \"k:\")\n",
    "plt.plot([0, d], [0.95, 0.95], \"k:\")\n",
    "plt.plot(d, .95, \"ko\")\n",
    "\n",
    "plt.show()"
   ]
  },
  {
   "cell_type": "code",
   "execution_count": 11,
   "id": "59d04ff2",
   "metadata": {},
   "outputs": [
    {
     "data": {
      "text/plain": [
       "154"
      ]
     },
     "execution_count": 11,
     "metadata": {},
     "output_type": "execute_result"
    }
   ],
   "source": [
    "len(pca.explained_variance_ratio_)"
   ]
  },
  {
   "cell_type": "code",
   "execution_count": 12,
   "id": "d1af1845",
   "metadata": {},
   "outputs": [
    {
     "data": {
      "text/plain": [
       "5.090909090909091"
      ]
     },
     "execution_count": 12,
     "metadata": {},
     "output_type": "execute_result"
    }
   ],
   "source": [
    "X.shape[1]/X_reduced.shape[1]"
   ]
  },
  {
   "cell_type": "markdown",
   "id": "8d52b78e",
   "metadata": {},
   "source": [
    "## Incremental PCA"
   ]
  },
  {
   "cell_type": "markdown",
   "id": "2cb050a2",
   "metadata": {},
   "source": [
    "The PCA implementations requre the entire training set to fit in memory for the application to run. Incremental PCA (IPCA) allows for one to split the training set into mini-batches and feed the algorithm one batch at a time.\n",
    "\n"
   ]
  },
  {
   "cell_type": "code",
   "execution_count": 13,
   "id": "1c52f26a",
   "metadata": {},
   "outputs": [],
   "source": [
    "from sklearn.decomposition import IncrementalPCA\n",
    "\n",
    "n_batches = 100\n",
    "inc_pca = IncrementalPCA(n_components=154)\n",
    "for X_batch in np.array_split(X_train, n_batches):\n",
    "    inc_pca.partial_fit(X_batch)\n",
    "    \n",
    "X_reduced = inc_pca.transform(X_train)"
   ]
  },
  {
   "cell_type": "markdown",
   "id": "fe109257",
   "metadata": {},
   "source": [
    "## Kernel PCA (kPCA)"
   ]
  },
  {
   "cell_type": "markdown",
   "id": "fe06f2d3",
   "metadata": {},
   "source": [
    "Projects instances into a high-dimensional space (called *feature space*) that enables nonlinear classification and regression with Support Vector Machines)"
   ]
  },
  {
   "cell_type": "markdown",
   "id": "e8f15283",
   "metadata": {},
   "source": [
    "## Selecting a Kernel"
   ]
  },
  {
   "cell_type": "markdown",
   "id": "b2da9d78",
   "metadata": {},
   "source": [
    "kPCA is an unsupervised learning algorithm, so there are no obvious performance measures to select the best kernel and hyperparameter values."
   ]
  },
  {
   "cell_type": "markdown",
   "id": "22b9b63f",
   "metadata": {},
   "source": [
    "Often, dimensionality reduction is used before a supervised learning task like classification."
   ]
  },
  {
   "cell_type": "markdown",
   "id": "cecfcd35",
   "metadata": {},
   "source": [
    "`GridSearchCV` can be used to find the best gamma values and kernels"
   ]
  },
  {
   "cell_type": "markdown",
   "id": "b1130ede",
   "metadata": {},
   "source": [
    "Selecting the kernel and hyperparamters that yield the lowest reconstruction error is another option"
   ]
  },
  {
   "cell_type": "markdown",
   "id": "fc617b2e",
   "metadata": {},
   "source": [
    "The `fit_inverse_transform` parameter trains a supervised regression model with projected instances as the training set and original instances as the targets. This allows for the `inverse_transform` function."
   ]
  },
  {
   "cell_type": "code",
   "execution_count": 14,
   "id": "e0e8d555",
   "metadata": {},
   "outputs": [],
   "source": [
    "from sklearn.decomposition import KernelPCA\n",
    "rbf_pca = KernelPCA(n_components = 2, kernel = \"rbf\", gamma=.0433,\n",
    "                   fit_inverse_transform=True)"
   ]
  },
  {
   "cell_type": "code",
   "execution_count": null,
   "id": "19a4ed7c",
   "metadata": {},
   "outputs": [],
   "source": [
    "X_reduced = rbf_pca.fit_transform(X)\n",
    "X_preimage = rbf.inverse_transform(X_reduced)"
   ]
  },
  {
   "cell_type": "markdown",
   "id": "dffd3346",
   "metadata": {},
   "source": [
    "### This is the reconstructon error"
   ]
  },
  {
   "cell_type": "code",
   "execution_count": null,
   "id": "aa380c1b",
   "metadata": {},
   "outputs": [],
   "source": [
    "from sklearn.metric import mean_squared_error\n",
    "mean_squared_error(X, X_preimage"
   ]
  },
  {
   "cell_type": "code",
   "execution_count": null,
   "id": "032b4f2b",
   "metadata": {},
   "outputs": [],
   "source": []
  }
 ],
 "metadata": {
  "kernelspec": {
   "display_name": "Python 3 (ipykernel)",
   "language": "python",
   "name": "python3"
  },
  "language_info": {
   "codemirror_mode": {
    "name": "ipython",
    "version": 3
   },
   "file_extension": ".py",
   "mimetype": "text/x-python",
   "name": "python",
   "nbconvert_exporter": "python",
   "pygments_lexer": "ipython3",
   "version": "3.11.0"
  }
 },
 "nbformat": 4,
 "nbformat_minor": 5
}
