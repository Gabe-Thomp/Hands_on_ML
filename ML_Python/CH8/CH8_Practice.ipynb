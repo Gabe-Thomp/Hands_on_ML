{
 "cells": [
  {
   "cell_type": "markdown",
   "id": "6cff7ee7",
   "metadata": {},
   "source": [
    "# Exercise 9 | Chapter 8"
   ]
  },
  {
   "cell_type": "markdown",
   "id": "53151766",
   "metadata": {},
   "source": [
    "Load the MNIST dataset (introduced in Chapter 3) and split it into a training set and a test set (take the first 60,000 instances for training, and the remaining 10,000 for testing). \n",
    "\n",
    "- Train a Random Forest classifier on the dataset and time how long it takes, then evaluate the resulting model on the test set. \n",
    "\n",
    "- Next, use PCA to reduce the dataset’s dimensionality, with an explained variance ratio of 95%. Train a new Random Forest classifier on the reduced dataset and see how long it takes. \n",
    "\n",
    "Was training much faster? Next, evaluate the classifier on the test set. How does it compare to the previous classifier?"
   ]
  },
  {
   "cell_type": "code",
   "execution_count": 3,
   "id": "394d8d19",
   "metadata": {},
   "outputs": [],
   "source": [
    "import numpy as np \n",
    "from sklearn.datasets import fetch_openml\n",
    "\n",
    "mnist = fetch_openml('mnist_784', version=1, as_frame=False, parser='auto')\n",
    "mnist.target = mnist.target.astype(np.uint8)\n",
    "\n",
    "X = mnist[\"data\"]\n",
    "y = mnist[\"target\"]\n",
    "\n",
    "from sklearn.model_selection import train_test_split\n",
    "\n",
    "\n",
    "X_train, X_test, y_train, y_test = train_test_split(X,y, test_size=(10/70))"
   ]
  },
  {
   "cell_type": "markdown",
   "id": "0f783eb3",
   "metadata": {},
   "source": [
    "## Review on Bias/Variance"
   ]
  },
  {
   "cell_type": "markdown",
   "id": "08b5249a",
   "metadata": {},
   "source": [
    "**Bias** is the error that comes with simplifying assumptions about the data. A *higher bias* comes from more assumptions about target data. For example, linear regressors make assumptions that the data is linear in some form, and typically have a **high bias**."
   ]
  },
  {
   "cell_type": "markdown",
   "id": "892fbefc",
   "metadata": {},
   "source": [
    "Examples of **low-bias** machine learning algorithms include: Decision Trees, k-Nearest Neighbors and Support Vector Machines.\n",
    "\n",
    "Examples of **high-bias** machine learning algorithms include: Linear Regression, Linear Discriminant Analysis and Logistic Regression."
   ]
  },
  {
   "cell_type": "markdown",
   "id": "89ffc1c3",
   "metadata": {},
   "source": [
    "**Variance** is the sensitvity of the model to changes in the training data. For example, KNN and random forest models are nonlinear and good at adapting to many datasets. Because of this, they have a **higher variance** and are more sensitve to changes in the training data."
   ]
  },
  {
   "cell_type": "markdown",
   "id": "173e9ae2",
   "metadata": {},
   "source": [
    "Examples of **low-variance** machine learning algorithms include: Linear Regression, Linear Discriminant Analysis and Logistic Regression.\n",
    "\n",
    "Examples of **high-variance** machine learning algorithms include: Decision Trees, k-Nearest Neighbors and Support Vector Machines."
   ]
  },
  {
   "cell_type": "markdown",
   "id": "25f65c42",
   "metadata": {},
   "source": [
    "## Bagging Classifiers"
   ]
  },
  {
   "cell_type": "markdown",
   "id": "cb916ae8",
   "metadata": {},
   "source": [
    "Instead of using *different training algorithms*, we can obtain diversity in different predictors by training them on different subsets of the data."
   ]
  },
  {
   "cell_type": "markdown",
   "id": "78aca6e7",
   "metadata": {},
   "source": [
    "When this is performed with replacement, this is called **bagging** (bootstrap aggregating)."
   ]
  },
  {
   "cell_type": "markdown",
   "id": "42f7a54f",
   "metadata": {},
   "source": [
    "Without replacement, this is called **pasting**"
   ]
  },
  {
   "cell_type": "markdown",
   "id": "6e6c61df",
   "metadata": {},
   "source": [
    "Generally, the net result is that the ensemble has a similar bias but a lower variance than a single predictor trained on the original training set."
   ]
  },
  {
   "cell_type": "code",
   "execution_count": 113,
   "id": "f270a4ee",
   "metadata": {
    "scrolled": true
   },
   "outputs": [
    {
     "data": {
      "text/plain": [
       "25.51847195625305"
      ]
     },
     "execution_count": 113,
     "metadata": {},
     "output_type": "execute_result"
    }
   ],
   "source": [
    "from sklearn.ensemble import RandomForestClassifier\n",
    "import time\n",
    "\n",
    "t0=time.time()\n",
    "forest_clf = RandomForestClassifier(n_estimators=500,\n",
    "                                   n_jobs=-1)\n",
    "forest_clf.fit(X_train, y_train)\n",
    "t1=time.time()\n",
    "\n",
    "t1-t0"
   ]
  },
  {
   "cell_type": "markdown",
   "id": "1e824519",
   "metadata": {},
   "source": [
    "### Time for trial 1"
   ]
  },
  {
   "cell_type": "code",
   "execution_count": 154,
   "id": "49310f83",
   "metadata": {},
   "outputs": [
    {
     "name": "stdout",
     "output_type": "stream",
     "text": [
      "Time for Trial 1: 70.1 sec\n"
     ]
    }
   ],
   "source": [
    "dt1 = t1-t0\n",
    "print(f\"Time for Trial 1: {np.round(dt1,1)} sec\")"
   ]
  },
  {
   "cell_type": "code",
   "execution_count": 129,
   "id": "2afd7726",
   "metadata": {},
   "outputs": [],
   "source": [
    "from sklearn.metrics import mean_squared_error\n",
    "y_pred_0 = forest_clf.predict(X_test)\n",
    "mse = mean_squared_error(y_test, y_pred_0)"
   ]
  },
  {
   "cell_type": "code",
   "execution_count": 153,
   "id": "16fa2fd9",
   "metadata": {},
   "outputs": [],
   "source": [
    "from sklearn.metrics import accuracy_score\n",
    "a1=accuracy_score(y_test, y_pred_0)"
   ]
  },
  {
   "cell_type": "code",
   "execution_count": 107,
   "id": "617bfc13",
   "metadata": {},
   "outputs": [],
   "source": [
    "from matplotlib import pyplot as plt\n",
    "%matplotlib inline\n",
    "\n",
    "pxl_weights = forest_clf.feature_importances_\n",
    "pxl_weights = pxl_weights.reshape([28,28]) # Reshapes to square"
   ]
  },
  {
   "cell_type": "code",
   "execution_count": 86,
   "id": "23a7779b",
   "metadata": {
    "scrolled": false
   },
   "outputs": [
    {
     "data": {
      "text/plain": [
       "Text(0.5, 1.0, 'Most Important Pixels in MNIST Dataset - Random Forest')"
      ]
     },
     "execution_count": 86,
     "metadata": {},
     "output_type": "execute_result"
    },
    {
     "data": {
      "image/png": "[encoded data removed]",
      "text/plain": [
       "<Figure size 640x480 with 2 Axes>"
      ]
     },
     "metadata": {},
     "output_type": "display_data"
    }
   ],
   "source": [
    "c = plt.imshow(pxl_weights, cmap='binary')\n",
    "plt.colorbar(c)\n",
    "plt.title(r\"Most Important Pixels in MNIST Dataset - Random Forest\")"
   ]
  },
  {
   "cell_type": "markdown",
   "id": "71108eb0",
   "metadata": {},
   "source": [
    "### With dimensionality reduction"
   ]
  },
  {
   "cell_type": "markdown",
   "id": "363197c8",
   "metadata": {},
   "source": [
    "### Principle component analysis"
   ]
  },
  {
   "cell_type": "code",
   "execution_count": 143,
   "id": "d7544490",
   "metadata": {},
   "outputs": [],
   "source": [
    "from sklearn.decomposition import PCA\n",
    "\n",
    "# Selects components that yield 95% of the original variance\n",
    "pca = PCA(n_components=.95)\n",
    "X_train_pca = pca.fit_transform(X_train)\n",
    "X_test_pca = pca.transform(X_test)"
   ]
  },
  {
   "cell_type": "code",
   "execution_count": 152,
   "id": "2eb27265",
   "metadata": {
    "scrolled": true
   },
   "outputs": [],
   "source": [
    "from sklearn.ensemble import RandomForestClassifier\n",
    "import time\n",
    "\n",
    "t0=time.time()\n",
    "forest_clf_pca = RandomForestClassifier(n_estimators=500,\n",
    "                                   n_jobs=-1)\n",
    "forest_clf_pca.fit(X_train_pca, y_train)\n",
    "t1=time.time()\n",
    "\n",
    "dt2=t1-t0"
   ]
  },
  {
   "cell_type": "markdown",
   "id": "57555835",
   "metadata": {},
   "source": [
    "### Time for trial 2"
   ]
  },
  {
   "cell_type": "code",
   "execution_count": 138,
   "id": "34c1aea2",
   "metadata": {},
   "outputs": [
    {
     "name": "stdout",
     "output_type": "stream",
     "text": [
      "Time for Trial 1: 69.0 sec\n"
     ]
    }
   ],
   "source": [
    "dt1 = t1-t0\n",
    "print(f\"Time for Trial 1: {np.round(dt1,1)} sec\")"
   ]
  },
  {
   "cell_type": "code",
   "execution_count": 155,
   "id": "380c5c39",
   "metadata": {},
   "outputs": [],
   "source": [
    "from sklearn.metrics import accuracy_score\n",
    "\n",
    "y_pred_1 = forest_clf_pca.predict(X_test_pca)\n",
    "a2=accuracy_score(y_test, y_pred_1)"
   ]
  },
  {
   "cell_type": "markdown",
   "id": "ca4f5b35",
   "metadata": {},
   "source": [
    "## Results"
   ]
  },
  {
   "cell_type": "code",
   "execution_count": 1,
   "id": "d2adcd52",
   "metadata": {},
   "outputs": [
    {
     "ename": "NameError",
     "evalue": "name 'dt1' is not defined",
     "output_type": "error",
     "traceback": [
      "\u001b[0;31m---------------------------------------------------------------------------\u001b[0m",
      "\u001b[0;31mNameError\u001b[0m                                 Traceback (most recent call last)",
      "Cell \u001b[0;32mIn[1], line 1\u001b[0m\n\u001b[0;32m----> 1\u001b[0m \u001b[38;5;28mprint\u001b[39m(\u001b[38;5;124mf\u001b[39m\u001b[38;5;124m\"\u001b[39m\u001b[38;5;124mTime without PCA: \u001b[39m\u001b[38;5;132;01m{\u001b[39;00m\u001b[43mdt1\u001b[49m\u001b[38;5;132;01m}\u001b[39;00m\u001b[38;5;130;01m\\n\u001b[39;00m\u001b[38;5;130;01m\\\u001b[39;00m\n\u001b[1;32m      2\u001b[0m \u001b[38;5;124mAccuracy without PCA: \u001b[39m\u001b[38;5;132;01m{\u001b[39;00ma1\u001b[38;5;132;01m}\u001b[39;00m\u001b[38;5;124m\"\u001b[39m)\n\u001b[1;32m      3\u001b[0m \u001b[38;5;28mprint\u001b[39m(\u001b[38;5;124mf\u001b[39m\u001b[38;5;124m\"\u001b[39m\u001b[38;5;124mTime with PCA: \u001b[39m\u001b[38;5;132;01m{\u001b[39;00mdt2\u001b[38;5;132;01m}\u001b[39;00m\u001b[38;5;130;01m\\n\u001b[39;00m\u001b[38;5;130;01m\\\u001b[39;00m\n\u001b[1;32m      4\u001b[0m \u001b[38;5;124mAccuracy with PCA: \u001b[39m\u001b[38;5;132;01m{\u001b[39;00ma2\u001b[38;5;132;01m}\u001b[39;00m\u001b[38;5;124m\"\u001b[39m)\n",
      "\u001b[0;31mNameError\u001b[0m: name 'dt1' is not defined"
     ]
    }
   ],
   "source": [
    "print(f\"Time without PCA: {dt1}\\n\\\n",
    "Accuracy without PCA: {a1}\")\n",
    "print(f\"Time with PCA: {dt2}\\n\\\n",
    "Accuracy with PCA: {a2}\")"
   ]
  },
  {
   "cell_type": "markdown",
   "id": "d6a1a4b6",
   "metadata": {},
   "source": [
    "# Exercise 10 | Chapter 8"
   ]
  },
  {
   "cell_type": "markdown",
   "id": "e9bef700",
   "metadata": {},
   "source": [
    "Use t-SNE to reduce the MNIST dataset down to two dimensions and plot the result using Matplotlib. You can use a scatterplot using 10 different colors to rep‐ resent each image’s target class. Alternatively, you can replace each dot in the scatterplot with the corresponding instance’s class (a digit from 0 to 9), or even plot scaled-down versions of the digit images themselves (if you plot all digits, the visualization will be too cluttered, so you should either draw a random sam‐ ple or plot an instance only if no other instance has already been plotted at a close distance). You should get a nice visualization with well-separated clusters of digits. Try using other dimensionality reduction algorithms such as PCA, LLE, or MDS and compare the resulting visualizations."
   ]
  },
  {
   "cell_type": "code",
   "execution_count": 1,
   "id": "a9b745a9",
   "metadata": {},
   "outputs": [],
   "source": [
    "from matplotlib import pyplot as plt\n",
    "%matplotlib inline"
   ]
  },
  {
   "cell_type": "code",
   "execution_count": 2,
   "id": "0abdb62c",
   "metadata": {},
   "outputs": [
    {
     "ename": "NameError",
     "evalue": "name 'X_train' is not defined",
     "output_type": "error",
     "traceback": [
      "\u001b[0;31m---------------------------------------------------------------------------\u001b[0m",
      "\u001b[0;31mNameError\u001b[0m                                 Traceback (most recent call last)",
      "Cell \u001b[0;32mIn[2], line 7\u001b[0m\n\u001b[1;32m      4\u001b[0m t0 \u001b[38;5;241m=\u001b[39m time\u001b[38;5;241m.\u001b[39mtime()\n\u001b[1;32m      5\u001b[0m tsne_reducer \u001b[38;5;241m=\u001b[39m TSNE(n_jobs\u001b[38;5;241m=\u001b[39m\u001b[38;5;241m-\u001b[39m\u001b[38;5;241m1\u001b[39m, verbose\u001b[38;5;241m=\u001b[39m\u001b[38;5;241m1\u001b[39m, n_iter\u001b[38;5;241m=\u001b[39m\u001b[38;5;241m500\u001b[39m)\n\u001b[0;32m----> 7\u001b[0m X_train_tsred \u001b[38;5;241m=\u001b[39m tsne_reducer\u001b[38;5;241m.\u001b[39mfit_transform(\u001b[43mX_train\u001b[49m)\n\u001b[1;32m      9\u001b[0m t1 \u001b[38;5;241m=\u001b[39m time\u001b[38;5;241m.\u001b[39mtime()\n\u001b[1;32m     10\u001b[0m dt \u001b[38;5;241m=\u001b[39m t1\u001b[38;5;241m-\u001b[39mt0\n",
      "\u001b[0;31mNameError\u001b[0m: name 'X_train' is not defined"
     ]
    }
   ],
   "source": [
    "import time\n",
    "from sklearn.manifold import TSNE\n",
    "\n",
    "t0 = time.time()\n",
    "tsne_reducer = TSNE(n_jobs=-1, verbose=1, n_iter=500)\n",
    "\n",
    "X_train_tsred = tsne_reducer.fit_transform(X_train)\n",
    "\n",
    "t1 = time.time()\n",
    "dt = t1-t0\n",
    "\n",
    "X_test_tsred = tsne_reducer.transform(X_test)\n"
   ]
  },
  {
   "cell_type": "code",
   "execution_count": null,
   "id": "cdfdfd10",
   "metadata": {},
   "outputs": [],
   "source": [
    "c=plt.scatter(X_train_tsred[:,0], X_train_tsred[:,1],alpha=.01,c=y_train)\n",
    "plt.colorbar(c)"
   ]
  },
  {
   "cell_type": "code",
   "execution_count": null,
   "id": "45371b29",
   "metadata": {},
   "outputs": [],
   "source": [
    "import pandas as pd\n",
    "X_train_pd = pd.DataFrame(X_train_tsred)\n",
    "X_train_pd['ys'] = y_train"
   ]
  },
  {
   "cell_type": "code",
   "execution_count": null,
   "id": "4af551c7",
   "metadata": {},
   "outputs": [],
   "source": [
    "fig, ax = plt.subplots(figsize=(6, 6))\n",
    "colors_map = {1:'tab:blue', 2:'tab:orange', 3:'tab:green', 4:'tab:red', 5:'tab:purple', 6:'tab:brown', \n",
    "              7:'tab:pink', 8:'tab:grey', 9:'black',0:'maroon'}\n",
    "c=plt.scatter(X_train_tsred[:,0], X_train_tsred[:,1],alpha=.02,c=X_train_pd['ys'].map(colors_map))\n",
    "\n",
    "handles = [Line2D([0], [0], marker='o', color='w', markerfacecolor=v, label=k, markersize=8) for k, v in colors_map.items()]\n",
    "ax.legend(title='color', handles=handles, bbox_to_anchor=(1.05, 1), loc='upper left')\n",
    "\n",
    "plt.show()"
   ]
  },
  {
   "cell_type": "code",
   "execution_count": null,
   "id": "4e37cb5e",
   "metadata": {},
   "outputs": [],
   "source": [
    "X_train_pd['ys'].map(colors_map).value_counts()"
   ]
  },
  {
   "cell_type": "code",
   "execution_count": null,
   "id": "c4e374ac",
   "metadata": {},
   "outputs": [],
   "source": [
    "df['color'].map(colors).value_counts()"
   ]
  },
  {
   "cell_type": "code",
   "execution_count": null,
   "id": "f4e69889",
   "metadata": {},
   "outputs": [],
   "source": [
    "from sklearn.decomposition import PCA\n",
    "pca = PCA(n_components=2)\n",
    "X_train_pca = pca.fit_transform(X_train)\n",
    "\n",
    "X_train_pca_pd = pd.DataFrame(X_train_pca)\n",
    "X_train_pca_pd[\"ys\"] = y_train\n",
    "\n",
    "X_train_pca_pd[\"ys\"] = X_train_pca_pd[\"ys\"].map(colors_map)\n",
    "\n",
    "fig, ax = plt.subplots(figsize=(6, 6))\n",
    "\n",
    "c=plt.scatter(X_train_pca[:,0], X_train_pca[:,1],alpha=.02,c=X_train_pca_pd['ys'])\n",
    "\n",
    "handles = [Line2D([0], [0], marker='o', color='w', markerfacecolor=v, label=k, markersize=8) for k, v in colors_map.items()]\n",
    "ax.legend(title='color', handles=handles, bbox_to_anchor=(1.05, 1), loc='upper left')\n",
    "\n",
    "plt.show()"
   ]
  },
  {
   "cell_type": "code",
   "execution_count": null,
   "id": "36db8e7f",
   "metadata": {},
   "outputs": [],
   "source": [
    "from sklearn.decomposition import PCA\n",
    "pca = PCA(n_components=2)\n",
    "X_train_pca = pca.fit_transform(X_train)\n",
    "\n",
    "X_train_pca_pd = pd.DataFrame(X_train_pca)\n",
    "X_train_pca_pd[\"ys\"] = y_train\n",
    "\n",
    "X_train_pca_pd[\"ys\"] = X_train_pca_pd[\"ys\"].map(colors_map)\n",
    "\n",
    "fig, ax = plt.subplots(figsize=(6, 6))\n",
    "\n",
    "c=plt.scatter(X_train_pca[:,0], X_train_pca[:,1],alpha=.02,c=X_train_pca_pd['ys'])\n",
    "\n",
    "handles = [Line2D([0], [0], marker='o', color='w', markerfacecolor=v, label=k, markersize=8) for k, v in colors_map.items()]\n",
    "ax.legend(title='color', handles=handles, bbox_to_anchor=(1.05, 1), loc='upper left')\n",
    "\n",
    "plt.show()"
   ]
  },
  {
   "cell_type": "code",
   "execution_count": null,
   "id": "e15c78e7",
   "metadata": {},
   "outputs": [],
   "source": [
    "from sklearn.manifold import LocallyLinearEmbedding\n",
    "lle = LocallyLinearEmbedding(n_components=2, n_neighbors=10)\n",
    "X_reduced = lle.fit_transform(X[:20000])"
   ]
  },
  {
   "cell_type": "code",
   "execution_count": null,
   "id": "001a34c3",
   "metadata": {},
   "outputs": [],
   "source": [
    "X_pd_lle = pd.Dataframe(X_reduced)\n",
    "X_pd_lle[\"ys\"] = y[:20000]\n",
    "X_pd_lle[\"ys\"] = X_pd_lle.map(colors_map)"
   ]
  }
 ],
 "metadata": {
  "kernelspec": {
   "display_name": "Python 3 (ipykernel)",
   "language": "python",
   "name": "python3"
  },
  "language_info": {
   "codemirror_mode": {
    "name": "ipython",
    "version": 3
   },
   "file_extension": ".py",
   "mimetype": "text/x-python",
   "name": "python",
   "nbconvert_exporter": "python",
   "pygments_lexer": "ipython3",
   "version": "3.11.0"
  }
 },
 "nbformat": 4,
 "nbformat_minor": 5
}
