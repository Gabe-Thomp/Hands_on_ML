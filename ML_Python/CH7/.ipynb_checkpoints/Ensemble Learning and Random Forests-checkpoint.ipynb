{
 "cells": [
  {
   "cell_type": "markdown",
   "id": "1cedea62",
   "metadata": {},
   "source": [
    "# Ensemble Learning and Random Forests "
   ]
  },
  {
   "cell_type": "markdown",
   "id": "ffb23cff",
   "metadata": {},
   "source": [
    "**Ensemble**: A group of predictors"
   ]
  },
  {
   "cell_type": "markdown",
   "id": "bee101ce",
   "metadata": {},
   "source": [
    "**Random Forest**: A group of decision trees"
   ]
  },
  {
   "cell_type": "markdown",
   "id": "3abd9af4",
   "metadata": {},
   "source": [
    "A *weak learner*, which is an algorithm that only gets better than random guessing, can become a *strong learner* (good guesser) when combined with many other *weak learners*."
   ]
  },
  {
   "cell_type": "markdown",
   "id": "faea616d",
   "metadata": {},
   "source": [
    "This is an example of the **law of large numbers**"
   ]
  },
  {
   "cell_type": "markdown",
   "id": "fc14f352",
   "metadata": {},
   "source": [
    "This is assuming that the models are uncorrelated, or that they make mistakes on uncorrelated errors. However, the same models will make *similar errors*! This is why very different algorithms put together make better predictions"
   ]
  },
  {
   "cell_type": "markdown",
   "id": "16fe656a",
   "metadata": {},
   "source": [
    "Below, a **voting classifier** is trained with three diverse classifiers"
   ]
  },
  {
   "cell_type": "code",
   "execution_count": 4,
   "id": "37efb2f6",
   "metadata": {},
   "outputs": [
    {
     "ename": "NameError",
     "evalue": "name 'X_train' is not defined",
     "output_type": "error",
     "traceback": [
      "\u001b[0;31m---------------------------------------------------------------------------\u001b[0m",
      "\u001b[0;31mNameError\u001b[0m                                 Traceback (most recent call last)",
      "Cell \u001b[0;32mIn[4], line 18\u001b[0m\n\u001b[1;32m     14\u001b[0m svm_clf \u001b[38;5;241m=\u001b[39m SVC()\n\u001b[1;32m     15\u001b[0m voting_clf \u001b[38;5;241m=\u001b[39m VotingClassifier(\n\u001b[1;32m     16\u001b[0m              estimators\u001b[38;5;241m=\u001b[39m[(\u001b[38;5;124m'\u001b[39m\u001b[38;5;124mlr\u001b[39m\u001b[38;5;124m'\u001b[39m, log_clf), (\u001b[38;5;124m'\u001b[39m\u001b[38;5;124mrf\u001b[39m\u001b[38;5;124m'\u001b[39m, rnd_clf), (\u001b[38;5;124m'\u001b[39m\u001b[38;5;124msvc\u001b[39m\u001b[38;5;124m'\u001b[39m, svm_clf)],\n\u001b[1;32m     17\u001b[0m              voting\u001b[38;5;241m=\u001b[39m\u001b[38;5;124m'\u001b[39m\u001b[38;5;124mhard\u001b[39m\u001b[38;5;124m'\u001b[39m)\n\u001b[0;32m---> 18\u001b[0m voting_clf\u001b[38;5;241m.\u001b[39mfit(\u001b[43mX_train\u001b[49m, y_train)\n",
      "\u001b[0;31mNameError\u001b[0m: name 'X_train' is not defined"
     ]
    }
   ],
   "source": [
    "from sklearn.ensemble import RandomForestClassifier \n",
    "from sklearn.ensemble import VotingClassifier\n",
    "from sklearn.linear_model import LogisticRegression \n",
    "from sklearn.svm import SVC\n",
    "from sklearn.datasets import load_iris\n",
    "from sklearn.model_selection import train_test_split\n",
    "\n",
    "iris = load_iris()\n",
    "X = iris.data[:, 2:] # petal length and width \n",
    "y = iris.target\n",
    "\n",
    "X_train, X_test, y_train, y_test = train_test_split()\n",
    "\n",
    "log_clf = LogisticRegression()\n",
    "rnd_clf = RandomForestClassifier()\n",
    "svm_clf = SVC()\n",
    "voting_clf = VotingClassifier(\n",
    "             estimators=[('lr', log_clf), ('rf', rnd_clf), ('svc', svm_clf)],\n",
    "             voting='hard')\n",
    "voting_clf.fit(X_train, y_train)"
   ]
  },
  {
   "cell_type": "code",
   "execution_count": null,
   "id": "b7648c21",
   "metadata": {},
   "outputs": [],
   "source": []
  }
 ],
 "metadata": {
  "kernelspec": {
   "display_name": "Python 3 (ipykernel)",
   "language": "python",
   "name": "python3"
  },
  "language_info": {
   "codemirror_mode": {
    "name": "ipython",
    "version": 3
   },
   "file_extension": ".py",
   "mimetype": "text/x-python",
   "name": "python",
   "nbconvert_exporter": "python",
   "pygments_lexer": "ipython3",
   "version": "3.11.0"
  }
 },
 "nbformat": 4,
 "nbformat_minor": 5
}
