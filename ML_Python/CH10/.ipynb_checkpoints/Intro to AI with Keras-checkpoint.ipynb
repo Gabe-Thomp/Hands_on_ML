{
 "cells": [
  {
   "cell_type": "markdown",
   "id": "6bfed437",
   "metadata": {},
   "source": [
    "# Introduction to AI with Keras"
   ]
  },
  {
   "cell_type": "markdown",
   "id": "e917b609",
   "metadata": {},
   "source": [
    "### What have I learned reading the first part of the chapter?"
   ]
  },
  {
   "cell_type": "markdown",
   "id": "944e9712",
   "metadata": {},
   "source": [
    "AI did not become popular at first, though it was invented a relatively long time ago. This was due to a few factors such as relatively low computational power, a scalding paper by Marvin Minsky. Bereis made a recent come back with an increase in computing power which fueled increase in time money and research in the industry which creates a positive cycle or feedback loop. There have been a few ages of AI hype, which have come and gone and not lived up to the expectations. However it may be different this time with a release of chat GPT and other powerful AI tools. AI might be here to stay.\n",
    "\n",
    "The basic building block of an artificial neural network is the Perceptron. This is essentially a neuron but digital style. It takes input In the form of numbers that are multiplied by respective weights and computers to some of these numbers this song is then put through an activation function which relays a scalar. These neurons can be combined in many different ways. A single level perceptron schema is composed of input neurons with no weight attached to them and no activation function. These values are past two layers of perceptron's with various weights from these perceptron's the alpha values can go either into another perceptron layer or be harnessed right away in the case of a regression problem. There are typically bias neurons which relay a positive number to the output neurons no matter what.\n",
    "\n",
    "In a multi-layer perceptron schema there are what are called hidden layers between the input neurons and the output neurons. The systems are trained through a method known as back publication which consists of two parts: first, information is passed through the neural net work from the input neurons, through the hidden Iran's, and out of the output. From here the recorded values of each neuron are used in the back propagation step. Here the gradient of each output with respect to the error is calculated, and the gradient of each layer of deep neurons is calculated with respect to the hair as well. From here the entire gradient can be calculated and mini gradient descent process is used on each of these neurons. \n",
    "\n",
    "The number of inputting euros is equal to the number of input features. For example for the MNIST data set, there are 28 x 28 pixels. That means there would be a total of 28 squared, or 784 input features. There is one output neuron per each predictive dimension.\n",
    "\n",
    "There are a few functions that have been used in the past as activation functions for these neurons. Some work better than others with the gradient and are chosen for that reason. The logistic function or sigmoid function is used because it ranges from zero to one it has a continuous gradient on all input values. Discontinuity also goes for the hyperbolic tension function which looks similar to the logistic function ranges from -1 to 1. More recently however, the rectify linear unit function, or ReLU for short, has come into popularity for its computational simplicity and its nonlinearity over z < 0.\n",
    "\n",
    "The output layer can also have a function that is different than the activation function for the hidden layer. For example, many classification problems use a softmax output layer, which ensures that the probabilities are between 0 and 1 and add up to 1."
   ]
  },
  {
   "cell_type": "markdown",
   "id": "117b5923",
   "metadata": {},
   "source": [
    "# Classification MLP's"
   ]
  },
  {
   "cell_type": "markdown",
   "id": "ffd031bd",
   "metadata": {},
   "source": [
    "Review: Binary MLPs (Multilayer Perceptrons) can be used for *binary classification*, where a number between 0 and 1 is outputted that represents the likelihood of the class\n",
    "\n",
    "*Multilabel binary classification* - Many yes or no questions. For example, is this email spam? Is this email urgent?\n",
    "\n",
    "Multiclass Classification - If each instance belongs to a single class, you need one output neuron for each output. The softmax function is used to ensure that all probabilities in the output layer sum to 0.\n",
    "\n",
    "As for the loss function, the **cross-entropy loss (log loss)** is typically good. What is this again? The log of a probability is always negative because it is less than one. We take the negative of the log:\n",
    "\n",
    "$$\\text{log loss} = -1/N\\sum^N_{i=1}(\\log(P_i))$$\n",
    "\n",
    "Where $P_i$ is a corrected probability. When the actual value is 0, the model will ideally predict a float near zero, like $.13$. Because it typically predicts the positive class, the probability of the opposite class must be used. Here, $P_i = .87$\n",
    "\n"
   ]
  },
  {
   "cell_type": "code",
   "execution_count": 1,
   "id": "9144eeab",
   "metadata": {},
   "outputs": [],
   "source": [
    "import tensorflow as tf\n",
    "from tensorflow import keras"
   ]
  },
  {
   "cell_type": "markdown",
   "id": "567e2780",
   "metadata": {},
   "source": [
    "# We will do a sample classification with fashion items"
   ]
  },
  {
   "cell_type": "code",
   "execution_count": 2,
   "id": "0a248a6f",
   "metadata": {},
   "outputs": [],
   "source": [
    "fashion_mnist = keras.datasets.fashion_mnist\n",
    "(X_train_full, y_train_full), (X_test, y_test) = fashion_mnist.load_data()"
   ]
  },
  {
   "cell_type": "markdown",
   "id": "ec7edc41",
   "metadata": {},
   "source": [
    "## 60,000 images, each a 28x28 pixel array w/ a number from 0-255 representing grayscale intensity"
   ]
  },
  {
   "cell_type": "code",
   "execution_count": 4,
   "id": "819cafbc",
   "metadata": {},
   "outputs": [
    {
     "data": {
      "text/plain": [
       "((60000, 28, 28), (10000, 28, 28))"
      ]
     },
     "execution_count": 4,
     "metadata": {},
     "output_type": "execute_result"
    }
   ],
   "source": [
    "X_train_full.shape, X_test.shape"
   ]
  },
  {
   "cell_type": "markdown",
   "id": "bef7cab3",
   "metadata": {},
   "source": [
    "### Need validation set, scale features"
   ]
  },
  {
   "cell_type": "markdown",
   "id": "fdb61eed",
   "metadata": {},
   "source": [
    "Must scale the input features because we are working with Gradient Descent. We will just divide by 255 to make it between 0 and 1"
   ]
  },
  {
   "cell_type": "code",
   "execution_count": 4,
   "id": "75de5e74",
   "metadata": {},
   "outputs": [],
   "source": [
    "X_valid, X_train = X_train_full[:5000] / 255.0, X_train_full[5000:] / 255.0\n",
    "y_valid, y_train = y_train_full[:5000], y_train_full[5000:]\n",
    "X_test = X_test / 255.0\n",
    "\n",
    "class_names = [\"T-shirt/top\", \"Trouser\", \"Pullover\", \"Dress\", \"Coat\",\n",
    "                        \"Sandal\", \"Shirt\", \"Sneaker\", \"Bag\", \"Ankle boot\"]"
   ]
  },
  {
   "cell_type": "markdown",
   "id": "ee9ab052",
   "metadata": {},
   "source": [
    "## Creating a Model!"
   ]
  },
  {
   "cell_type": "markdown",
   "id": "f3b5e2d8",
   "metadata": {},
   "source": [
    "Line by line:\n",
    "1) Creates a `Sequential` model. Composed of single stacks of layers connected sequentially.\n",
    "2) Add first layer to model. `Flatten` layer converts each image into a 1D array\n",
    "3) Adds a Dense hidden layer w/ 300 neurons \n",
    "4) Adds a second Dense hidden layer w/ 100 neurons\n",
    "5) Adds a final Dense output layer w/ 10 neurons for each class using softmax because classes are exclusive\n"
   ]
  },
  {
   "cell_type": "code",
   "execution_count": 5,
   "id": "aef28ea8",
   "metadata": {},
   "outputs": [],
   "source": [
    "model = keras.models.Sequential()\n",
    "model.add(keras.layers.Flatten(input_shape=[28,28]))\n",
    "model.add(keras.layers.Dense(300, activation=\"relu\"))\n",
    "model.add(keras.layers.Dense(100, activation=\"relu\"))\n",
    "model.add(keras.layers.Dense(10, activation=\"softmax\"))"
   ]
  },
  {
   "cell_type": "markdown",
   "id": "6d48c309",
   "metadata": {},
   "source": [
    "### or"
   ]
  },
  {
   "cell_type": "code",
   "execution_count": 6,
   "id": "ccd63422",
   "metadata": {},
   "outputs": [],
   "source": [
    "model = keras.models.Sequential([\n",
    "    keras.layers.Flatten(input_shape=[28,28]),\n",
    "    keras.layers.Dense(300, activation=\"relu\"),\n",
    "    keras.layers.Dense(100, activation=\"relu\"),\n",
    "    keras.layers.Dense(10, activation=\"softmax\")\n",
    "])"
   ]
  },
  {
   "cell_type": "code",
   "execution_count": 7,
   "id": "a347711e",
   "metadata": {},
   "outputs": [
    {
     "name": "stdout",
     "output_type": "stream",
     "text": [
      "Model: \"sequential_1\"\n",
      "_________________________________________________________________\n",
      " Layer (type)                Output Shape              Param #   \n",
      "=================================================================\n",
      " flatten_1 (Flatten)         (None, 784)               0         \n",
      "                                                                 \n",
      " dense_3 (Dense)             (None, 300)               235500    \n",
      "                                                                 \n",
      " dense_4 (Dense)             (None, 100)               30100     \n",
      "                                                                 \n",
      " dense_5 (Dense)             (None, 10)                1010      \n",
      "                                                                 \n",
      "=================================================================\n",
      "Total params: 266,610\n",
      "Trainable params: 266,610\n",
      "Non-trainable params: 0\n",
      "_________________________________________________________________\n"
     ]
    }
   ],
   "source": [
    "model.summary()"
   ]
  },
  {
   "cell_type": "markdown",
   "id": "912512c5",
   "metadata": {},
   "source": [
    "Dense layers have a *lot* of parameters! For layer 1, there are \n",
    "$$784\\text{ inputs} * 300\\text{ weights}+ 300\\text{ bias terms} = 235550$$"
   ]
  },
  {
   "cell_type": "code",
   "execution_count": 8,
   "id": "71833fd4",
   "metadata": {},
   "outputs": [
    {
     "data": {
      "text/plain": [
       "[<keras.layers.reshaping.flatten.Flatten at 0x1658a7280>,\n",
       " <keras.layers.core.dense.Dense at 0x1658a64d0>,\n",
       " <keras.layers.core.dense.Dense at 0x165df5210>,\n",
       " <keras.layers.core.dense.Dense at 0x165df6050>]"
      ]
     },
     "execution_count": 8,
     "metadata": {},
     "output_type": "execute_result"
    }
   ],
   "source": [
    "model.layers"
   ]
  },
  {
   "cell_type": "markdown",
   "id": "39edd570",
   "metadata": {},
   "source": [
    "Weights for model can be accessed with:"
   ]
  },
  {
   "cell_type": "code",
   "execution_count": 9,
   "id": "e4032043",
   "metadata": {},
   "outputs": [
    {
     "data": {
      "text/plain": [
       "'dense_3'"
      ]
     },
     "execution_count": 9,
     "metadata": {},
     "output_type": "execute_result"
    }
   ],
   "source": [
    "hidden1 = model.layers[1]\n",
    "hidden1.name"
   ]
  },
  {
   "cell_type": "code",
   "execution_count": 10,
   "id": "98aadbb2",
   "metadata": {},
   "outputs": [
    {
     "data": {
      "text/plain": [
       "(784, 300)"
      ]
     },
     "execution_count": 10,
     "metadata": {},
     "output_type": "execute_result"
    }
   ],
   "source": [
    "weights, biases = hidden1.get_weights()\n",
    "weights.shape"
   ]
  },
  {
   "cell_type": "code",
   "execution_count": 11,
   "id": "df7911d6",
   "metadata": {},
   "outputs": [
    {
     "data": {
      "text/plain": [
       "(300,)"
      ]
     },
     "execution_count": 11,
     "metadata": {},
     "output_type": "execute_result"
    }
   ],
   "source": [
    "biases.shape"
   ]
  },
  {
   "cell_type": "markdown",
   "id": "61683cd6",
   "metadata": {},
   "source": [
    "## Compiling the model"
   ]
  },
  {
   "cell_type": "markdown",
   "id": "3886759b",
   "metadata": {},
   "source": [
    "`sparse_categorical_crossentropy` is used for sparse labels (for each instance there is a target class index)"
   ]
  },
  {
   "cell_type": "code",
   "execution_count": 12,
   "id": "812a422d",
   "metadata": {},
   "outputs": [],
   "source": [
    "model.compile(loss = \"sparse_categorical_crossentropy\",\n",
    "             optimizer=\"sgd\",\n",
    "             metrics = [\"accuracy\"])"
   ]
  },
  {
   "cell_type": "code",
   "execution_count": 13,
   "id": "117a8dff",
   "metadata": {},
   "outputs": [
    {
     "name": "stdout",
     "output_type": "stream",
     "text": [
      "Epoch 1/30\n",
      "   1/1719 [..............................] - ETA: 3:55 - loss: 2.3681 - accuracy: 0.1250"
     ]
    },
    {
     "name": "stderr",
     "output_type": "stream",
     "text": [
      "2023-07-27 13:12:31.171471: W tensorflow/core/platform/profile_utils/cpu_utils.cc:128] Failed to get CPU frequency: 0 Hz\n"
     ]
    },
    {
     "name": "stdout",
     "output_type": "stream",
     "text": [
      "1719/1719 [==============================] - 2s 907us/step - loss: 0.7166 - accuracy: 0.7671 - val_loss: 0.5066 - val_accuracy: 0.8282\n",
      "Epoch 2/30\n",
      "1719/1719 [==============================] - 1s 841us/step - loss: 0.4906 - accuracy: 0.8297 - val_loss: 0.4548 - val_accuracy: 0.8468\n",
      "Epoch 3/30\n",
      "1719/1719 [==============================] - 1s 850us/step - loss: 0.4444 - accuracy: 0.8452 - val_loss: 0.4280 - val_accuracy: 0.8512\n",
      "Epoch 4/30\n",
      "1719/1719 [==============================] - 1s 854us/step - loss: 0.4147 - accuracy: 0.8544 - val_loss: 0.3910 - val_accuracy: 0.8646\n",
      "Epoch 5/30\n",
      "1719/1719 [==============================] - 1s 839us/step - loss: 0.3964 - accuracy: 0.8607 - val_loss: 0.3751 - val_accuracy: 0.8684\n",
      "Epoch 6/30\n",
      "1719/1719 [==============================] - 1s 842us/step - loss: 0.3799 - accuracy: 0.8661 - val_loss: 0.3729 - val_accuracy: 0.8700\n",
      "Epoch 7/30\n",
      "1719/1719 [==============================] - 1s 842us/step - loss: 0.3665 - accuracy: 0.8702 - val_loss: 0.3675 - val_accuracy: 0.8736\n",
      "Epoch 8/30\n",
      "1719/1719 [==============================] - 1s 842us/step - loss: 0.3561 - accuracy: 0.8735 - val_loss: 0.3610 - val_accuracy: 0.8724\n",
      "Epoch 9/30\n",
      "1719/1719 [==============================] - 1s 841us/step - loss: 0.3454 - accuracy: 0.8783 - val_loss: 0.3874 - val_accuracy: 0.8570\n",
      "Epoch 10/30\n",
      "1719/1719 [==============================] - 1s 845us/step - loss: 0.3356 - accuracy: 0.8800 - val_loss: 0.3583 - val_accuracy: 0.8728\n",
      "Epoch 11/30\n",
      "1719/1719 [==============================] - 1s 847us/step - loss: 0.3273 - accuracy: 0.8838 - val_loss: 0.3412 - val_accuracy: 0.8770\n",
      "Epoch 12/30\n",
      "1719/1719 [==============================] - 1s 843us/step - loss: 0.3197 - accuracy: 0.8872 - val_loss: 0.3339 - val_accuracy: 0.8826\n",
      "Epoch 13/30\n",
      "1719/1719 [==============================] - 1s 843us/step - loss: 0.3124 - accuracy: 0.8881 - val_loss: 0.3355 - val_accuracy: 0.8788\n",
      "Epoch 14/30\n",
      "1719/1719 [==============================] - 1s 840us/step - loss: 0.3062 - accuracy: 0.8892 - val_loss: 0.3248 - val_accuracy: 0.8806\n",
      "Epoch 15/30\n",
      "1719/1719 [==============================] - 1s 840us/step - loss: 0.2991 - accuracy: 0.8933 - val_loss: 0.3249 - val_accuracy: 0.8830\n",
      "Epoch 16/30\n",
      "1719/1719 [==============================] - 1s 835us/step - loss: 0.2928 - accuracy: 0.8943 - val_loss: 0.3264 - val_accuracy: 0.8822\n",
      "Epoch 17/30\n",
      "1719/1719 [==============================] - 1s 837us/step - loss: 0.2870 - accuracy: 0.8976 - val_loss: 0.3211 - val_accuracy: 0.8852\n",
      "Epoch 18/30\n",
      "1719/1719 [==============================] - 1s 825us/step - loss: 0.2811 - accuracy: 0.8992 - val_loss: 0.3331 - val_accuracy: 0.8800\n",
      "Epoch 19/30\n",
      "1719/1719 [==============================] - 1s 823us/step - loss: 0.2765 - accuracy: 0.9005 - val_loss: 0.3334 - val_accuracy: 0.8790\n",
      "Epoch 20/30\n",
      "1719/1719 [==============================] - 1s 813us/step - loss: 0.2711 - accuracy: 0.9026 - val_loss: 0.3242 - val_accuracy: 0.8828\n",
      "Epoch 21/30\n",
      "1719/1719 [==============================] - 1s 817us/step - loss: 0.2667 - accuracy: 0.9031 - val_loss: 0.3193 - val_accuracy: 0.8840\n",
      "Epoch 22/30\n",
      "1719/1719 [==============================] - 1s 824us/step - loss: 0.2610 - accuracy: 0.9071 - val_loss: 0.3432 - val_accuracy: 0.8764\n",
      "Epoch 23/30\n",
      "1719/1719 [==============================] - 1s 825us/step - loss: 0.2570 - accuracy: 0.9066 - val_loss: 0.3209 - val_accuracy: 0.8824\n",
      "Epoch 24/30\n",
      "1719/1719 [==============================] - 1s 835us/step - loss: 0.2535 - accuracy: 0.9089 - val_loss: 0.2983 - val_accuracy: 0.8922\n",
      "Epoch 25/30\n",
      "1719/1719 [==============================] - 1s 840us/step - loss: 0.2480 - accuracy: 0.9098 - val_loss: 0.2979 - val_accuracy: 0.8932\n",
      "Epoch 26/30\n",
      "1719/1719 [==============================] - 1s 838us/step - loss: 0.2438 - accuracy: 0.9127 - val_loss: 0.3119 - val_accuracy: 0.8844\n",
      "Epoch 27/30\n",
      "1719/1719 [==============================] - 1s 840us/step - loss: 0.2404 - accuracy: 0.9122 - val_loss: 0.3005 - val_accuracy: 0.8946\n",
      "Epoch 28/30\n",
      "1719/1719 [==============================] - 1s 841us/step - loss: 0.2356 - accuracy: 0.9151 - val_loss: 0.2998 - val_accuracy: 0.8936\n",
      "Epoch 29/30\n",
      "1719/1719 [==============================] - 1s 843us/step - loss: 0.2322 - accuracy: 0.9174 - val_loss: 0.2959 - val_accuracy: 0.8936\n",
      "Epoch 30/30\n",
      "1719/1719 [==============================] - 1s 832us/step - loss: 0.2278 - accuracy: 0.9176 - val_loss: 0.3212 - val_accuracy: 0.8878\n"
     ]
    }
   ],
   "source": [
    "history = model.fit(X_train, y_train, epochs=30, \n",
    "                   validation_data=(X_valid, y_valid))"
   ]
  },
  {
   "cell_type": "code",
   "execution_count": 14,
   "id": "f1b79e70",
   "metadata": {},
   "outputs": [
    {
     "data": {
      "image/png": "[encoded data removed]",
      "text/plain": [
       "<Figure size 800x500 with 1 Axes>"
      ]
     },
     "metadata": {},
     "output_type": "display_data"
    }
   ],
   "source": [
    "import pandas as pd\n",
    "import matplotlib.pyplot as plt\n",
    "%matplotlib inline\n",
    "\n",
    "pd.DataFrame(history.history).plot(figsize=(8,5))\n",
    "plt.grid(True)\n",
    "plt.gca().set_ylim([0,1])\n",
    "plt.show()\n"
   ]
  },
  {
   "cell_type": "markdown",
   "id": "1b7bc52b",
   "metadata": {},
   "source": [
    "#### Cross Validation accuracy is Performed at the end of each epoch, while mean accuracy is performed throughout. Therefore, it must be shifted back .5 epochs to see if they match."
   ]
  },
  {
   "cell_type": "code",
   "execution_count": 15,
   "id": "d9455370",
   "metadata": {},
   "outputs": [],
   "source": [
    "accur = pd.DataFrame(history.history).accuracy\n",
    "\n",
    "accur.index = accur.index-.5\n"
   ]
  },
  {
   "cell_type": "code",
   "execution_count": 16,
   "id": "c20e032a",
   "metadata": {},
   "outputs": [
    {
     "data": {
      "image/png": "[encoded data removed]",
      "text/plain": [
       "<Figure size 640x480 with 1 Axes>"
      ]
     },
     "metadata": {},
     "output_type": "display_data"
    }
   ],
   "source": [
    "plt.plot(pd.concat([pd.DataFrame(history.history).drop(\"accuracy\", axis=1),\n",
    "                   accur], axis=1))\n",
    "plt.grid(True)\n",
    "plt.gca().set_ylim([0,1])\n",
    "plt.show()"
   ]
  },
  {
   "cell_type": "markdown",
   "id": "ac4cab9a",
   "metadata": {},
   "source": [
    "# Prediction"
   ]
  },
  {
   "cell_type": "markdown",
   "id": "49402385",
   "metadata": {},
   "source": [
    "Note: For each instance $$\\sum P = 1.0$$\n",
    "Probablities sum to 1"
   ]
  },
  {
   "cell_type": "code",
   "execution_count": 22,
   "id": "757431ae",
   "metadata": {},
   "outputs": [
    {
     "data": {
      "text/plain": [
       "['T-shirt/top',\n",
       " 'Trouser',\n",
       " 'Pullover',\n",
       " 'Dress',\n",
       " 'Coat',\n",
       " 'Sandal',\n",
       " 'Shirt',\n",
       " 'Sneaker',\n",
       " 'Bag',\n",
       " 'Ankle boot']"
      ]
     },
     "execution_count": 22,
     "metadata": {},
     "output_type": "execute_result"
    }
   ],
   "source": [
    "class_names"
   ]
  },
  {
   "cell_type": "code",
   "execution_count": 21,
   "id": "915c1c0f",
   "metadata": {
    "scrolled": true
   },
   "outputs": [
    {
     "name": "stdout",
     "output_type": "stream",
     "text": [
      "1/1 [==============================] - 0s 56ms/step\n"
     ]
    },
    {
     "data": {
      "text/plain": [
       "array([[0.  , 0.  , 0.  , 0.  , 0.  , 0.01, 0.  , 0.01, 0.  , 0.98],\n",
       "       [0.  , 0.  , 1.  , 0.  , 0.  , 0.  , 0.  , 0.  , 0.  , 0.  ],\n",
       "       [0.  , 1.  , 0.  , 0.  , 0.  , 0.  , 0.  , 0.  , 0.  , 0.  ]],\n",
       "      dtype=float32)"
      ]
     },
     "execution_count": 21,
     "metadata": {},
     "output_type": "execute_result"
    }
   ],
   "source": [
    "X_new = X_test[:3]\n",
    "y_proba = model.predict(X_new)\n",
    "y_proba.round(2)"
   ]
  },
  {
   "cell_type": "markdown",
   "id": "cea23b97",
   "metadata": {},
   "source": [
    "### Test Set"
   ]
  },
  {
   "cell_type": "code",
   "execution_count": 25,
   "id": "2299cda1",
   "metadata": {
    "scrolled": true
   },
   "outputs": [
    {
     "name": "stdout",
     "output_type": "stream",
     "text": [
      "313/313 [==============================] - 0s 515us/step - loss: 0.3492 - accuracy: 0.8753\n"
     ]
    },
    {
     "data": {
      "text/plain": [
       "[0.34916386008262634, 0.8752999901771545]"
      ]
     },
     "execution_count": 25,
     "metadata": {},
     "output_type": "execute_result"
    }
   ],
   "source": [
    "model.evaluate(X_test, y_test)"
   ]
  },
  {
   "cell_type": "markdown",
   "id": "86578ac6",
   "metadata": {},
   "source": [
    "### Training Set"
   ]
  },
  {
   "cell_type": "markdown",
   "id": "ce379ddf",
   "metadata": {},
   "source": [
    "Overfitting the Model a bit"
   ]
  },
  {
   "cell_type": "code",
   "execution_count": 83,
   "id": "ec103f59",
   "metadata": {},
   "outputs": [
    {
     "name": "stdout",
     "output_type": "stream",
     "text": [
      "363/363 [==============================] - 0s 297us/step - loss: nan\n"
     ]
    },
    {
     "data": {
      "text/plain": [
       "nan"
      ]
     },
     "execution_count": 83,
     "metadata": {},
     "output_type": "execute_result"
    }
   ],
   "source": [
    "model.evaluate(X_train, y_train)"
   ]
  },
  {
   "cell_type": "markdown",
   "id": "b5a407d8",
   "metadata": {},
   "source": [
    "# Regression MLP (Multilayer perceptron)"
   ]
  },
  {
   "cell_type": "markdown",
   "id": "ff4f05b8",
   "metadata": {},
   "source": [
    "We will use the California dataset to try out the regression neural network"
   ]
  },
  {
   "cell_type": "code",
   "execution_count": 84,
   "id": "5fdae628",
   "metadata": {},
   "outputs": [],
   "source": [
    "from sklearn.datasets import fetch_california_housing\n",
    "from sklearn.model_selection import train_test_split\n",
    "from sklearn.preprocessing import StandardScaler"
   ]
  },
  {
   "cell_type": "code",
   "execution_count": 85,
   "id": "e4ad8e10",
   "metadata": {},
   "outputs": [],
   "source": [
    "housing = fetch_california_housing()\n",
    "\n",
    "# Split 80, 20; train_full, test\n",
    "# 80, 20; train, cross validate\n",
    "X_train_full, X_test, y_train_full, y_test = train_test_split(\n",
    "    housing.data, housing.target)\n",
    "X_train, X_valid, y_train, y_valid = train_test_split(\n",
    "    X_train_full, y_train_full)\n",
    "\n",
    "# scale all input values\n",
    "scaler = StandardScaler()\n",
    "X_train = scaler.fit_transform(X_train)\n",
    "X_valid = scaler.transform(X_valid)\n",
    "X_test = scaler.transform(X_test)"
   ]
  },
  {
   "cell_type": "markdown",
   "id": "de6d92fc",
   "metadata": {},
   "source": [
    "### Model Architecture"
   ]
  },
  {
   "cell_type": "markdown",
   "id": "8e7d01a2",
   "metadata": {},
   "source": [
    "A *single* output neuron, as there is only one result being predicted. No final activation function, and the loss is MSE"
   ]
  },
  {
   "cell_type": "code",
   "execution_count": 86,
   "id": "d246aed6",
   "metadata": {},
   "outputs": [
    {
     "name": "stdout",
     "output_type": "stream",
     "text": [
      "Epoch 1/20\n",
      "363/363 [==============================] - 0s 538us/step - loss: 1.3027 - val_loss: 0.6017\n",
      "Epoch 2/20\n",
      "363/363 [==============================] - 0s 413us/step - loss: 0.5244 - val_loss: 0.4689\n",
      "Epoch 3/20\n",
      "363/363 [==============================] - 0s 415us/step - loss: 0.4284 - val_loss: 0.4155\n",
      "Epoch 4/20\n",
      "363/363 [==============================] - 0s 416us/step - loss: 0.4125 - val_loss: 0.4037\n",
      "Epoch 5/20\n",
      "363/363 [==============================] - 0s 412us/step - loss: 0.3822 - val_loss: 0.3898\n",
      "Epoch 6/20\n",
      "363/363 [==============================] - 0s 404us/step - loss: 0.3767 - val_loss: 0.3844\n",
      "Epoch 7/20\n",
      "363/363 [==============================] - 0s 407us/step - loss: 0.3977 - val_loss: 0.3864\n",
      "Epoch 8/20\n",
      "363/363 [==============================] - 0s 405us/step - loss: 0.3725 - val_loss: 0.3847\n",
      "Epoch 9/20\n",
      "363/363 [==============================] - 0s 401us/step - loss: 0.3702 - val_loss: 0.3840\n",
      "Epoch 10/20\n",
      "363/363 [==============================] - 0s 410us/step - loss: 0.3660 - val_loss: 0.3810\n",
      "Epoch 11/20\n",
      "363/363 [==============================] - 0s 415us/step - loss: 0.3657 - val_loss: 0.3787\n",
      "Epoch 12/20\n",
      "363/363 [==============================] - 0s 417us/step - loss: 0.3687 - val_loss: 0.3862\n",
      "Epoch 13/20\n",
      "363/363 [==============================] - 0s 406us/step - loss: 0.3657 - val_loss: 0.3820\n",
      "Epoch 14/20\n",
      "363/363 [==============================] - 0s 410us/step - loss: 0.3640 - val_loss: 0.3758\n",
      "Epoch 15/20\n",
      "363/363 [==============================] - 0s 405us/step - loss: 0.3614 - val_loss: 0.3727\n",
      "Epoch 16/20\n",
      "363/363 [==============================] - 0s 402us/step - loss: 0.3601 - val_loss: 0.3769\n",
      "Epoch 17/20\n",
      "363/363 [==============================] - 0s 405us/step - loss: 0.3586 - val_loss: 0.3697\n",
      "Epoch 18/20\n",
      "363/363 [==============================] - 0s 405us/step - loss: 0.3582 - val_loss: 0.3660\n",
      "Epoch 19/20\n",
      "363/363 [==============================] - 0s 413us/step - loss: 0.3553 - val_loss: 0.3744\n",
      "Epoch 20/20\n",
      "363/363 [==============================] - 0s 419us/step - loss: 0.3559 - val_loss: 0.3735\n",
      "162/162 [==============================] - 0s 279us/step - loss: 0.3638\n",
      "WARNING:tensorflow:5 out of the last 11 calls to <function Model.make_predict_function.<locals>.predict_function at 0x2b3bec3a0> triggered tf.function retracing. Tracing is expensive and the excessive number of tracings could be due to (1) creating @tf.function repeatedly in a loop, (2) passing tensors with different shapes, (3) passing Python objects instead of tensors. For (1), please define your @tf.function outside of the loop. For (2), @tf.function has reduce_retracing=True option that can avoid unnecessary retracing. For (3), please refer to https://www.tensorflow.org/guide/function#controlling_retracing and https://www.tensorflow.org/api_docs/python/tf/function for  more details.\n",
      "1/1 [==============================] - 0s 21ms/step\n"
     ]
    }
   ],
   "source": [
    "model = keras.models.Sequential([\n",
    "    keras.layers.Dense(30, activation=\"relu\", input_shape=X_train.shape[1:]),\n",
    "    keras.layers.Dense(1)\n",
    "])\n",
    "model.compile(loss=\"mean_squared_error\", optimizer=\"sgd\")\n",
    "history = model.fit(X_train, y_train, epochs=20,\n",
    "                   validation_data=(X_valid, y_valid))\n",
    "mse_test = model.evaluate(X_test, y_test)\n",
    "X_new = X_test[:3]\n",
    "y_pred = model.predict(X_new)"
   ]
  },
  {
   "cell_type": "code",
   "execution_count": 89,
   "id": "5d7a2b0d",
   "metadata": {
    "scrolled": true
   },
   "outputs": [
    {
     "name": "stdout",
     "output_type": "stream",
     "text": [
      "162/162 [==============================] - 0s 326us/step - loss: 0.3638\n"
     ]
    },
    {
     "data": {
      "text/plain": [
       "0.36380040645599365"
      ]
     },
     "execution_count": 89,
     "metadata": {},
     "output_type": "execute_result"
    }
   ],
   "source": [
    "model.evaluate(X_test, y_test)"
   ]
  },
  {
   "cell_type": "markdown",
   "id": "ff30871b",
   "metadata": {},
   "source": [
    "Can predict housing value"
   ]
  },
  {
   "cell_type": "code",
   "execution_count": 90,
   "id": "5adb6b82",
   "metadata": {
    "scrolled": true
   },
   "outputs": [
    {
     "name": "stdout",
     "output_type": "stream",
     "text": [
      "1/1 [==============================] - 0s 21ms/step\n"
     ]
    },
    {
     "data": {
      "text/plain": [
       "array([[2.0489855 ],\n",
       "       [0.50227916],\n",
       "       [1.9512308 ]], dtype=float32)"
      ]
     },
     "execution_count": 90,
     "metadata": {},
     "output_type": "execute_result"
    }
   ],
   "source": [
    "model.predict(X_test[:3])\n"
   ]
  },
  {
   "cell_type": "markdown",
   "id": "d620dc0e",
   "metadata": {},
   "source": [
    "# Wide and Deep Neural Networks"
   ]
  },
  {
   "cell_type": "markdown",
   "id": "ef40537a",
   "metadata": {},
   "source": [
    "Connects all or parts of the inputs to the output layer. This makes it possible for the network to learn \"*deep patterns*\" or \"*simple rules*\""
   ]
  },
  {
   "cell_type": "markdown",
   "id": "74cd19ba",
   "metadata": {},
   "source": [
    "Build one of these NN to tackle the California housing problem"
   ]
  },
  {
   "cell_type": "markdown",
   "id": "95b1d613",
   "metadata": {},
   "source": [
    "# Functional API"
   ]
  },
  {
   "cell_type": "markdown",
   "id": "b3a40a05",
   "metadata": {},
   "source": [
    "Called a **Functional API** because the layers are called like a function containing the input argument"
   ]
  },
  {
   "cell_type": "code",
   "execution_count": 61,
   "id": "9b085b92",
   "metadata": {},
   "outputs": [],
   "source": [
    "# Create an Input Object. Specifies the type of input\n",
    "input_ = keras.layers.Input(shape=X_train.shape[1:])\n",
    "\n",
    "# Creates a dense layer w/ 30 neurons using the ReLU activation function. It is passed the input\n",
    "hidden1 = keras.layers.Dense(30, activation=\"relu\")(input_)\n",
    "\n",
    "# Creates a second dense layer, passed the output of the previous layer above\n",
    "hidden2 = keras.layers.Dense(30, activation=\"relu\")(hidden1)\n",
    "\n",
    "# This concatenates the input and the output of the second hidden layer. \n",
    "# Essentially, passes both the input and the output of the second layer\n",
    "# directly to the output layer\n",
    "concat = keras.layers.Concatenate()([input_, hidden2])\n",
    "\n",
    "# Output accepts the concatenated \"inputs\"\n",
    "output = keras.layers.Dense(1)(concat)\n",
    "\n",
    "# Finally create a keras model that specifies which inputs and outputs to use\n",
    "model = keras.Model(inputs=[input_], outputs=[output])"
   ]
  },
  {
   "cell_type": "code",
   "execution_count": 91,
   "id": "39a0dca3",
   "metadata": {},
   "outputs": [
    {
     "name": "stdout",
     "output_type": "stream",
     "text": [
      "Epoch 1/20\n",
      "91/91 [==============================] - 0s 963us/step - loss: 0.3514 - val_loss: 0.3634\n",
      "Epoch 2/20\n",
      "91/91 [==============================] - 0s 529us/step - loss: 0.3502 - val_loss: 0.3632\n",
      "Epoch 3/20\n",
      "91/91 [==============================] - 0s 538us/step - loss: 0.3506 - val_loss: 0.3618\n",
      "Epoch 4/20\n",
      "91/91 [==============================] - 0s 527us/step - loss: 0.3499 - val_loss: 0.3621\n",
      "Epoch 5/20\n",
      "91/91 [==============================] - 0s 522us/step - loss: 0.3494 - val_loss: 0.3618\n",
      "Epoch 6/20\n",
      "91/91 [==============================] - 0s 516us/step - loss: 0.3496 - val_loss: 0.3641\n",
      "Epoch 7/20\n",
      "91/91 [==============================] - 0s 519us/step - loss: 0.3494 - val_loss: 0.3619\n",
      "Epoch 8/20\n",
      "91/91 [==============================] - 0s 524us/step - loss: 0.3488 - val_loss: 0.3605\n",
      "Epoch 9/20\n",
      "91/91 [==============================] - 0s 524us/step - loss: 0.3490 - val_loss: 0.3607\n",
      "Epoch 10/20\n",
      "91/91 [==============================] - 0s 540us/step - loss: 0.3488 - val_loss: 0.3606\n",
      "Epoch 11/20\n",
      "91/91 [==============================] - 0s 531us/step - loss: 0.3485 - val_loss: 0.3604\n",
      "Epoch 12/20\n",
      "91/91 [==============================] - 0s 543us/step - loss: 0.3484 - val_loss: 0.3617\n",
      "Epoch 13/20\n",
      "91/91 [==============================] - 0s 526us/step - loss: 0.3482 - val_loss: 0.3601\n",
      "Epoch 14/20\n",
      "91/91 [==============================] - 0s 522us/step - loss: 0.3477 - val_loss: 0.3604\n",
      "Epoch 15/20\n",
      "91/91 [==============================] - 0s 522us/step - loss: 0.3480 - val_loss: 0.3598\n",
      "Epoch 16/20\n",
      "91/91 [==============================] - 0s 535us/step - loss: 0.3474 - val_loss: 0.3592\n",
      "Epoch 17/20\n",
      "91/91 [==============================] - 0s 549us/step - loss: 0.3476 - val_loss: 0.3598\n",
      "Epoch 18/20\n",
      "91/91 [==============================] - 0s 529us/step - loss: 0.3467 - val_loss: 0.3606\n",
      "Epoch 19/20\n",
      "91/91 [==============================] - 0s 547us/step - loss: 0.3469 - val_loss: 0.3600\n",
      "Epoch 20/20\n",
      "91/91 [==============================] - 0s 565us/step - loss: 0.3473 - val_loss: 0.3601\n",
      "162/162 [==============================] - 0s 277us/step - loss: 0.3500\n"
     ]
    }
   ],
   "source": [
    "model.compile(optimizer=\"sgd\", loss=keras.losses.mean_squared_error)\n",
    "\n",
    "history = model.fit(X_train, y_train, validation_data=(X_valid, y_valid), \n",
    "                    epochs=20, batch_size=128)\n",
    "mse_test = model.evaluate(X_test, y_test)"
   ]
  },
  {
   "cell_type": "code",
   "execution_count": 92,
   "id": "5fa9864b",
   "metadata": {},
   "outputs": [
    {
     "data": {
      "text/plain": [
       "0.35001108050346375"
      ]
     },
     "execution_count": 92,
     "metadata": {},
     "output_type": "execute_result"
    }
   ],
   "source": [
    "mse_test"
   ]
  },
  {
   "cell_type": "markdown",
   "id": "24a7ecee",
   "metadata": {},
   "source": [
    "## Note:"
   ]
  },
  {
   "cell_type": "markdown",
   "id": "8e3324e5",
   "metadata": {},
   "source": [
    "Here, all of the input features go through both the wide path and the deep path. What if you want to send a subset of features through one path, and another subset through another path?"
   ]
  },
  {
   "cell_type": "markdown",
   "id": "46eb6801",
   "metadata": {},
   "source": [
    "Here, *two inputs* are created for both paths. The `deep_input` is sent through the deep path, and the resulting output from the two **dense, hidden layers** is concatenated with the wide input. This `concat` object is put into the output layer"
   ]
  },
  {
   "cell_type": "code",
   "execution_count": 93,
   "id": "20986493",
   "metadata": {},
   "outputs": [],
   "source": [
    "input_A = keras.layers.Input(shape=[5], name=\"wide_input\")\n",
    "input_B = keras.layers.Input(shape=[6], name=\"deep_input\")\n",
    "hidden1 = keras.layers.Dense(30, activation=\"relu\")(input_B)\n",
    "hidden2 = keras.layers.Dense(30, activation=\"relu\")(hidden1)\n",
    "concat = keras.layers.concatenate([input_A, hidden2])\n",
    "output = keras.layers.Dense(1, name=\"output\")(concat)\n",
    "model = keras.Model(inputs=[input_A, input_B], outputs=[output])"
   ]
  },
  {
   "cell_type": "markdown",
   "id": "70fcabba",
   "metadata": {},
   "source": [
    "Now, input comes in the form of features [0:4] and features [2:7]"
   ]
  },
  {
   "cell_type": "code",
   "execution_count": 108,
   "id": "ef267720",
   "metadata": {},
   "outputs": [
    {
     "name": "stdout",
     "output_type": "stream",
     "text": [
      "Epoch 1/20\n",
      " 1/91 [..............................] - ETA: 9s - loss: 0.4582"
     ]
    },
    {
     "name": "stderr",
     "output_type": "stream",
     "text": [
      "/opt/homebrew/Caskroom/miniforge/base/envs/DataScience/lib/python3.10/site-packages/keras/optimizers/optimizer_v2/gradient_descent.py:111: UserWarning: The `lr` argument is deprecated, use `learning_rate` instead.\n",
      "  super().__init__(name, **kwargs)\n"
     ]
    },
    {
     "name": "stdout",
     "output_type": "stream",
     "text": [
      "91/91 [==============================] - 0s 1ms/step - loss: 0.4847 - val_loss: 0.5030\n",
      "Epoch 2/20\n",
      "91/91 [==============================] - 0s 610us/step - loss: 0.4840 - val_loss: 0.5024\n",
      "Epoch 3/20\n",
      "91/91 [==============================] - 0s 593us/step - loss: 0.4833 - val_loss: 0.5018\n",
      "Epoch 4/20\n",
      "91/91 [==============================] - 0s 590us/step - loss: 0.4827 - val_loss: 0.5013\n",
      "Epoch 5/20\n",
      "91/91 [==============================] - 0s 588us/step - loss: 0.4820 - val_loss: 0.5005\n",
      "Epoch 6/20\n",
      "91/91 [==============================] - 0s 595us/step - loss: 0.4814 - val_loss: 0.4999\n",
      "Epoch 7/20\n",
      "91/91 [==============================] - 0s 589us/step - loss: 0.4807 - val_loss: 0.4995\n",
      "Epoch 8/20\n",
      "91/91 [==============================] - 0s 590us/step - loss: 0.4801 - val_loss: 0.4986\n",
      "Epoch 9/20\n",
      "91/91 [==============================] - 0s 593us/step - loss: 0.4794 - val_loss: 0.4982\n",
      "Epoch 10/20\n",
      "91/91 [==============================] - 0s 606us/step - loss: 0.4788 - val_loss: 0.4974\n",
      "Epoch 11/20\n",
      "91/91 [==============================] - 0s 616us/step - loss: 0.4782 - val_loss: 0.4968\n",
      "Epoch 12/20\n",
      "91/91 [==============================] - 0s 597us/step - loss: 0.4776 - val_loss: 0.4966\n",
      "Epoch 13/20\n",
      "91/91 [==============================] - 0s 597us/step - loss: 0.4769 - val_loss: 0.4958\n",
      "Epoch 14/20\n",
      "91/91 [==============================] - 0s 591us/step - loss: 0.4762 - val_loss: 0.4953\n",
      "Epoch 15/20\n",
      "91/91 [==============================] - 0s 587us/step - loss: 0.4757 - val_loss: 0.4947\n",
      "Epoch 16/20\n",
      "91/91 [==============================] - 0s 596us/step - loss: 0.4751 - val_loss: 0.4940\n",
      "Epoch 17/20\n",
      "91/91 [==============================] - 0s 616us/step - loss: 0.4745 - val_loss: 0.4934\n",
      "Epoch 18/20\n",
      "91/91 [==============================] - 0s 606us/step - loss: 0.4739 - val_loss: 0.4929\n",
      "Epoch 19/20\n",
      "91/91 [==============================] - 0s 613us/step - loss: 0.4733 - val_loss: 0.4924\n",
      "Epoch 20/20\n",
      "91/91 [==============================] - 0s 591us/step - loss: 0.4727 - val_loss: 0.4917\n",
      "162/162 [==============================] - 0s 304us/step - loss: 0.4785\n"
     ]
    }
   ],
   "source": [
    "model.compile(optimizer=keras.optimizers.SGD(lr=1e-3), loss='mse')\n",
    "\n",
    "X_train_a, X_train_b = X_train[:, :5], X_train[:, 2:8]\n",
    "X_test_a, X_test_b = X_test[:, :5], X_test[:, 2:8]\n",
    "X_valid_a, X_valid_b = X_valid[:, :5], X_valid[:, 2:8]\n",
    "X_new_a, X_new_b = X_test_a[:3], X_test_b[:3]\n",
    "\n",
    "history = model.fit( (X_train_a, X_train_b), y_train,\n",
    "                    validation_data=[(X_valid_a, X_valid_b), y_valid],\n",
    "                    epochs=20, batch_size=128)\n",
    "mse_test = model.evaluate((X_test_a, X_test_b), y_test)"
   ]
  },
  {
   "cell_type": "code",
   "execution_count": null,
   "id": "d93d2fda",
   "metadata": {},
   "outputs": [],
   "source": []
  }
 ],
 "metadata": {
  "kernelspec": {
   "display_name": "Python 3 (ipykernel)",
   "language": "python",
   "name": "python3"
  },
  "language_info": {
   "codemirror_mode": {
    "name": "ipython",
    "version": 3
   },
   "file_extension": ".py",
   "mimetype": "text/x-python",
   "name": "python",
   "nbconvert_exporter": "python",
   "pygments_lexer": "ipython3",
   "version": "3.10.8"
  }
 },
 "nbformat": 4,
 "nbformat_minor": 5
}
