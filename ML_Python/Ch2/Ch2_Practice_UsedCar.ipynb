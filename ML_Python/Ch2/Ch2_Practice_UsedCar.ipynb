{
 "cells": [
  {
   "cell_type": "markdown",
   "id": "b91db663",
   "metadata": {},
   "source": [
    "# ML Workflow Description"
   ]
  },
  {
   "cell_type": "markdown",
   "id": "1b68276e",
   "metadata": {},
   "source": [
    "### What is the goal?"
   ]
  },
  {
   "cell_type": "markdown",
   "id": "10bffa3e",
   "metadata": {},
   "source": [
    "Predict a used car's price from a data set."
   ]
  },
  {
   "cell_type": "markdown",
   "id": "4a4ef43a",
   "metadata": {},
   "source": [
    "**Steps:**\n",
    "- Import data\n",
    "- Explore data\n",
    "- Split into test/training set\n",
    "    - Stratified Sampling?\n",
    "- Separate categorical/numerical features\n",
    "- Create Pipeline\n",
    "    - Wrangle categorical data\n",
    "    - Handle missing Values\n",
    "    - Scale values\n",
    "    - Column transformer brings data back together\n",
    "- Train models\n",
    "    - Use cross-validation to select the best model\n",
    "    "
   ]
  },
  {
   "cell_type": "code",
   "execution_count": 1,
   "id": "f2a05485",
   "metadata": {},
   "outputs": [],
   "source": [
    "import os\n",
    "import numpy as np\n",
    "import pandas as pd\n",
    "import matplotlib.pyplot as plt\n",
    "%matplotlib inline"
   ]
  },
  {
   "cell_type": "code",
   "execution_count": 2,
   "id": "416e7dd2",
   "metadata": {},
   "outputs": [],
   "source": [
    "def load_car_data(car_path, filename):\n",
    "    return pd.read_csv( os.path.join(car_path,filename) )\n",
    "CAR_PATH = os.path.join('./datasets','cars')\n",
    "FILENAME = 'autos.csv'\n",
    "cars = load_car_data(CAR_PATH, FILENAME)"
   ]
  },
  {
   "cell_type": "code",
   "execution_count": 3,
   "id": "d8a2ca18",
   "metadata": {},
   "outputs": [
    {
     "data": {
      "text/html": [
       "<div>\n",
       "<style scoped>\n",
       "    .dataframe tbody tr th:only-of-type {\n",
       "        vertical-align: middle;\n",
       "    }\n",
       "\n",
       "    .dataframe tbody tr th {\n",
       "        vertical-align: top;\n",
       "    }\n",
       "\n",
       "    .dataframe thead th {\n",
       "        text-align: right;\n",
       "    }\n",
       "</style>\n",
       "<table border=\"1\" class=\"dataframe\">\n",
       "  <thead>\n",
       "    <tr style=\"text-align: right;\">\n",
       "      <th></th>\n",
       "      <th>index</th>\n",
       "      <th>dateCrawled</th>\n",
       "      <th>name</th>\n",
       "      <th>seller</th>\n",
       "      <th>offerType</th>\n",
       "      <th>price</th>\n",
       "      <th>abtest</th>\n",
       "      <th>vehicleType</th>\n",
       "      <th>yearOfRegistration</th>\n",
       "      <th>gearbox</th>\n",
       "      <th>...</th>\n",
       "      <th>model</th>\n",
       "      <th>kilometer</th>\n",
       "      <th>monthOfRegistration</th>\n",
       "      <th>fuelType</th>\n",
       "      <th>brand</th>\n",
       "      <th>notRepairedDamage</th>\n",
       "      <th>dateCreated</th>\n",
       "      <th>nrOfPictures</th>\n",
       "      <th>postalCode</th>\n",
       "      <th>lastSeen</th>\n",
       "    </tr>\n",
       "  </thead>\n",
       "  <tbody>\n",
       "    <tr>\n",
       "      <th>0</th>\n",
       "      <td>0</td>\n",
       "      <td>2016-03-24 11:52:17</td>\n",
       "      <td>Golf_3_1.6</td>\n",
       "      <td>privat</td>\n",
       "      <td>Angebot</td>\n",
       "      <td>480</td>\n",
       "      <td>test</td>\n",
       "      <td>NaN</td>\n",
       "      <td>1993</td>\n",
       "      <td>manuell</td>\n",
       "      <td>...</td>\n",
       "      <td>golf</td>\n",
       "      <td>150000</td>\n",
       "      <td>0</td>\n",
       "      <td>benzin</td>\n",
       "      <td>volkswagen</td>\n",
       "      <td>NaN</td>\n",
       "      <td>2016-03-24 00:00:00</td>\n",
       "      <td>0</td>\n",
       "      <td>70435</td>\n",
       "      <td>2016-04-07 03:16:57</td>\n",
       "    </tr>\n",
       "    <tr>\n",
       "      <th>1</th>\n",
       "      <td>1</td>\n",
       "      <td>2016-03-24 10:58:45</td>\n",
       "      <td>A5_Sportback_2.7_Tdi</td>\n",
       "      <td>privat</td>\n",
       "      <td>Angebot</td>\n",
       "      <td>18300</td>\n",
       "      <td>test</td>\n",
       "      <td>coupe</td>\n",
       "      <td>2011</td>\n",
       "      <td>manuell</td>\n",
       "      <td>...</td>\n",
       "      <td>NaN</td>\n",
       "      <td>125000</td>\n",
       "      <td>5</td>\n",
       "      <td>diesel</td>\n",
       "      <td>audi</td>\n",
       "      <td>ja</td>\n",
       "      <td>2016-03-24 00:00:00</td>\n",
       "      <td>0</td>\n",
       "      <td>66954</td>\n",
       "      <td>2016-04-07 01:46:50</td>\n",
       "    </tr>\n",
       "    <tr>\n",
       "      <th>2</th>\n",
       "      <td>2</td>\n",
       "      <td>2016-03-14 12:52:21</td>\n",
       "      <td>Jeep_Grand_Cherokee_\"Overland\"</td>\n",
       "      <td>privat</td>\n",
       "      <td>Angebot</td>\n",
       "      <td>9800</td>\n",
       "      <td>test</td>\n",
       "      <td>suv</td>\n",
       "      <td>2004</td>\n",
       "      <td>automatik</td>\n",
       "      <td>...</td>\n",
       "      <td>grand</td>\n",
       "      <td>125000</td>\n",
       "      <td>8</td>\n",
       "      <td>diesel</td>\n",
       "      <td>jeep</td>\n",
       "      <td>NaN</td>\n",
       "      <td>2016-03-14 00:00:00</td>\n",
       "      <td>0</td>\n",
       "      <td>90480</td>\n",
       "      <td>2016-04-05 12:47:46</td>\n",
       "    </tr>\n",
       "    <tr>\n",
       "      <th>3</th>\n",
       "      <td>3</td>\n",
       "      <td>2016-03-17 16:54:04</td>\n",
       "      <td>GOLF_4_1_4__3TÜRER</td>\n",
       "      <td>privat</td>\n",
       "      <td>Angebot</td>\n",
       "      <td>1500</td>\n",
       "      <td>test</td>\n",
       "      <td>kleinwagen</td>\n",
       "      <td>2001</td>\n",
       "      <td>manuell</td>\n",
       "      <td>...</td>\n",
       "      <td>golf</td>\n",
       "      <td>150000</td>\n",
       "      <td>6</td>\n",
       "      <td>benzin</td>\n",
       "      <td>volkswagen</td>\n",
       "      <td>nein</td>\n",
       "      <td>2016-03-17 00:00:00</td>\n",
       "      <td>0</td>\n",
       "      <td>91074</td>\n",
       "      <td>2016-03-17 17:40:17</td>\n",
       "    </tr>\n",
       "    <tr>\n",
       "      <th>4</th>\n",
       "      <td>4</td>\n",
       "      <td>2016-03-31 17:25:20</td>\n",
       "      <td>Skoda_Fabia_1.4_TDI_PD_Classic</td>\n",
       "      <td>privat</td>\n",
       "      <td>Angebot</td>\n",
       "      <td>3600</td>\n",
       "      <td>test</td>\n",
       "      <td>kleinwagen</td>\n",
       "      <td>2008</td>\n",
       "      <td>manuell</td>\n",
       "      <td>...</td>\n",
       "      <td>fabia</td>\n",
       "      <td>90000</td>\n",
       "      <td>7</td>\n",
       "      <td>diesel</td>\n",
       "      <td>skoda</td>\n",
       "      <td>nein</td>\n",
       "      <td>2016-03-31 00:00:00</td>\n",
       "      <td>0</td>\n",
       "      <td>60437</td>\n",
       "      <td>2016-04-06 10:17:21</td>\n",
       "    </tr>\n",
       "  </tbody>\n",
       "</table>\n",
       "<p>5 rows × 21 columns</p>\n",
       "</div>"
      ],
      "text/plain": [
       "   index          dateCrawled                            name  seller  \\\n",
       "0      0  2016-03-24 11:52:17                      Golf_3_1.6  privat   \n",
       "1      1  2016-03-24 10:58:45            A5_Sportback_2.7_Tdi  privat   \n",
       "2      2  2016-03-14 12:52:21  Jeep_Grand_Cherokee_\"Overland\"  privat   \n",
       "3      3  2016-03-17 16:54:04              GOLF_4_1_4__3TÜRER  privat   \n",
       "4      4  2016-03-31 17:25:20  Skoda_Fabia_1.4_TDI_PD_Classic  privat   \n",
       "\n",
       "  offerType  price abtest vehicleType  yearOfRegistration    gearbox  ...  \\\n",
       "0   Angebot    480   test         NaN                1993    manuell  ...   \n",
       "1   Angebot  18300   test       coupe                2011    manuell  ...   \n",
       "2   Angebot   9800   test         suv                2004  automatik  ...   \n",
       "3   Angebot   1500   test  kleinwagen                2001    manuell  ...   \n",
       "4   Angebot   3600   test  kleinwagen                2008    manuell  ...   \n",
       "\n",
       "   model kilometer  monthOfRegistration  fuelType       brand  \\\n",
       "0   golf    150000                    0    benzin  volkswagen   \n",
       "1    NaN    125000                    5    diesel        audi   \n",
       "2  grand    125000                    8    diesel        jeep   \n",
       "3   golf    150000                    6    benzin  volkswagen   \n",
       "4  fabia     90000                    7    diesel       skoda   \n",
       "\n",
       "  notRepairedDamage          dateCreated nrOfPictures  postalCode  \\\n",
       "0               NaN  2016-03-24 00:00:00            0       70435   \n",
       "1                ja  2016-03-24 00:00:00            0       66954   \n",
       "2               NaN  2016-03-14 00:00:00            0       90480   \n",
       "3              nein  2016-03-17 00:00:00            0       91074   \n",
       "4              nein  2016-03-31 00:00:00            0       60437   \n",
       "\n",
       "              lastSeen  \n",
       "0  2016-04-07 03:16:57  \n",
       "1  2016-04-07 01:46:50  \n",
       "2  2016-04-05 12:47:46  \n",
       "3  2016-03-17 17:40:17  \n",
       "4  2016-04-06 10:17:21  \n",
       "\n",
       "[5 rows x 21 columns]"
      ]
     },
     "execution_count": 3,
     "metadata": {},
     "output_type": "execute_result"
    }
   ],
   "source": [
    "cars.head()"
   ]
  },
  {
   "cell_type": "code",
   "execution_count": 4,
   "id": "88614786",
   "metadata": {
    "scrolled": true
   },
   "outputs": [
    {
     "name": "stdout",
     "output_type": "stream",
     "text": [
      "<class 'pandas.core.frame.DataFrame'>\n",
      "RangeIndex: 371528 entries, 0 to 371527\n",
      "Data columns (total 21 columns):\n",
      " #   Column               Non-Null Count   Dtype \n",
      "---  ------               --------------   ----- \n",
      " 0   index                371528 non-null  int64 \n",
      " 1   dateCrawled          371528 non-null  object\n",
      " 2   name                 371528 non-null  object\n",
      " 3   seller               371528 non-null  object\n",
      " 4   offerType            371528 non-null  object\n",
      " 5   price                371528 non-null  int64 \n",
      " 6   abtest               371528 non-null  object\n",
      " 7   vehicleType          333659 non-null  object\n",
      " 8   yearOfRegistration   371528 non-null  int64 \n",
      " 9   gearbox              351319 non-null  object\n",
      " 10  powerPS              371528 non-null  int64 \n",
      " 11  model                351044 non-null  object\n",
      " 12  kilometer            371528 non-null  int64 \n",
      " 13  monthOfRegistration  371528 non-null  int64 \n",
      " 14  fuelType             338142 non-null  object\n",
      " 15  brand                371528 non-null  object\n",
      " 16  notRepairedDamage    299468 non-null  object\n",
      " 17  dateCreated          371528 non-null  object\n",
      " 18  nrOfPictures         371528 non-null  int64 \n",
      " 19  postalCode           371528 non-null  int64 \n",
      " 20  lastSeen             371528 non-null  object\n",
      "dtypes: int64(8), object(13)\n",
      "memory usage: 59.5+ MB\n"
     ]
    }
   ],
   "source": [
    "columns = cars.columns\n",
    "cars.info()"
   ]
  },
  {
   "cell_type": "markdown",
   "id": "5079bce6",
   "metadata": {},
   "source": [
    "Drop seller"
   ]
  },
  {
   "cell_type": "code",
   "execution_count": 5,
   "id": "cbeaf834",
   "metadata": {},
   "outputs": [
    {
     "data": {
      "text/plain": [
       "privat        371525\n",
       "gewerblich         3\n",
       "Name: seller, dtype: int64"
      ]
     },
     "execution_count": 5,
     "metadata": {},
     "output_type": "execute_result"
    }
   ],
   "source": [
    "cars['seller'].value_counts()"
   ]
  },
  {
   "cell_type": "code",
   "execution_count": 6,
   "id": "4edeee0e",
   "metadata": {},
   "outputs": [],
   "source": [
    "cars.drop('seller',axis=1,inplace=True)"
   ]
  },
  {
   "cell_type": "markdown",
   "id": "e0bac9de",
   "metadata": {},
   "source": [
    "#### Replace 0 HP with NaN"
   ]
  },
  {
   "cell_type": "code",
   "execution_count": 7,
   "id": "fc34414f",
   "metadata": {},
   "outputs": [],
   "source": [
    "cars['powerPS'].replace(0,np.nan,inplace=True)"
   ]
  },
  {
   "cell_type": "markdown",
   "id": "eeb7187f",
   "metadata": {},
   "source": [
    "#### Drop Num of Pics"
   ]
  },
  {
   "cell_type": "code",
   "execution_count": 8,
   "id": "57903973",
   "metadata": {},
   "outputs": [],
   "source": [
    "cars.drop('nrOfPictures',axis=1,inplace=True)"
   ]
  },
  {
   "cell_type": "markdown",
   "id": "bd897a0e",
   "metadata": {},
   "source": [
    "#### Binary Gearbox"
   ]
  },
  {
   "cell_type": "code",
   "execution_count": 9,
   "id": "5c078a57",
   "metadata": {},
   "outputs": [
    {
     "data": {
      "text/plain": [
       "manuell      274214\n",
       "automatik     77105\n",
       "Name: gearbox, dtype: int64"
      ]
     },
     "execution_count": 9,
     "metadata": {},
     "output_type": "execute_result"
    }
   ],
   "source": [
    "cars['gearbox'].value_counts()"
   ]
  },
  {
   "cell_type": "markdown",
   "id": "87d42dd4",
   "metadata": {},
   "source": [
    "#### Binary abtest"
   ]
  },
  {
   "cell_type": "code",
   "execution_count": 10,
   "id": "b7c5e497",
   "metadata": {
    "scrolled": false
   },
   "outputs": [
    {
     "data": {
      "text/plain": [
       "test       192585\n",
       "control    178943\n",
       "Name: abtest, dtype: int64"
      ]
     },
     "execution_count": 10,
     "metadata": {},
     "output_type": "execute_result"
    }
   ],
   "source": [
    "cars['abtest'].value_counts()"
   ]
  },
  {
   "cell_type": "markdown",
   "id": "a818b217",
   "metadata": {},
   "source": [
    "#### Drop offerType"
   ]
  },
  {
   "cell_type": "code",
   "execution_count": 11,
   "id": "477c86c4",
   "metadata": {
    "scrolled": false
   },
   "outputs": [
    {
     "data": {
      "text/plain": [
       "Angebot    371516\n",
       "Gesuch         12\n",
       "Name: offerType, dtype: int64"
      ]
     },
     "execution_count": 11,
     "metadata": {},
     "output_type": "execute_result"
    }
   ],
   "source": [
    "cars['offerType'].value_counts()"
   ]
  },
  {
   "cell_type": "code",
   "execution_count": 12,
   "id": "f74d15ca",
   "metadata": {},
   "outputs": [],
   "source": [
    "# Drops offerType Column\n",
    "cars.drop('offerType',axis=1,inplace=True)"
   ]
  },
  {
   "cell_type": "code",
   "execution_count": 13,
   "id": "3a95baae",
   "metadata": {},
   "outputs": [],
   "source": [
    "cars.drop('dateCreated',axis=1,inplace=True)"
   ]
  },
  {
   "cell_type": "code",
   "execution_count": 14,
   "id": "ee3556d9",
   "metadata": {},
   "outputs": [],
   "source": [
    "cars.drop('dateCrawled',axis=1,inplace=True)"
   ]
  },
  {
   "cell_type": "code",
   "execution_count": 15,
   "id": "3a388f1f",
   "metadata": {},
   "outputs": [],
   "source": [
    "cars.drop('lastSeen',axis=1,inplace=True)"
   ]
  },
  {
   "cell_type": "markdown",
   "id": "24dfc365",
   "metadata": {},
   "source": [
    "#### Drop name axis as there are just too many names"
   ]
  },
  {
   "cell_type": "code",
   "execution_count": 16,
   "id": "38575607",
   "metadata": {},
   "outputs": [],
   "source": [
    "cars.drop('name',axis=1,inplace=True)"
   ]
  },
  {
   "cell_type": "markdown",
   "id": "d68e452a",
   "metadata": {},
   "source": [
    "#### Drop postal code just not worth it"
   ]
  },
  {
   "cell_type": "code",
   "execution_count": 17,
   "id": "1af81fb1",
   "metadata": {},
   "outputs": [],
   "source": [
    "cars.drop('postalCode',axis=1,inplace=True)"
   ]
  },
  {
   "cell_type": "markdown",
   "id": "a8f7a371",
   "metadata": {},
   "source": [
    "#### Will drop brand bc 40 categories (for now)"
   ]
  },
  {
   "cell_type": "code",
   "execution_count": 18,
   "id": "acf71f84",
   "metadata": {
    "scrolled": true
   },
   "outputs": [
    {
     "data": {
      "text/plain": [
       "40"
      ]
     },
     "execution_count": 18,
     "metadata": {},
     "output_type": "execute_result"
    }
   ],
   "source": [
    "cars['brand'].value_counts().size"
   ]
  },
  {
   "cell_type": "code",
   "execution_count": 19,
   "id": "47038346",
   "metadata": {},
   "outputs": [],
   "source": [
    "cars.drop('brand',axis=1,inplace=True)"
   ]
  },
  {
   "cell_type": "markdown",
   "id": "f4056c7b",
   "metadata": {},
   "source": [
    "#### Drop index"
   ]
  },
  {
   "cell_type": "code",
   "execution_count": 20,
   "id": "71c7da5c",
   "metadata": {},
   "outputs": [],
   "source": [
    "cars = cars.drop('index',axis=1)"
   ]
  },
  {
   "cell_type": "markdown",
   "id": "1fe0e5b4",
   "metadata": {},
   "source": [
    "Looking for features with lots of categories"
   ]
  },
  {
   "cell_type": "markdown",
   "id": "30e257aa",
   "metadata": {},
   "source": [
    "- model has too many\n",
    "- dates can be converted to numerical\n",
    "- the rest are good for one-hot"
   ]
  },
  {
   "cell_type": "code",
   "execution_count": 21,
   "id": "90f1ddb5",
   "metadata": {},
   "outputs": [
    {
     "name": "stdout",
     "output_type": "stream",
     "text": [
      "price 5597\n",
      "yearOfRegistration 155\n",
      "kilometer 13\n",
      "monthOfRegistration 13\n"
     ]
    }
   ],
   "source": [
    "for feature in cars.select_dtypes(int).columns:\n",
    "    print(feature,cars[feature].value_counts().size)"
   ]
  },
  {
   "cell_type": "code",
   "execution_count": 22,
   "id": "7989f156",
   "metadata": {
    "scrolled": false
   },
   "outputs": [
    {
     "name": "stdout",
     "output_type": "stream",
     "text": [
      "abtest 2\n",
      "vehicleType 8\n",
      "gearbox 2\n",
      "model 251\n",
      "fuelType 7\n",
      "notRepairedDamage 2\n"
     ]
    }
   ],
   "source": [
    "for feature in cars.select_dtypes(object).columns:\n",
    "    print(feature,cars[feature].value_counts().size)"
   ]
  },
  {
   "cell_type": "markdown",
   "id": "5fcac8d9",
   "metadata": {},
   "source": [
    "#### Remove Model"
   ]
  },
  {
   "cell_type": "code",
   "execution_count": 23,
   "id": "9f438a7d",
   "metadata": {},
   "outputs": [],
   "source": [
    "cars.drop('model',axis=1,inplace=True)"
   ]
  },
  {
   "cell_type": "markdown",
   "id": "568f4ecd",
   "metadata": {},
   "source": [
    "#### Make price in units of 1000"
   ]
  },
  {
   "cell_type": "code",
   "execution_count": 24,
   "id": "d5f21bc4",
   "metadata": {},
   "outputs": [],
   "source": [
    "cars['price'] = cars['price']/1000"
   ]
  },
  {
   "cell_type": "markdown",
   "id": "b404bbea",
   "metadata": {},
   "source": [
    "Get rid of cars less than 400 dollars and greater than 75,000"
   ]
  },
  {
   "cell_type": "code",
   "execution_count": 25,
   "id": "db741e78",
   "metadata": {
    "scrolled": true
   },
   "outputs": [],
   "source": [
    "mask = (cars['price']> .4) & (cars['price'] < 75)\n",
    "cars = cars[mask]"
   ]
  },
  {
   "cell_type": "markdown",
   "id": "25647e6f",
   "metadata": {},
   "source": [
    "<br>\n",
    "\n",
    "### Cleaner Cars dataset"
   ]
  },
  {
   "cell_type": "code",
   "execution_count": 26,
   "id": "dbc3f180",
   "metadata": {
    "scrolled": true
   },
   "outputs": [
    {
     "name": "stdout",
     "output_type": "stream",
     "text": [
      "<class 'pandas.core.frame.DataFrame'>\n",
      "Int64Index: 338393 entries, 0 to 371527\n",
      "Data columns (total 10 columns):\n",
      " #   Column               Non-Null Count   Dtype  \n",
      "---  ------               --------------   -----  \n",
      " 0   price                338393 non-null  float64\n",
      " 1   abtest               338393 non-null  object \n",
      " 2   vehicleType          310238 non-null  object \n",
      " 3   yearOfRegistration   338393 non-null  int64  \n",
      " 4   gearbox              324372 non-null  object \n",
      " 5   powerPS              308342 non-null  float64\n",
      " 6   kilometer            338393 non-null  int64  \n",
      " 7   monthOfRegistration  338393 non-null  int64  \n",
      " 8   fuelType             313994 non-null  object \n",
      " 9   notRepairedDamage    281464 non-null  object \n",
      "dtypes: float64(2), int64(3), object(5)\n",
      "memory usage: 28.4+ MB\n"
     ]
    }
   ],
   "source": [
    "cars.info()"
   ]
  },
  {
   "cell_type": "code",
   "execution_count": 27,
   "id": "921756ab",
   "metadata": {},
   "outputs": [
    {
     "data": {
      "text/plain": [
       "count    338393.000000\n",
       "mean          6.067240\n",
       "std           7.317028\n",
       "min           0.408000\n",
       "25%           1.500000\n",
       "50%           3.455000\n",
       "75%           7.850000\n",
       "max          74.999000\n",
       "Name: price, dtype: float64"
      ]
     },
     "execution_count": 27,
     "metadata": {},
     "output_type": "execute_result"
    }
   ],
   "source": [
    "cars['price'].describe()"
   ]
  },
  {
   "cell_type": "code",
   "execution_count": 28,
   "id": "1b662441",
   "metadata": {},
   "outputs": [
    {
     "data": {
      "text/plain": [
       "<AxesSubplot: ylabel='Frequency'>"
      ]
     },
     "execution_count": 28,
     "metadata": {},
     "output_type": "execute_result"
    },
    {
     "data": {
      "image/png": "[encoded data removed]",
      "text/plain": [
       "<Figure size 640x480 with 1 Axes>"
      ]
     },
     "metadata": {},
     "output_type": "display_data"
    }
   ],
   "source": [
    "cars['price'].plot(kind='hist',xlim=[0,20],bins=100)"
   ]
  },
  {
   "cell_type": "code",
   "execution_count": 29,
   "id": "3ec13414",
   "metadata": {},
   "outputs": [
    {
     "data": {
      "text/plain": [
       "<AxesSubplot: xlabel='yearOfRegistration', ylabel='price'>"
      ]
     },
     "execution_count": 29,
     "metadata": {},
     "output_type": "execute_result"
    },
    {
     "data": {
      "image/png": "[encoded data removed]",
      "text/plain": [
       "<Figure size 640x480 with 1 Axes>"
      ]
     },
     "metadata": {},
     "output_type": "display_data"
    }
   ],
   "source": [
    "cars.plot(kind='scatter',y='price',x='yearOfRegistration',alpha=0.1,xlim=[1920,2025])"
   ]
  },
  {
   "cell_type": "code",
   "execution_count": 30,
   "id": "8ef4cf94",
   "metadata": {
    "scrolled": true
   },
   "outputs": [
    {
     "data": {
      "text/plain": [
       "count    338393.000000\n",
       "mean       2004.446543\n",
       "std          67.356229\n",
       "min        1000.000000\n",
       "25%        2000.000000\n",
       "50%        2004.000000\n",
       "75%        2008.000000\n",
       "max        9999.000000\n",
       "Name: yearOfRegistration, dtype: float64"
      ]
     },
     "execution_count": 30,
     "metadata": {},
     "output_type": "execute_result"
    }
   ],
   "source": [
    "cars['yearOfRegistration'].describe()"
   ]
  },
  {
   "cell_type": "code",
   "execution_count": 31,
   "id": "1ecca989",
   "metadata": {},
   "outputs": [],
   "source": [
    "cars.reset_index(drop=True,inplace=True)"
   ]
  },
  {
   "cell_type": "markdown",
   "id": "7e8b5417",
   "metadata": {},
   "source": [
    "## Training/Test Set"
   ]
  },
  {
   "cell_type": "markdown",
   "id": "ba4a94a2",
   "metadata": {},
   "source": [
    "Stratified Sample of car years, 1860-2020, 7 groups of 10"
   ]
  },
  {
   "cell_type": "code",
   "execution_count": 32,
   "id": "07ed2572",
   "metadata": {},
   "outputs": [],
   "source": [
    "cars['yearCat'] = pd.cut(cars['yearOfRegistration'],\n",
    "                         bins = [0., 1980., 1990., 2000., 2010., np.inf],\n",
    "                         labels = [1,2,3,4,5])"
   ]
  },
  {
   "cell_type": "code",
   "execution_count": 33,
   "id": "ee2feb89",
   "metadata": {},
   "outputs": [
    {
     "data": {
      "text/plain": [
       "4    178581\n",
       "3     93240\n",
       "5     55338\n",
       "2      7237\n",
       "1      3997\n",
       "Name: yearCat, dtype: int64"
      ]
     },
     "execution_count": 33,
     "metadata": {},
     "output_type": "execute_result"
    }
   ],
   "source": [
    "cars['yearCat'].value_counts()"
   ]
  },
  {
   "cell_type": "code",
   "execution_count": 34,
   "id": "28634fd5",
   "metadata": {},
   "outputs": [
    {
     "data": {
      "text/plain": [
       "<AxesSubplot: >"
      ]
     },
     "execution_count": 34,
     "metadata": {},
     "output_type": "execute_result"
    },
    {
     "data": {
      "image/png": "[encoded data removed]",
      "text/plain": [
       "<Figure size 640x480 with 1 Axes>"
      ]
     },
     "metadata": {},
     "output_type": "display_data"
    }
   ],
   "source": [
    "cars['yearCat'].hist()"
   ]
  },
  {
   "cell_type": "code",
   "execution_count": 35,
   "id": "5ca08cc1",
   "metadata": {},
   "outputs": [],
   "source": [
    "from sklearn.model_selection import StratifiedShuffleSplit\n",
    "\n",
    "# Split object\n",
    "split = StratifiedShuffleSplit(n_splits=1, test_size=.2, random_state=42)\n",
    "\n",
    "#.split method which splits based on above object\n",
    "for train_index, test_index in split.split(cars, cars['yearCat']):\n",
    "    strat_train_set = cars.loc[train_index]\n",
    "    strat_test_set = cars.loc[test_index]"
   ]
  },
  {
   "cell_type": "markdown",
   "id": "abe96bbc",
   "metadata": {},
   "source": [
    "#### Now drop income_cat label"
   ]
  },
  {
   "cell_type": "code",
   "execution_count": 36,
   "id": "e437acad",
   "metadata": {},
   "outputs": [],
   "source": [
    "for instance_ in (strat_train_set, strat_test_set):\n",
    "    instance_.drop(\"yearCat\",axis=1,inplace=True)"
   ]
  },
  {
   "cell_type": "markdown",
   "id": "4b990770",
   "metadata": {},
   "source": [
    "## Let's think about possible correlations"
   ]
  },
  {
   "cell_type": "code",
   "execution_count": 37,
   "id": "f8b632c9",
   "metadata": {},
   "outputs": [],
   "source": [
    "from pandas.plotting import scatter_matrix"
   ]
  },
  {
   "cell_type": "code",
   "execution_count": 38,
   "id": "7008d1fd",
   "metadata": {},
   "outputs": [
    {
     "name": "stdout",
     "output_type": "stream",
     "text": [
      "<class 'pandas.core.frame.DataFrame'>\n",
      "RangeIndex: 338393 entries, 0 to 338392\n",
      "Data columns (total 11 columns):\n",
      " #   Column               Non-Null Count   Dtype   \n",
      "---  ------               --------------   -----   \n",
      " 0   price                338393 non-null  float64 \n",
      " 1   abtest               338393 non-null  object  \n",
      " 2   vehicleType          310238 non-null  object  \n",
      " 3   yearOfRegistration   338393 non-null  int64   \n",
      " 4   gearbox              324372 non-null  object  \n",
      " 5   powerPS              308342 non-null  float64 \n",
      " 6   kilometer            338393 non-null  int64   \n",
      " 7   monthOfRegistration  338393 non-null  int64   \n",
      " 8   fuelType             313994 non-null  object  \n",
      " 9   notRepairedDamage    281464 non-null  object  \n",
      " 10  yearCat              338393 non-null  category\n",
      "dtypes: category(1), float64(2), int64(3), object(5)\n",
      "memory usage: 26.1+ MB\n"
     ]
    }
   ],
   "source": [
    "cars.info()"
   ]
  },
  {
   "cell_type": "markdown",
   "id": "b4c46334",
   "metadata": {},
   "source": [
    "## Preparing for analysis"
   ]
  },
  {
   "cell_type": "code",
   "execution_count": 39,
   "id": "9d0de517",
   "metadata": {
    "scrolled": true
   },
   "outputs": [
    {
     "data": {
      "text/plain": [
       "150635     6.00\n",
       "237931     1.50\n",
       "69458      8.90\n",
       "231825    15.00\n",
       "200014     6.20\n",
       "          ...  \n",
       "233055     2.05\n",
       "224248     6.19\n",
       "207027     1.85\n",
       "61658      5.50\n",
       "310757     7.89\n",
       "Name: price, Length: 270714, dtype: float64"
      ]
     },
     "execution_count": 39,
     "metadata": {},
     "output_type": "execute_result"
    }
   ],
   "source": [
    "cars = strat_train_set.drop('price',axis=1)\n",
    "prices = strat_train_set['price'].copy()\n",
    "prices"
   ]
  },
  {
   "cell_type": "markdown",
   "id": "ee09cee3",
   "metadata": {},
   "source": [
    "Check for missing features"
   ]
  },
  {
   "cell_type": "code",
   "execution_count": 40,
   "id": "cdb6530d",
   "metadata": {},
   "outputs": [
    {
     "name": "stdout",
     "output_type": "stream",
     "text": [
      "<class 'pandas.core.frame.DataFrame'>\n",
      "Int64Index: 270714 entries, 150635 to 310757\n",
      "Data columns (total 9 columns):\n",
      " #   Column               Non-Null Count   Dtype  \n",
      "---  ------               --------------   -----  \n",
      " 0   abtest               270714 non-null  object \n",
      " 1   vehicleType          248114 non-null  object \n",
      " 2   yearOfRegistration   270714 non-null  int64  \n",
      " 3   gearbox              259516 non-null  object \n",
      " 4   powerPS              246625 non-null  float64\n",
      " 5   kilometer            270714 non-null  int64  \n",
      " 6   monthOfRegistration  270714 non-null  int64  \n",
      " 7   fuelType             251175 non-null  object \n",
      " 8   notRepairedDamage    225019 non-null  object \n",
      "dtypes: float64(1), int64(3), object(5)\n",
      "memory usage: 20.7+ MB\n"
     ]
    }
   ],
   "source": [
    "cars.info()"
   ]
  },
  {
   "cell_type": "markdown",
   "id": "c8d5aacd",
   "metadata": {},
   "source": [
    "### All missing values are categorical!"
   ]
  },
  {
   "cell_type": "code",
   "execution_count": 41,
   "id": "d276278d",
   "metadata": {},
   "outputs": [
    {
     "name": "stdout",
     "output_type": "stream",
     "text": [
      "abtest 2\n",
      "vehicleType 8\n",
      "gearbox 2\n",
      "fuelType 7\n",
      "notRepairedDamage 2\n"
     ]
    }
   ],
   "source": [
    "for feature in cars.select_dtypes(object).columns:\n",
    "    print(feature,cars[feature].value_counts().size)"
   ]
  },
  {
   "cell_type": "code",
   "execution_count": 42,
   "id": "9ca0452d",
   "metadata": {
    "scrolled": true
   },
   "outputs": [
    {
     "data": {
      "text/plain": [
       "benzin     162121\n",
       "diesel      84179\n",
       "lpg          4078\n",
       "cng           434\n",
       "hybrid        190\n",
       "andere        100\n",
       "elektro        73\n",
       "Name: fuelType, dtype: int64"
      ]
     },
     "execution_count": 42,
     "metadata": {},
     "output_type": "execute_result"
    }
   ],
   "source": [
    "cars['fuelType'].value_counts()"
   ]
  },
  {
   "cell_type": "markdown",
   "id": "6c127dbb",
   "metadata": {},
   "source": [
    "### Binary Categorical Pipeline"
   ]
  },
  {
   "cell_type": "code",
   "execution_count": 43,
   "id": "4a9cd0c0",
   "metadata": {},
   "outputs": [],
   "source": [
    "from sklearn.base import BaseEstimator, TransformerMixin\n",
    "\n",
    "class CategoricalImputer(BaseEstimator, TransformerMixin):\n",
    "    def __init__(self): # no *args or **kargs\n",
    "        pass\n",
    "    \n",
    "    def fit(self, X, y=None):\n",
    "        return self # nothing else to do \n",
    "\n",
    "    def transform(self, X):\n",
    "        #if (X.isnull().any()):\n",
    "            return X.fillna( X.mode() ) "
   ]
  },
  {
   "cell_type": "markdown",
   "id": "43a2251c",
   "metadata": {},
   "source": [
    "Should be able to use OneHot encoder for the non-date categorical variables"
   ]
  },
  {
   "cell_type": "code",
   "execution_count": 45,
   "id": "abb14b00",
   "metadata": {},
   "outputs": [
    {
     "name": "stdout",
     "output_type": "stream",
     "text": [
      "<class 'pandas.core.frame.DataFrame'>\n",
      "Int64Index: 270714 entries, 150635 to 310757\n",
      "Data columns (total 9 columns):\n",
      " #   Column               Non-Null Count   Dtype  \n",
      "---  ------               --------------   -----  \n",
      " 0   abtest               270714 non-null  object \n",
      " 1   vehicleType          248114 non-null  object \n",
      " 2   yearOfRegistration   270714 non-null  int64  \n",
      " 3   gearbox              259516 non-null  object \n",
      " 4   powerPS              246625 non-null  float64\n",
      " 5   kilometer            270714 non-null  int64  \n",
      " 6   monthOfRegistration  270714 non-null  int64  \n",
      " 7   fuelType             251175 non-null  object \n",
      " 8   notRepairedDamage    225019 non-null  object \n",
      "dtypes: float64(1), int64(3), object(5)\n",
      "memory usage: 20.7+ MB\n"
     ]
    }
   ],
   "source": [
    "from sklearn.pipeline import Pipeline\n",
    "from sklearn.preprocessing import OneHotEncoder\n",
    "small_cat_pipeline = Pipeline([\n",
    "    ('imputer', CategoricalImputer()),\n",
    "    ('encoder', OneHotEncoder(max_categories=10))\n",
    "])\n",
    "cars.info()"
   ]
  },
  {
   "cell_type": "markdown",
   "id": "6c39573f",
   "metadata": {},
   "source": [
    "### Num Pipeline"
   ]
  },
  {
   "cell_type": "code",
   "execution_count": 46,
   "id": "f8cda8d5",
   "metadata": {},
   "outputs": [],
   "source": [
    "from sklearn.preprocessing import StandardScaler\n",
    "from sklearn.impute import SimpleImputer\n",
    "num_pipeline = Pipeline([\n",
    "    ('imputer', SimpleImputer(strategy='median')),\n",
    "    ('scaler', StandardScaler())\n",
    "])"
   ]
  },
  {
   "cell_type": "code",
   "execution_count": 47,
   "id": "93ef2259",
   "metadata": {},
   "outputs": [],
   "source": [
    "from sklearn.compose import ColumnTransformer\n",
    "\n",
    "num_attribs = ['yearOfRegistration','powerPS','kilometer']\n",
    "not_modified = ['monthOfRegistration']\n",
    "cat_attribs = [\"abtest\",'vehicleType','gearbox','fuelType','notRepairedDamage']\n",
    "\n",
    "full_pipeline = ColumnTransformer([\n",
    "    (\"num\", num_pipeline, num_attribs),\n",
    "    ('nothing', 'passthrough', not_modified),\n",
    "    (\"cat\", small_cat_pipeline, cat_attribs),\n",
    "])\n",
    "\n",
    "\n",
    "cars_prepared = full_pipeline.fit_transform(cars)"
   ]
  },
  {
   "cell_type": "markdown",
   "id": "6d8950c4",
   "metadata": {},
   "source": [
    "## Training/Evaluating on the Training Set"
   ]
  },
  {
   "cell_type": "code",
   "execution_count": 50,
   "id": "a7f3e668",
   "metadata": {},
   "outputs": [],
   "source": [
    "from sklearn.linear_model import LinearRegression"
   ]
  },
  {
   "cell_type": "code",
   "execution_count": 51,
   "id": "c7417b23",
   "metadata": {},
   "outputs": [
    {
     "data": {
      "text/html": [
       "<style>#sk-container-id-1 {color: black;background-color: white;}#sk-container-id-1 pre{padding: 0;}#sk-container-id-1 div.sk-toggleable {background-color: white;}#sk-container-id-1 label.sk-toggleable__label {cursor: pointer;display: block;width: 100%;margin-bottom: 0;padding: 0.3em;box-sizing: border-box;text-align: center;}#sk-container-id-1 label.sk-toggleable__label-arrow:before {content: \"▸\";float: left;margin-right: 0.25em;color: #696969;}#sk-container-id-1 label.sk-toggleable__label-arrow:hover:before {color: black;}#sk-container-id-1 div.sk-estimator:hover label.sk-toggleable__label-arrow:before {color: black;}#sk-container-id-1 div.sk-toggleable__content {max-height: 0;max-width: 0;overflow: hidden;text-align: left;background-color: #f0f8ff;}#sk-container-id-1 div.sk-toggleable__content pre {margin: 0.2em;color: black;border-radius: 0.25em;background-color: #f0f8ff;}#sk-container-id-1 input.sk-toggleable__control:checked~div.sk-toggleable__content {max-height: 200px;max-width: 100%;overflow: auto;}#sk-container-id-1 input.sk-toggleable__control:checked~label.sk-toggleable__label-arrow:before {content: \"▾\";}#sk-container-id-1 div.sk-estimator input.sk-toggleable__control:checked~label.sk-toggleable__label {background-color: #d4ebff;}#sk-container-id-1 div.sk-label input.sk-toggleable__control:checked~label.sk-toggleable__label {background-color: #d4ebff;}#sk-container-id-1 input.sk-hidden--visually {border: 0;clip: rect(1px 1px 1px 1px);clip: rect(1px, 1px, 1px, 1px);height: 1px;margin: -1px;overflow: hidden;padding: 0;position: absolute;width: 1px;}#sk-container-id-1 div.sk-estimator {font-family: monospace;background-color: #f0f8ff;border: 1px dotted black;border-radius: 0.25em;box-sizing: border-box;margin-bottom: 0.5em;}#sk-container-id-1 div.sk-estimator:hover {background-color: #d4ebff;}#sk-container-id-1 div.sk-parallel-item::after {content: \"\";width: 100%;border-bottom: 1px solid gray;flex-grow: 1;}#sk-container-id-1 div.sk-label:hover label.sk-toggleable__label {background-color: #d4ebff;}#sk-container-id-1 div.sk-serial::before {content: \"\";position: absolute;border-left: 1px solid gray;box-sizing: border-box;top: 0;bottom: 0;left: 50%;z-index: 0;}#sk-container-id-1 div.sk-serial {display: flex;flex-direction: column;align-items: center;background-color: white;padding-right: 0.2em;padding-left: 0.2em;position: relative;}#sk-container-id-1 div.sk-item {position: relative;z-index: 1;}#sk-container-id-1 div.sk-parallel {display: flex;align-items: stretch;justify-content: center;background-color: white;position: relative;}#sk-container-id-1 div.sk-item::before, #sk-container-id-1 div.sk-parallel-item::before {content: \"\";position: absolute;border-left: 1px solid gray;box-sizing: border-box;top: 0;bottom: 0;left: 50%;z-index: -1;}#sk-container-id-1 div.sk-parallel-item {display: flex;flex-direction: column;z-index: 1;position: relative;background-color: white;}#sk-container-id-1 div.sk-parallel-item:first-child::after {align-self: flex-end;width: 50%;}#sk-container-id-1 div.sk-parallel-item:last-child::after {align-self: flex-start;width: 50%;}#sk-container-id-1 div.sk-parallel-item:only-child::after {width: 0;}#sk-container-id-1 div.sk-dashed-wrapped {border: 1px dashed gray;margin: 0 0.4em 0.5em 0.4em;box-sizing: border-box;padding-bottom: 0.4em;background-color: white;}#sk-container-id-1 div.sk-label label {font-family: monospace;font-weight: bold;display: inline-block;line-height: 1.2em;}#sk-container-id-1 div.sk-label-container {text-align: center;}#sk-container-id-1 div.sk-container {/* jupyter's `normalize.less` sets `[hidden] { display: none; }` but bootstrap.min.css set `[hidden] { display: none !important; }` so we also need the `!important` here to be able to override the default hidden behavior on the sphinx rendered scikit-learn.org. See: https://github.com/scikit-learn/scikit-learn/issues/21755 */display: inline-block !important;position: relative;}#sk-container-id-1 div.sk-text-repr-fallback {display: none;}</style><div id=\"sk-container-id-1\" class=\"sk-top-container\"><div class=\"sk-text-repr-fallback\"><pre>LinearRegression()</pre><b>In a Jupyter environment, please rerun this cell to show the HTML representation or trust the notebook. <br />On GitHub, the HTML representation is unable to render, please try loading this page with nbviewer.org.</b></div><div class=\"sk-container\" hidden><div class=\"sk-item\"><div class=\"sk-estimator sk-toggleable\"><input class=\"sk-toggleable__control sk-hidden--visually\" id=\"sk-estimator-id-1\" type=\"checkbox\" checked><label for=\"sk-estimator-id-1\" class=\"sk-toggleable__label sk-toggleable__label-arrow\">LinearRegression</label><div class=\"sk-toggleable__content\"><pre>LinearRegression()</pre></div></div></div></div></div>"
      ],
      "text/plain": [
       "LinearRegression()"
      ]
     },
     "execution_count": 51,
     "metadata": {},
     "output_type": "execute_result"
    }
   ],
   "source": [
    "lin_reg = LinearRegression()\n",
    "lin_reg.fit(cars_prepared, prices)"
   ]
  },
  {
   "cell_type": "code",
   "execution_count": 56,
   "id": "7eea2606",
   "metadata": {},
   "outputs": [],
   "source": [
    "tiny_data = cars.iloc[:5]\n",
    "tiny_data_labels = prices.iloc[:5]\n",
    "tiny_data_prepared = full_pipeline.transform(tiny_data)"
   ]
  },
  {
   "cell_type": "code",
   "execution_count": 54,
   "id": "5584d407",
   "metadata": {
    "scrolled": true
   },
   "outputs": [
    {
     "data": {
      "text/plain": [
       "150635     6.0\n",
       "237931     1.5\n",
       "69458      8.9\n",
       "231825    15.0\n",
       "200014     6.2\n",
       "Name: price, dtype: float64"
      ]
     },
     "execution_count": 54,
     "metadata": {},
     "output_type": "execute_result"
    }
   ],
   "source": [
    "tiny_data_labels"
   ]
  },
  {
   "cell_type": "code",
   "execution_count": 57,
   "id": "ab01ef7d",
   "metadata": {},
   "outputs": [
    {
     "data": {
      "text/plain": [
       "array([6.70214844, 6.04199219, 6.48876953, 9.828125  , 4.35986328])"
      ]
     },
     "execution_count": 57,
     "metadata": {},
     "output_type": "execute_result"
    }
   ],
   "source": [
    "lin_reg.predict(tiny_data_prepared)"
   ]
  },
  {
   "cell_type": "code",
   "execution_count": 61,
   "id": "5e11b970",
   "metadata": {},
   "outputs": [
    {
     "data": {
      "text/plain": [
       "5.4908725794789355"
      ]
     },
     "execution_count": 61,
     "metadata": {},
     "output_type": "execute_result"
    }
   ],
   "source": [
    "from sklearn.metrics import mean_squared_error\n",
    "cars_predictions = lin_reg.predict(cars_prepared)\n",
    "\n",
    "lin_mse = mean_squared_error(cars_predictions, prices)\n",
    "rmse = np.sqrt(lin_mse)\n",
    "rmse"
   ]
  },
  {
   "cell_type": "code",
   "execution_count": 62,
   "id": "fa9b34e1",
   "metadata": {},
   "outputs": [
    {
     "data": {
      "text/plain": [
       "count    270714.000000\n",
       "mean          6.068380\n",
       "std           7.303194\n",
       "min           0.408000\n",
       "25%           1.500000\n",
       "50%           3.490000\n",
       "75%           7.890000\n",
       "max          74.999000\n",
       "Name: price, dtype: float64"
      ]
     },
     "execution_count": 62,
     "metadata": {},
     "output_type": "execute_result"
    }
   ],
   "source": [
    "prices.describe()"
   ]
  },
  {
   "cell_type": "markdown",
   "id": "a4dacfcf",
   "metadata": {},
   "source": [
    "Looks like the prediction is a little less than the STD. Gross."
   ]
  },
  {
   "cell_type": "markdown",
   "id": "03064710",
   "metadata": {},
   "source": [
    "### Try other model"
   ]
  },
  {
   "cell_type": "code",
   "execution_count": 64,
   "id": "328bc1d0",
   "metadata": {},
   "outputs": [
    {
     "data": {
      "text/plain": [
       "0.8139952097867116"
      ]
     },
     "execution_count": 64,
     "metadata": {},
     "output_type": "execute_result"
    }
   ],
   "source": [
    "from sklearn.tree import DecisionTreeRegressor\n",
    "tree_reg = DecisionTreeRegressor()\n",
    "tree_reg.fit(cars_prepared, prices)\n",
    "\n",
    "cars_predictions = tree_reg.predict(cars_prepared)\n",
    "\n",
    "tree_mse = mean_squared_error(cars_predictions, prices)\n",
    "rmse = np.sqrt(tree_mse)\n",
    "rmse"
   ]
  },
  {
   "cell_type": "markdown",
   "id": "3334ac49",
   "metadata": {},
   "source": [
    "#### Low error! But possibility of overtraining"
   ]
  },
  {
   "cell_type": "markdown",
   "id": "4158b98c",
   "metadata": {},
   "source": [
    "### Let's use cross-validation"
   ]
  },
  {
   "cell_type": "code",
   "execution_count": 66,
   "id": "703bb402",
   "metadata": {},
   "outputs": [
    {
     "data": {
      "text/plain": [
       "array([3.79751419, 3.91056162, 3.88569518, 3.8402529 , 3.73249622,\n",
       "       3.81070774, 3.79820451, 3.7863857 , 3.66137159, 3.6893921 ])"
      ]
     },
     "execution_count": 66,
     "metadata": {},
     "output_type": "execute_result"
    }
   ],
   "source": [
    "from sklearn.model_selection import cross_val_score\n",
    "scores = cross_val_score(tree_reg, cars_prepared, prices, \n",
    "                         scoring='neg_mean_squared_error', cv=10)\n",
    "tree_rmse_scores = np.sqrt(-scores)\n",
    "tree_rmse_scores"
   ]
  },
  {
   "cell_type": "code",
   "execution_count": 67,
   "id": "e7f996a2",
   "metadata": {},
   "outputs": [
    {
     "name": "stdout",
     "output_type": "stream",
     "text": [
      "Scores: [3.79751419 3.91056162 3.88569518 3.8402529  3.73249622 3.81070774\n",
      " 3.79820451 3.7863857  3.66137159 3.6893921 ]\n",
      "Mean: 3.791258173971528\n",
      "Standard Deviation: 0.07532712079658095\n"
     ]
    }
   ],
   "source": [
    "def display_scores(scores):\n",
    "    print(\"Scores:\",scores)\n",
    "    print(\"Mean:\",scores.mean())\n",
    "    print(\"Standard Deviation:\",scores.std())\n",
    "display_scores(tree_rmse_scores)"
   ]
  },
  {
   "cell_type": "code",
   "execution_count": 70,
   "id": "a63e5d16",
   "metadata": {},
   "outputs": [
    {
     "name": "stdout",
     "output_type": "stream",
     "text": [
      "Scores: [5.54472723 5.54437762 5.64552626 5.43173813 5.48512103 5.46815524\n",
      " 5.5463461  5.5165748  5.42666035 5.3147569 ]\n",
      "Mean: 5.492398367365118\n",
      "Standard Deviation: 0.08519477188716944\n"
     ]
    }
   ],
   "source": [
    "scores = cross_val_score(lin_reg, cars_prepared, prices, \n",
    "                            scoring='neg_mean_squared_error', cv=10)\n",
    "lin_rmse_scores = np.sqrt(-scores)\n",
    "display_scores(lin_rmse_scores)"
   ]
  },
  {
   "cell_type": "markdown",
   "id": "3189837a",
   "metadata": {},
   "source": [
    "Try Random Forest"
   ]
  },
  {
   "cell_type": "code",
   "execution_count": 73,
   "id": "72e08e92",
   "metadata": {},
   "outputs": [
    {
     "name": "stdout",
     "output_type": "stream",
     "text": [
      "Scores: [2.93238977 2.97919247 2.968479   2.911752   2.91720722 2.88960846\n",
      " 2.91324665 2.93933959 2.78075293 2.78071195]\n",
      "Mean: 2.9012680030930644\n",
      "Standard Deviation: 0.06535181676359149\n"
     ]
    }
   ],
   "source": [
    "from sklearn.ensemble import RandomForestRegressor\n",
    "forest_reg = RandomForestRegressor()\n",
    "forest_reg.fit(cars_prepared, prices)\n",
    "\n",
    "forest_scores = cross_val_score(forest_reg, cars_prepared, prices,\n",
    "                               scoring='neg_mean_squared_error', cv=10)\n",
    "forest_rmse_scores = np.sqrt(-forest_scores)\n",
    "display_scores(forest_rmse_scores)"
   ]
  },
  {
   "cell_type": "markdown",
   "id": "482b5f71",
   "metadata": {},
   "source": [
    "## Evaluate final model on test set"
   ]
  },
  {
   "cell_type": "code",
   "execution_count": 79,
   "id": "0ce7060c",
   "metadata": {},
   "outputs": [],
   "source": [
    "test_X = full_pipeline.transform( strat_test_set.drop('price', axis=1) )\n",
    "test_y = strat_test_set['price'].copy()\n",
    "\n",
    "predicted_y = forest_reg.predict(test_X)\n",
    "\n",
    "test_score = mean_squared_error(predicted_y, test_y)\n",
    "final_score = np.sqrt(test_score)\n",
    "\n"
   ]
  },
  {
   "cell_type": "code",
   "execution_count": 80,
   "id": "28afcca5",
   "metadata": {},
   "outputs": [
    {
     "data": {
      "text/plain": [
       "2.9791875882039793"
      ]
     },
     "execution_count": 80,
     "metadata": {},
     "output_type": "execute_result"
    }
   ],
   "source": [
    "final_score"
   ]
  },
  {
   "cell_type": "code",
   "execution_count": null,
   "id": "521d8182",
   "metadata": {},
   "outputs": [],
   "source": []
  }
 ],
 "metadata": {
  "kernelspec": {
   "display_name": "Python 3.11.0 64-bit ('DataScience': conda)",
   "language": "python",
   "name": "python3110jvsc74a57bd0ddd6124862d41a4ae89f5ecbe8de165b475f815fedf5e2377c44117f173a4c30"
  },
  "language_info": {
   "codemirror_mode": {
    "name": "ipython",
    "version": 3
   },
   "file_extension": ".py",
   "mimetype": "text/x-python",
   "name": "python",
   "nbconvert_exporter": "python",
   "pygments_lexer": "ipython3",
   "version": "3.11.0"
  }
 },
 "nbformat": 4,
 "nbformat_minor": 5
}
