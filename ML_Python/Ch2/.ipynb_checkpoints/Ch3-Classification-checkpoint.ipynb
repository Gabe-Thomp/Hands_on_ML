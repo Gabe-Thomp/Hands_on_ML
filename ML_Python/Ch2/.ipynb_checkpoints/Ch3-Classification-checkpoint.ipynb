{
 "cells": [
  {
   "cell_type": "markdown",
   "id": "16d94f3f",
   "metadata": {},
   "source": [
    "# Classification"
   ]
  },
  {
   "cell_type": "markdown",
   "id": "89d7fc42",
   "metadata": {},
   "source": [
    "We will use the MNIST dataset: a set of 70,000 small images of digits handwritten and labled."
   ]
  },
  {
   "cell_type": "markdown",
   "id": "2ced18d9",
   "metadata": {},
   "source": [
    "This set has been stud‐ ied so much that it is often called the “hello world” of Machine Learning: whenever people come up with a new classification algorithm they are curious to see how it will perform on MNIST, and anyone who learns Machine Learning tackles this dataset sooner or later."
   ]
  },
  {
   "cell_type": "markdown",
   "id": "95842f27",
   "metadata": {},
   "source": [
    "### Using Sklearn to download dataset"
   ]
  },
  {
   "cell_type": "code",
   "execution_count": 1,
   "id": "69e1b331",
   "metadata": {},
   "outputs": [
    {
     "data": {
      "text/plain": [
       "dict_keys(['data', 'target', 'frame', 'categories', 'feature_names', 'target_names', 'DESCR', 'details', 'url'])"
      ]
     },
     "execution_count": 1,
     "metadata": {},
     "output_type": "execute_result"
    }
   ],
   "source": [
    "from sklearn.datasets import fetch_openml\n",
    "mnist = fetch_openml('mnist_784', version=1)\n",
    "mnist.keys()"
   ]
  },
  {
   "cell_type": "markdown",
   "id": "8e1bf618",
   "metadata": {},
   "source": [
    "Datasets loaded by sk-learn have a similar dictionary structure\n",
    "with\n",
    "- A DESCR key describing the dataset\n",
    "- A data key w/ an array with one row per instance and one column per feature\n",
    "- A target key containing an array with the labels"
   ]
  },
  {
   "cell_type": "markdown",
   "id": "832bb41d",
   "metadata": {},
   "source": [
    "There are 70000 images, each with 784 features. Each image is $28\\times28=784$ pixels, and is represented by 0 to 255 in intensity"
   ]
  },
  {
   "cell_type": "code",
   "execution_count": 2,
   "id": "6aed60d5",
   "metadata": {},
   "outputs": [
    {
     "data": {
      "text/plain": [
       "((70000, 784), (70000,))"
      ]
     },
     "execution_count": 2,
     "metadata": {},
     "output_type": "execute_result"
    }
   ],
   "source": [
    "X, y = mnist['data'], mnist['target']\n",
    "X.shape, y.shape"
   ]
  },
  {
   "cell_type": "code",
   "execution_count": 4,
   "id": "5e181637",
   "metadata": {},
   "outputs": [
    {
     "data": {
      "text/plain": [
       "pixel1      0.0\n",
       "pixel2      0.0\n",
       "pixel3      0.0\n",
       "pixel4      0.0\n",
       "pixel5      0.0\n",
       "           ... \n",
       "pixel780    0.0\n",
       "pixel781    0.0\n",
       "pixel782    0.0\n",
       "pixel783    0.0\n",
       "pixel784    0.0\n",
       "Name: 0, Length: 784, dtype: float64"
      ]
     },
     "execution_count": 4,
     "metadata": {},
     "output_type": "execute_result"
    }
   ],
   "source": [
    "X.iloc[0]"
   ]
  },
  {
   "cell_type": "code",
   "execution_count": 140,
   "id": "ee8d03a3",
   "metadata": {
    "scrolled": true
   },
   "outputs": [
    {
     "data": {
      "image/png": "[encoded data removed]",
      "text/plain": [
       "<Figure size 640x480 with 1 Axes>"
      ]
     },
     "metadata": {},
     "output_type": "display_data"
    }
   ],
   "source": [
    "import matplotlib as mpl\n",
    "import matplotlib.pyplot as plt\n",
    "import numpy as np\n",
    "\n",
    "some_digit = np.array(X.iloc[0])\n",
    "some_digit_image = some_digit.reshape(28,28)\n",
    "\n",
    "plt.imshow(some_digit_image, cmap='binary')\n",
    "plt.axis('off')\n",
    "plt.show()"
   ]
  },
  {
   "cell_type": "markdown",
   "id": "925ed212",
   "metadata": {},
   "source": [
    "Label is a string. ML algorithms like numbers"
   ]
  },
  {
   "cell_type": "code",
   "execution_count": 6,
   "id": "e24a031f",
   "metadata": {
    "scrolled": true
   },
   "outputs": [
    {
     "data": {
      "text/plain": [
       "'5'"
      ]
     },
     "execution_count": 6,
     "metadata": {},
     "output_type": "execute_result"
    }
   ],
   "source": [
    "y[0]"
   ]
  },
  {
   "cell_type": "code",
   "execution_count": 7,
   "id": "ea288a0f",
   "metadata": {},
   "outputs": [],
   "source": [
    "y = y.astype(np.uint8)"
   ]
  },
  {
   "cell_type": "markdown",
   "id": "c316a101",
   "metadata": {},
   "source": [
    "### Split into train and test set"
   ]
  },
  {
   "cell_type": "markdown",
   "id": "36912bf9",
   "metadata": {},
   "source": [
    "The set is actually already split into train/test"
   ]
  },
  {
   "cell_type": "code",
   "execution_count": 3,
   "id": "0f9250c4",
   "metadata": {},
   "outputs": [],
   "source": [
    "X_train, X_test, y_train, y_test = (X[:60000], X[60000:], \n",
    "                                    y[:60000],y[60000:])\n"
   ]
  },
  {
   "cell_type": "markdown",
   "id": "e4e8ab55",
   "metadata": {},
   "source": [
    "## Simplifying the Problem to One Digit"
   ]
  },
  {
   "cell_type": "code",
   "execution_count": 9,
   "id": "bdf2cd8f",
   "metadata": {},
   "outputs": [],
   "source": [
    "y_train_5 = (y_train == 5) # Masks\n",
    "y_test_5 = (y_test == 5)"
   ]
  },
  {
   "cell_type": "markdown",
   "id": "22e4569c",
   "metadata": {},
   "source": [
    "Lets pick a classifier. Good place to start is `Stochastic Gradient Descent`"
   ]
  },
  {
   "cell_type": "code",
   "execution_count": 10,
   "id": "ef78ce10",
   "metadata": {},
   "outputs": [
    {
     "data": {
      "text/html": [
       "<style>#sk-container-id-1 {color: black;background-color: white;}#sk-container-id-1 pre{padding: 0;}#sk-container-id-1 div.sk-toggleable {background-color: white;}#sk-container-id-1 label.sk-toggleable__label {cursor: pointer;display: block;width: 100%;margin-bottom: 0;padding: 0.3em;box-sizing: border-box;text-align: center;}#sk-container-id-1 label.sk-toggleable__label-arrow:before {content: \"▸\";float: left;margin-right: 0.25em;color: #696969;}#sk-container-id-1 label.sk-toggleable__label-arrow:hover:before {color: black;}#sk-container-id-1 div.sk-estimator:hover label.sk-toggleable__label-arrow:before {color: black;}#sk-container-id-1 div.sk-toggleable__content {max-height: 0;max-width: 0;overflow: hidden;text-align: left;background-color: #f0f8ff;}#sk-container-id-1 div.sk-toggleable__content pre {margin: 0.2em;color: black;border-radius: 0.25em;background-color: #f0f8ff;}#sk-container-id-1 input.sk-toggleable__control:checked~div.sk-toggleable__content {max-height: 200px;max-width: 100%;overflow: auto;}#sk-container-id-1 input.sk-toggleable__control:checked~label.sk-toggleable__label-arrow:before {content: \"▾\";}#sk-container-id-1 div.sk-estimator input.sk-toggleable__control:checked~label.sk-toggleable__label {background-color: #d4ebff;}#sk-container-id-1 div.sk-label input.sk-toggleable__control:checked~label.sk-toggleable__label {background-color: #d4ebff;}#sk-container-id-1 input.sk-hidden--visually {border: 0;clip: rect(1px 1px 1px 1px);clip: rect(1px, 1px, 1px, 1px);height: 1px;margin: -1px;overflow: hidden;padding: 0;position: absolute;width: 1px;}#sk-container-id-1 div.sk-estimator {font-family: monospace;background-color: #f0f8ff;border: 1px dotted black;border-radius: 0.25em;box-sizing: border-box;margin-bottom: 0.5em;}#sk-container-id-1 div.sk-estimator:hover {background-color: #d4ebff;}#sk-container-id-1 div.sk-parallel-item::after {content: \"\";width: 100%;border-bottom: 1px solid gray;flex-grow: 1;}#sk-container-id-1 div.sk-label:hover label.sk-toggleable__label {background-color: #d4ebff;}#sk-container-id-1 div.sk-serial::before {content: \"\";position: absolute;border-left: 1px solid gray;box-sizing: border-box;top: 0;bottom: 0;left: 50%;z-index: 0;}#sk-container-id-1 div.sk-serial {display: flex;flex-direction: column;align-items: center;background-color: white;padding-right: 0.2em;padding-left: 0.2em;position: relative;}#sk-container-id-1 div.sk-item {position: relative;z-index: 1;}#sk-container-id-1 div.sk-parallel {display: flex;align-items: stretch;justify-content: center;background-color: white;position: relative;}#sk-container-id-1 div.sk-item::before, #sk-container-id-1 div.sk-parallel-item::before {content: \"\";position: absolute;border-left: 1px solid gray;box-sizing: border-box;top: 0;bottom: 0;left: 50%;z-index: -1;}#sk-container-id-1 div.sk-parallel-item {display: flex;flex-direction: column;z-index: 1;position: relative;background-color: white;}#sk-container-id-1 div.sk-parallel-item:first-child::after {align-self: flex-end;width: 50%;}#sk-container-id-1 div.sk-parallel-item:last-child::after {align-self: flex-start;width: 50%;}#sk-container-id-1 div.sk-parallel-item:only-child::after {width: 0;}#sk-container-id-1 div.sk-dashed-wrapped {border: 1px dashed gray;margin: 0 0.4em 0.5em 0.4em;box-sizing: border-box;padding-bottom: 0.4em;background-color: white;}#sk-container-id-1 div.sk-label label {font-family: monospace;font-weight: bold;display: inline-block;line-height: 1.2em;}#sk-container-id-1 div.sk-label-container {text-align: center;}#sk-container-id-1 div.sk-container {/* jupyter's `normalize.less` sets `[hidden] { display: none; }` but bootstrap.min.css set `[hidden] { display: none !important; }` so we also need the `!important` here to be able to override the default hidden behavior on the sphinx rendered scikit-learn.org. See: https://github.com/scikit-learn/scikit-learn/issues/21755 */display: inline-block !important;position: relative;}#sk-container-id-1 div.sk-text-repr-fallback {display: none;}</style><div id=\"sk-container-id-1\" class=\"sk-top-container\"><div class=\"sk-text-repr-fallback\"><pre>SGDClassifier(random_state=42)</pre><b>In a Jupyter environment, please rerun this cell to show the HTML representation or trust the notebook. <br />On GitHub, the HTML representation is unable to render, please try loading this page with nbviewer.org.</b></div><div class=\"sk-container\" hidden><div class=\"sk-item\"><div class=\"sk-estimator sk-toggleable\"><input class=\"sk-toggleable__control sk-hidden--visually\" id=\"sk-estimator-id-1\" type=\"checkbox\" checked><label for=\"sk-estimator-id-1\" class=\"sk-toggleable__label sk-toggleable__label-arrow\">SGDClassifier</label><div class=\"sk-toggleable__content\"><pre>SGDClassifier(random_state=42)</pre></div></div></div></div></div>"
      ],
      "text/plain": [
       "SGDClassifier(random_state=42)"
      ]
     },
     "execution_count": 10,
     "metadata": {},
     "output_type": "execute_result"
    }
   ],
   "source": [
    "from sklearn.linear_model import SGDClassifier\n",
    "\n",
    "sgd_clf = SGDClassifier(random_state=42)\n",
    "sgd_clf.fit(X_train, y_train_5)"
   ]
  },
  {
   "cell_type": "markdown",
   "id": "24712446",
   "metadata": {},
   "source": [
    "Now, we can use it to predict 5's"
   ]
  },
  {
   "cell_type": "markdown",
   "id": "85385377",
   "metadata": {},
   "source": [
    "### Performance Measures"
   ]
  },
  {
   "cell_type": "markdown",
   "id": "d5d42021",
   "metadata": {},
   "source": [
    "Using a classifier can be much more tricky than a regressor. There is a *lot to learn*"
   ]
  },
  {
   "cell_type": "markdown",
   "id": "0ef1cb99",
   "metadata": {},
   "source": [
    "Sometimes, you need more cross validation than `cross_val_score()` function from sklearn."
   ]
  },
  {
   "cell_type": "markdown",
   "id": "caed4add",
   "metadata": {},
   "source": [
    "### Implementing your own Cross-Validation"
   ]
  },
  {
   "cell_type": "markdown",
   "id": "df7d0339",
   "metadata": {},
   "source": [
    "from sklearn.model_selection import StratifiedKFold\n",
    "from sklearn.base import clone\n",
    "\n",
    "skfolds = StratifiedKFold(n_splits=3, shuffle=True, random_state=42)\n",
    "\n",
    "for train_index, test_index in skfolds.split(X_train, y_train_5):\n",
    "    clone_clf = clone(sgd_clf)\n",
    "    X_train_folds = X_train.iloc[train_index]\n",
    "    y_train_folds = y_train.iloc[train_index]\n",
    "    X_test_fold = X_train.iloc[test_index]\n",
    "    y_test_fold = y_train.iloc[test_index]\n",
    "    \n",
    "    clone_clf.fit(X_train_folds, y_train_folds)\n",
    "    y_pred = clone_clf.predict(X_test_fold)\n",
    "    n_correct = sum(y_pred == y_test_fold)\n",
    "    print(n_correct/len(y_pred))"
   ]
  },
  {
   "cell_type": "markdown",
   "id": "23d65317",
   "metadata": {},
   "source": [
    "Using `cross_val_score()` to evaluate `SGDClassifier` with *K-fold cross-validation*, where K represents the number."
   ]
  },
  {
   "cell_type": "code",
   "execution_count": 11,
   "id": "5a8757f3",
   "metadata": {},
   "outputs": [
    {
     "data": {
      "text/plain": [
       "array([0.95035, 0.96035, 0.9604 ])"
      ]
     },
     "execution_count": 11,
     "metadata": {},
     "output_type": "execute_result"
    }
   ],
   "source": [
    "from sklearn.model_selection import cross_val_score\n",
    "\n",
    "score = cross_val_score(sgd_clf, X_train, y_train_5, cv=3, scoring='accuracy')\n",
    "score"
   ]
  },
  {
   "cell_type": "markdown",
   "id": "b5a8978e",
   "metadata": {},
   "source": [
    "90% accuracy! This is because only about 10% of images are 5's. Hah"
   ]
  },
  {
   "cell_type": "markdown",
   "id": "6b1b383a",
   "metadata": {},
   "source": [
    "Because of this, **accuracy is not the preferred performance measure for classifiers**, especially with *skewed datasets*\n",
    "\n",
    "**Skewed datasets** - Some classes are much more frequent than others."
   ]
  },
  {
   "cell_type": "markdown",
   "id": "6a59eda8",
   "metadata": {},
   "source": [
    "## Confusion Matrix"
   ]
  },
  {
   "cell_type": "markdown",
   "id": "a640c6b2",
   "metadata": {},
   "source": [
    "Here, you count the number of times *class A* is classified as *class B*. <br><br>To use a consufsion matrix, you need a set of predictions that can be compared to actual targets. To do this, we need to use some test data! However, we don't want to use test set. In comes *cross validation*"
   ]
  },
  {
   "cell_type": "markdown",
   "id": "f93c56aa",
   "metadata": {},
   "source": [
    "`cross_val_predict` performs K-fold cross-validation, but returns predictions made on each test fold rather than scores."
   ]
  },
  {
   "cell_type": "code",
   "execution_count": 12,
   "id": "d0f0c55c",
   "metadata": {},
   "outputs": [],
   "source": [
    "from sklearn.model_selection import cross_val_predict\n",
    "\n",
    "y_train_pred = cross_val_predict(sgd_clf, X_train, y_train_5, \n",
    "                             cv=3)"
   ]
  },
  {
   "cell_type": "markdown",
   "id": "1a4c44ea",
   "metadata": {},
   "source": [
    ">Yields a *clean* prediction set, such that the *model never saw data during training*"
   ]
  },
  {
   "cell_type": "code",
   "execution_count": 13,
   "id": "cf9fb40b",
   "metadata": {},
   "outputs": [
    {
     "data": {
      "text/plain": [
       "array([[53892,   687],\n",
       "       [ 1891,  3530]])"
      ]
     },
     "execution_count": 13,
     "metadata": {},
     "output_type": "execute_result"
    }
   ],
   "source": [
    "from sklearn.metrics import confusion_matrix\n",
    "confusion_matrix(y_train_5, y_train_pred)"
   ]
  },
  {
   "cell_type": "markdown",
   "id": "541a751a",
   "metadata": {},
   "source": [
    "Rows are the actual class, columns are the predicted class. <br>\n",
    "Row 1 is non-5 images (*negative class*)\n",
    "- 53,000 were correctly classified (*True Negatives*)\n",
    "- 600 were wrongly classified as 5's (*false positives*)\n",
    "Row 2 is images of 5's (*positive class*)\n",
    "- 1800 are wrongly classified as non-5's (*false negatives*)\n",
    "- 3500 were classified as were correct (*True positives*)"
   ]
  },
  {
   "cell_type": "markdown",
   "id": "010dd4fe",
   "metadata": {},
   "source": [
    "Another metric to look at is the **precision** of the classifier. This is $\\\\precision=\\frac{TP}{TP+FP}$\n",
    "- TP is True Positive\n",
    "- FP is False Negative"
   ]
  },
  {
   "cell_type": "markdown",
   "id": "ca1b4d5a",
   "metadata": {},
   "source": [
    "**Recall** is the sensitivity or the *true positive rate* **TPR**: The ratio of positive instances that are correctly detected by classifier.\n",
    "\n",
    "$recall=\\frac{TP}{TP+FN}$"
   ]
  },
  {
   "cell_type": "markdown",
   "id": "63b1c252",
   "metadata": {},
   "source": [
    "## Precision and Recall"
   ]
  },
  {
   "cell_type": "code",
   "execution_count": 14,
   "id": "09e55751",
   "metadata": {},
   "outputs": [
    {
     "data": {
      "text/plain": [
       "(0.8370879772350012, 0.6511713705958311)"
      ]
     },
     "execution_count": 14,
     "metadata": {},
     "output_type": "execute_result"
    }
   ],
   "source": [
    "from sklearn.metrics import precision_score, recall_score\n",
    "precision_score(y_train_5, y_train_pred), recall_score(y_train_5, y_train_pred)"
   ]
  },
  {
   "cell_type": "markdown",
   "id": "e00e0cd8",
   "metadata": {},
   "source": [
    "It is useful to combine precision and recall into a metric called the $F_1$ score, which is the *harmonic mean* of the precision and recall."
   ]
  },
  {
   "cell_type": "markdown",
   "id": "00b5eb0c",
   "metadata": {},
   "source": [
    "*Harmonic mean* gives much more weight to low values"
   ]
  },
  {
   "cell_type": "markdown",
   "id": "8c1e31ee",
   "metadata": {},
   "source": [
    "$F_1=\\frac{2}{1/precision+1/recall}$"
   ]
  },
  {
   "cell_type": "markdown",
   "id": "d3c3b376",
   "metadata": {},
   "source": [
    "$F_1$ score will only be high if both scores are high"
   ]
  },
  {
   "cell_type": "code",
   "execution_count": 15,
   "id": "21ec819b",
   "metadata": {},
   "outputs": [
    {
     "data": {
      "text/plain": [
       "0.7325171197343846"
      ]
     },
     "execution_count": 15,
     "metadata": {},
     "output_type": "execute_result"
    }
   ],
   "source": [
    "from sklearn.metrics import f1_score\n",
    "f1_score(y_train_5, y_train_pred)"
   ]
  },
  {
   "cell_type": "markdown",
   "id": "4e323b23",
   "metadata": {},
   "source": [
    "This metric is good when you want similar recall and precision. However, you don't always want this. \n",
    "**Recall** ~#Missed \n",
    "**Precision** ~#The number of Positives that are actually true"
   ]
  },
  {
   "cell_type": "markdown",
   "id": "20028602",
   "metadata": {},
   "source": [
    "There is a *trade-off* between **recall** and **precision**. This is due to a threshold score that divides instances into \"negative\" and \"positive\" category.<br><br>Here,<br>\n",
    "*Negative* = Not a 5<br>*Positive* = is a 5"
   ]
  },
  {
   "cell_type": "markdown",
   "id": "0bbb9dec",
   "metadata": {},
   "source": [
    "You can use `decision_function()` to use any threshold you want to make predictions."
   ]
  },
  {
   "cell_type": "code",
   "execution_count": 16,
   "id": "046e8617",
   "metadata": {},
   "outputs": [
    {
     "data": {
      "text/plain": [
       "array([  2164.22030239,  -5897.37359354, -13489.14805779,  -4623.84515943,\n",
       "        -6873.05248453])"
      ]
     },
     "execution_count": 16,
     "metadata": {},
     "output_type": "execute_result"
    }
   ],
   "source": [
    "y_scores = sgd_clf.decision_function(X_train.iloc[:5])\n",
    "y_scores"
   ]
  },
  {
   "cell_type": "markdown",
   "id": "e98ab137",
   "metadata": {},
   "source": [
    "Say threshold is 0"
   ]
  },
  {
   "cell_type": "code",
   "execution_count": 17,
   "id": "bcef32c4",
   "metadata": {},
   "outputs": [
    {
     "data": {
      "text/plain": [
       "array([ True, False, False, False, False])"
      ]
     },
     "execution_count": 17,
     "metadata": {},
     "output_type": "execute_result"
    }
   ],
   "source": [
    "threshold = 0\n",
    "y_some_digit_pred = y_scores > threshold\n",
    "y_some_digit_pred"
   ]
  },
  {
   "cell_type": "markdown",
   "id": "b86602e9",
   "metadata": {},
   "source": [
    "If threshold is increased, recall decreases!"
   ]
  },
  {
   "cell_type": "code",
   "execution_count": 18,
   "id": "dc3bd0a9",
   "metadata": {},
   "outputs": [
    {
     "data": {
      "text/plain": [
       "array([False, False, False, False, False])"
      ]
     },
     "execution_count": 18,
     "metadata": {},
     "output_type": "execute_result"
    }
   ],
   "source": [
    "threshold = 8000\n",
    "y_some_digit_pred = y_scores > threshold\n",
    "y_some_digit_pred"
   ]
  },
  {
   "cell_type": "markdown",
   "id": "853e906c",
   "metadata": {},
   "source": [
    "How do we know which threshold value to use? Use `cross_val_predict()` to return prediction values for each instance in the set. Specify that you want *decision scores* rather than predictions."
   ]
  },
  {
   "cell_type": "code",
   "execution_count": 19,
   "id": "a7ea9e83",
   "metadata": {},
   "outputs": [],
   "source": [
    "y_scores = cross_val_predict(sgd_clf, X_train, y_train_5, cv=3,\n",
    "                            method=\"decision_function\")"
   ]
  },
  {
   "cell_type": "markdown",
   "id": "4f073f5e",
   "metadata": {},
   "source": [
    "From here, you can use `precision_recall_curve()` to compute precision and recall for all thresholds."
   ]
  },
  {
   "cell_type": "code",
   "execution_count": 20,
   "id": "adc6c781",
   "metadata": {},
   "outputs": [
    {
     "data": {
      "text/plain": [
       "(60000,)"
      ]
     },
     "execution_count": 20,
     "metadata": {},
     "output_type": "execute_result"
    }
   ],
   "source": [
    "from sklearn.metrics import precision_recall_curve\n",
    "\n",
    "precisions, recalls, thresholds = precision_recall_curve(y_train_5, y_scores)\n",
    "\n",
    "thresholds.shape"
   ]
  },
  {
   "cell_type": "markdown",
   "id": "4c9b6453",
   "metadata": {},
   "source": [
    "Use matplotlib to plot them"
   ]
  },
  {
   "cell_type": "code",
   "execution_count": 21,
   "id": "2f541608",
   "metadata": {},
   "outputs": [
    {
     "data": {
      "image/png": "[encoded data removed]",
      "text/plain": [
       "<Figure size 640x480 with 1 Axes>"
      ]
     },
     "metadata": {},
     "output_type": "display_data"
    }
   ],
   "source": [
    "def plot_precision_recall_vs_threshold(precisions, recalls, thresholds):\n",
    "        plt.xlim(left=-40000,right=40000)\n",
    "        plt.plot(thresholds, precisions[:-1], \"b--\",label=\"Precision\")\n",
    "        plt.plot(thresholds, recalls[:-1], \"g-\", label=\"Recall\")\n",
    "        plt.xlabel(\"Threshold\")\n",
    "\n",
    "        \n",
    "plot_precision_recall_vs_threshold(precisions, recalls, thresholds)\n",
    "plt.show()"
   ]
  },
  {
   "cell_type": "markdown",
   "id": "b7467ea5",
   "metadata": {},
   "source": [
    "You can also directly plot precision vs. recall"
   ]
  },
  {
   "cell_type": "code",
   "execution_count": 22,
   "id": "9af6d6e8",
   "metadata": {},
   "outputs": [
    {
     "data": {
      "image/png": "[encoded data removed]",
      "text/plain": [
       "<Figure size 640x480 with 1 Axes>"
      ]
     },
     "metadata": {},
     "output_type": "display_data"
    }
   ],
   "source": [
    "plt.plot(recalls, precisions)\n",
    "plt.xlabel(\"Recall\")\n",
    "plt.ylabel(\"Precision\")\n",
    "plt.grid(visible=True)\n",
    "\n",
    "plt.show()"
   ]
  },
  {
   "cell_type": "markdown",
   "id": "89272d08",
   "metadata": {},
   "source": [
    "Note where precision begins to fall rapidly. Suppose you want a 90% precision for your project. How do you find threshold? You search for *lowest threshold that yields .90 precision*"
   ]
  },
  {
   "cell_type": "code",
   "execution_count": 23,
   "id": "d9516409",
   "metadata": {},
   "outputs": [
    {
     "data": {
      "text/plain": [
       "3370.0194991441813"
      ]
     },
     "execution_count": 23,
     "metadata": {},
     "output_type": "execute_result"
    }
   ],
   "source": [
    "threshold_90_precision = thresholds[np.argmax(precisions >= .9)]\n",
    "threshold_90_precision"
   ]
  },
  {
   "cell_type": "markdown",
   "id": "c786334d",
   "metadata": {},
   "source": [
    "`np.argmax()`: Returns the indices of the maximum values along an axis."
   ]
  },
  {
   "cell_type": "markdown",
   "id": "d72940f8",
   "metadata": {},
   "source": [
    "To make predictions, you can run this code"
   ]
  },
  {
   "cell_type": "code",
   "execution_count": 24,
   "id": "d5488239",
   "metadata": {},
   "outputs": [],
   "source": [
    "# Compares y-decision scores to threshold value\n",
    "y_train_pred_90 = (y_scores >= threshold_90_precision) #--> np array"
   ]
  },
  {
   "cell_type": "code",
   "execution_count": 25,
   "id": "2190f920",
   "metadata": {},
   "outputs": [
    {
     "data": {
      "text/plain": [
       "0.9000345901072293"
      ]
     },
     "execution_count": 25,
     "metadata": {},
     "output_type": "execute_result"
    }
   ],
   "source": [
    "(precision_score(y_train_5, y_train_pred_90))"
   ]
  },
  {
   "cell_type": "code",
   "execution_count": 26,
   "id": "331a5509",
   "metadata": {},
   "outputs": [
    {
     "data": {
      "text/plain": [
       "0.4799852425751706"
      ]
     },
     "execution_count": 26,
     "metadata": {},
     "output_type": "execute_result"
    }
   ],
   "source": [
    "(recall_score(y_train_5, y_train_pred_90))"
   ]
  },
  {
   "cell_type": "markdown",
   "id": "b069f497",
   "metadata": {},
   "source": [
    "**High precision**! However, that comes with **low recall** **:(**"
   ]
  },
  {
   "cell_type": "markdown",
   "id": "4f4b6312",
   "metadata": {},
   "source": [
    "### The ROC Curve"
   ]
  },
  {
   "cell_type": "markdown",
   "id": "f057e67d",
   "metadata": {},
   "source": [
    "**Reciever Operating Characteristic** (ROC) curve plots *true positive rate* (TPR) against *false positive rate* (FPR). FPR is number of negative instance classified as positive and is equal to $1-TNR$"
   ]
  },
  {
   "cell_type": "markdown",
   "id": "229630b6",
   "metadata": {},
   "source": [
    "**True negative rate (TNR)** is also called the specificity. <br><br>**ROC** plots *sensitiviy (recall)* against *1-specificity*, or TPR"
   ]
  },
  {
   "cell_type": "markdown",
   "id": "4343d537",
   "metadata": {},
   "source": [
    "ROC = TPR vs. FPR. **TPR** is the recall, sensitivity"
   ]
  },
  {
   "cell_type": "markdown",
   "id": "218ab2fc",
   "metadata": {},
   "source": [
    "To plot ROC curve, use `roc_curve()` function to compute TPR and FPR at given threshold values"
   ]
  },
  {
   "cell_type": "code",
   "execution_count": 27,
   "id": "753965f0",
   "metadata": {},
   "outputs": [],
   "source": [
    "from sklearn.metrics import roc_curve\n",
    "\n",
    "fpr, tpr, thresholds = roc_curve(y_train_5, y_scores)"
   ]
  },
  {
   "cell_type": "code",
   "execution_count": 28,
   "id": "4d28c46d",
   "metadata": {
    "scrolled": true
   },
   "outputs": [
    {
     "data": {
      "image/png": "[encoded data removed]",
      "text/plain": [
       "<Figure size 640x480 with 1 Axes>"
      ]
     },
     "metadata": {},
     "output_type": "display_data"
    }
   ],
   "source": [
    "def plot_rc_curve(fpr,tpr):\n",
    "    plt.plot(fpr, tpr)\n",
    "    plt.plot([0,1],[0,1],\"k--\")\n",
    "    plt.xlabel(\"False Positive Rate\")\n",
    "    plt.ylabel(\"True Positive Rate\")\n",
    "plot_rc_curve(fpr,tpr)\n",
    "plt.show()"
   ]
  },
  {
   "cell_type": "markdown",
   "id": "e7cefa55",
   "metadata": {},
   "source": [
    "Dotted line is an untrained classifier"
   ]
  },
  {
   "cell_type": "markdown",
   "id": "91cf58c6",
   "metadata": {},
   "source": [
    "Tradeoff: The higher the recall (TPR), the higher the FPR"
   ]
  },
  {
   "cell_type": "markdown",
   "id": "f1d8a4c2",
   "metadata": {},
   "source": [
    "**Area Under Curve (AUC)** can be used to compare classifiers. Consider a classifier that is perfect: It will make a right angle with the graph. However, an untrained classifier will make a linear line.<br><br>\n",
    "Best Classifier: **ROC AUC** = 1<br>\n",
    "Worst Classifier: **ROC AUC** = .5"
   ]
  },
  {
   "cell_type": "markdown",
   "id": "1b29a0d2",
   "metadata": {},
   "source": [
    "### Sklearn AUC"
   ]
  },
  {
   "cell_type": "markdown",
   "id": "45fb0305",
   "metadata": {},
   "source": [
    "This is good! However, it is likely because there are few positives (5's) compared to negatives (non 5's). The PR makes it clear that this model has room for improvement"
   ]
  },
  {
   "cell_type": "code",
   "execution_count": 29,
   "id": "c1c1b9ae",
   "metadata": {},
   "outputs": [
    {
     "data": {
      "text/plain": [
       "0.9604938554008616"
      ]
     },
     "execution_count": 29,
     "metadata": {},
     "output_type": "execute_result"
    }
   ],
   "source": [
    "from sklearn.metrics import roc_auc_score\n",
    "roc_auc_score(y_train_5, y_scores)"
   ]
  },
  {
   "cell_type": "markdown",
   "id": "8cac43a4",
   "metadata": {},
   "source": [
    "### When to use each curve?"
   ]
  },
  {
   "cell_type": "markdown",
   "id": "39195ced",
   "metadata": {},
   "source": [
    "Use precision/recall (PR) curve when positive class is rare or when you care more about false positives than false negatives.\n",
    "Use ROC curve otherwise.\n",
    "\n"
   ]
  },
  {
   "cell_type": "markdown",
   "id": "d09bd1e7",
   "metadata": {},
   "source": [
    "### SGD classifier vs. RandomForestClassifier"
   ]
  },
  {
   "cell_type": "markdown",
   "id": "0c9f4e28",
   "metadata": {},
   "source": [
    "`RandomForestClassifier` doesn't have decision_function(). Instead, it returns a probability for each instance representing a class."
   ]
  },
  {
   "cell_type": "code",
   "execution_count": 30,
   "id": "364a081d",
   "metadata": {
    "scrolled": true
   },
   "outputs": [],
   "source": [
    "from sklearn.ensemble import RandomForestClassifier\n",
    "\n",
    "forest_clf = RandomForestClassifier(random_state=42)\n",
    "y_probas_forest = cross_val_predict(forest_clf, X_train, y_train_5, cv=3,\n",
    "                                   method=\"predict_proba\")"
   ]
  },
  {
   "cell_type": "markdown",
   "id": "7232463f",
   "metadata": {},
   "source": [
    "Each column is the probabilty for a given class, each row is for an instance. ie Col1 = Not a five, Col2 = Is a five"
   ]
  },
  {
   "cell_type": "code",
   "execution_count": 31,
   "id": "db1411a4",
   "metadata": {},
   "outputs": [
    {
     "data": {
      "text/plain": [
       "array([[0.11, 0.89],\n",
       "       [0.98, 0.02],\n",
       "       [0.96, 0.04],\n",
       "       ...,\n",
       "       [0.02, 0.98],\n",
       "       [0.92, 0.08],\n",
       "       [0.93, 0.07]])"
      ]
     },
     "execution_count": 31,
     "metadata": {},
     "output_type": "execute_result"
    }
   ],
   "source": [
    "y_probas_forest"
   ]
  },
  {
   "cell_type": "markdown",
   "id": "316e7df7",
   "metadata": {},
   "source": [
    "`roc_curve()` function expects labels and scores, but you can give it probabilities instead. "
   ]
  },
  {
   "cell_type": "code",
   "execution_count": 32,
   "id": "3ec3d368",
   "metadata": {},
   "outputs": [],
   "source": [
    "y_forest_scores = y_probas_forest[:,1]\n",
    "fpr_forest, tpr_forest, threshold_forest = roc_curve(y_train_5, y_forest_scores)"
   ]
  },
  {
   "cell_type": "markdown",
   "id": "b60db223",
   "metadata": {},
   "source": [
    "Pretty good! Random Forest does better"
   ]
  },
  {
   "cell_type": "code",
   "execution_count": 33,
   "id": "cbb31b5e",
   "metadata": {},
   "outputs": [
    {
     "data": {
      "image/png": "[encoded data removed]",
      "text/plain": [
       "<Figure size 640x480 with 1 Axes>"
      ]
     },
     "metadata": {},
     "output_type": "display_data"
    }
   ],
   "source": [
    "plot_rc_curve(fpr, tpr)\n",
    "plot_rc_curve(fpr_forest, tpr_forest)\n",
    "plt.show()"
   ]
  },
  {
   "cell_type": "code",
   "execution_count": 34,
   "id": "166d27f2",
   "metadata": {},
   "outputs": [
    {
     "data": {
      "text/plain": [
       "0.9983296721818179"
      ]
     },
     "execution_count": 34,
     "metadata": {},
     "output_type": "execute_result"
    }
   ],
   "source": [
    "roc_auc_score(y_train_5, y_forest_scores)"
   ]
  },
  {
   "cell_type": "markdown",
   "id": "97e4b53a",
   "metadata": {},
   "source": [
    "#### Precision/Recall Scores"
   ]
  },
  {
   "cell_type": "code",
   "execution_count": 35,
   "id": "8ce4c738",
   "metadata": {},
   "outputs": [],
   "source": [
    "forest_precision, forest_recall, forest_threshold = precision_recall_curve(y_train_5, y_forest_scores)"
   ]
  },
  {
   "cell_type": "code",
   "execution_count": 36,
   "id": "48e2318d",
   "metadata": {},
   "outputs": [
    {
     "data": {
      "image/png": "[encoded data removed]",
      "text/plain": [
       "<Figure size 640x480 with 1 Axes>"
      ]
     },
     "metadata": {},
     "output_type": "display_data"
    }
   ],
   "source": [
    "plt.plot(forest_recall, forest_precision)\n",
    "plt.xlabel(\"Recall\")\n",
    "plt.ylabel(\"Precision\")\n",
    "plt.show()"
   ]
  },
  {
   "cell_type": "code",
   "execution_count": 37,
   "id": "db189f4b",
   "metadata": {},
   "outputs": [
    {
     "data": {
      "text/plain": [
       "34"
      ]
     },
     "execution_count": 37,
     "metadata": {},
     "output_type": "execute_result"
    }
   ],
   "source": [
    "np.argmax(forest_precision*forest_recall)"
   ]
  },
  {
   "cell_type": "code",
   "execution_count": 38,
   "id": "b63aa3ac",
   "metadata": {},
   "outputs": [
    {
     "name": "stdout",
     "output_type": "stream",
     "text": [
      "0.9598197521592189\n",
      "0.9429994465965689\n"
     ]
    }
   ],
   "source": [
    "print(forest_precision[34])\n",
    "print(forest_recall[34])"
   ]
  },
  {
   "cell_type": "markdown",
   "id": "bec232b0",
   "metadata": {},
   "source": [
    "## Now, predicting more than just 5's"
   ]
  },
  {
   "cell_type": "markdown",
   "id": "0c0cd17b",
   "metadata": {},
   "source": [
    "**Multiclass/Multinomial classifiers** can distinguish between more than two classes\n",
    "- Logistic Regression classifiers\n",
    "- Random forest classifiers\n",
    "- Naive Bayes classifiers\n",
    "\n",
    "**Binary Classifiers** can only distinguish between two classes. However, these can be used multiple times to perform multi-class classification\n",
    "- Support Vector Machine clfs\n",
    "- SGD clfs"
   ]
  },
  {
   "cell_type": "markdown",
   "id": "b4795a07",
   "metadata": {},
   "source": [
    "**One-versus-the-rest (OvR) strategy**: One way to detect the digits would be to train 10 classes to detect each digit (0, 1, 2, ...). Then, you select the highest score from all the classifiers. "
   ]
  },
  {
   "cell_type": "markdown",
   "id": "20e56dbd",
   "metadata": {},
   "source": [
    "**One-versus-one (OvO) strategy** - Each binary classifier is trained to distinguish between a pair of digits. One to distingush 0's and 1's, 0's and 2's, 1's and 2's ...\n",
    "<br>\n",
    "Requires $N\\times(N-1) / 2$ classifiers. For this, you need 45! The advantage of this is that each classifier only must be trained on the set for the two classes it distinguishes between"
   ]
  },
  {
   "cell_type": "markdown",
   "id": "9775e6e6",
   "metadata": {},
   "source": [
    "Some algorithms scale poorly with size of dataset, so **OvO** comes in handy. For most binary classification algorithms, **OvR** is preferred."
   ]
  },
  {
   "cell_type": "markdown",
   "id": "bccbfe92",
   "metadata": {},
   "source": [
    "*Sklearn automatically uses on or another depending on the algorithm.*"
   ]
  },
  {
   "cell_type": "code",
   "execution_count": 39,
   "id": "2ad287f2",
   "metadata": {},
   "outputs": [
    {
     "name": "stderr",
     "output_type": "stream",
     "text": [
      "/opt/homebrew/Caskroom/miniforge/base/envs/DataScience/lib/python3.11/site-packages/sklearn/base.py:450: UserWarning: X does not have valid feature names, but SVC was fitted with feature names\n",
      "  warnings.warn(\n"
     ]
    },
    {
     "data": {
      "text/plain": [
       "array([5], dtype=uint8)"
      ]
     },
     "execution_count": 39,
     "metadata": {},
     "output_type": "execute_result"
    }
   ],
   "source": [
    "from sklearn.svm import SVC\n",
    "svm_clf = SVC()\n",
    "svm_clf.fit(X_train, y_train) # Entire training set\n",
    "svm_clf.predict([some_digit])"
   ]
  },
  {
   "cell_type": "markdown",
   "id": "f7c5542c",
   "metadata": {},
   "source": [
    "The **OvO** strategy was automatically used in the background"
   ]
  },
  {
   "cell_type": "code",
   "execution_count": 40,
   "id": "b31494cb",
   "metadata": {
    "scrolled": true
   },
   "outputs": [
    {
     "name": "stderr",
     "output_type": "stream",
     "text": [
      "/opt/homebrew/Caskroom/miniforge/base/envs/DataScience/lib/python3.11/site-packages/sklearn/base.py:450: UserWarning: X does not have valid feature names, but SVC was fitted with feature names\n",
      "  warnings.warn(\n"
     ]
    },
    {
     "data": {
      "text/plain": [
       "5"
      ]
     },
     "execution_count": 40,
     "metadata": {},
     "output_type": "execute_result"
    }
   ],
   "source": [
    "np.argmax(svm_clf.decision_function([some_digit]))"
   ]
  },
  {
   "cell_type": "markdown",
   "id": "21856c1d",
   "metadata": {},
   "source": [
    "Use .classes_ to access classes"
   ]
  },
  {
   "cell_type": "code",
   "execution_count": 41,
   "id": "5862060a",
   "metadata": {},
   "outputs": [
    {
     "data": {
      "text/plain": [
       "array([0, 1, 2, 3, 4, 5, 6, 7, 8, 9], dtype=uint8)"
      ]
     },
     "execution_count": 41,
     "metadata": {},
     "output_type": "execute_result"
    }
   ],
   "source": [
    "svm_clf.classes_"
   ]
  },
  {
   "cell_type": "markdown",
   "id": "c24bbf39",
   "metadata": {},
   "source": [
    "If **OvO** or **OvR** is desired over another, use `OneVsRestClassifier()`"
   ]
  },
  {
   "cell_type": "markdown",
   "id": "a45e5bff",
   "metadata": {},
   "source": [
    "### Assessing Model"
   ]
  },
  {
   "cell_type": "code",
   "execution_count": 42,
   "id": "e1826b72",
   "metadata": {},
   "outputs": [
    {
     "data": {
      "text/plain": [
       "array([0.87365, 0.85835, 0.8689 ])"
      ]
     },
     "execution_count": 42,
     "metadata": {},
     "output_type": "execute_result"
    }
   ],
   "source": [
    "cross_val_score(sgd_clf, X_train, y_train, cv=3, scoring='accuracy')"
   ]
  },
  {
   "cell_type": "markdown",
   "id": "005f5fad",
   "metadata": {},
   "source": [
    "Scaling data can help!"
   ]
  },
  {
   "cell_type": "code",
   "execution_count": 43,
   "id": "4ede0c09",
   "metadata": {},
   "outputs": [
    {
     "data": {
      "text/plain": [
       "array([0.8983, 0.891 , 0.9018])"
      ]
     },
     "execution_count": 43,
     "metadata": {},
     "output_type": "execute_result"
    }
   ],
   "source": [
    "from sklearn.preprocessing import StandardScaler\n",
    "scaler = StandardScaler()\n",
    "X_train_transformed = scaler.fit_transform(X_train.astype(np.float64))\n",
    "\n",
    "cross_val_score(sgd_clf, X_train_transformed, y_train,\n",
    "               cv=3, scoring='accuracy')"
   ]
  },
  {
   "cell_type": "markdown",
   "id": "56102f3d",
   "metadata": {},
   "source": [
    "## Error Analysis"
   ]
  },
  {
   "cell_type": "markdown",
   "id": "b38c0445",
   "metadata": {},
   "source": [
    "Here, we assume that the best models have already been chosen/fine-tuned. One way to improve is is analyzing the types of errors that it makes."
   ]
  },
  {
   "cell_type": "markdown",
   "id": "ae7be3ff",
   "metadata": {},
   "source": [
    "Look at the confusion matrix"
   ]
  },
  {
   "cell_type": "code",
   "execution_count": 44,
   "id": "9860c60d",
   "metadata": {},
   "outputs": [
    {
     "data": {
      "text/plain": [
       "array([[5577,    0,   22,    5,    8,   43,   36,    6,  225,    1],\n",
       "       [   0, 6400,   37,   24,    4,   44,    4,    7,  212,   10],\n",
       "       [  27,   27, 5220,   92,   73,   27,   67,   36,  378,   11],\n",
       "       [  22,   17,  117, 5227,    2,  203,   27,   40,  403,   73],\n",
       "       [  12,   14,   41,    9, 5182,   12,   34,   27,  347,  164],\n",
       "       [  27,   15,   30,  168,   53, 4444,   75,   14,  535,   60],\n",
       "       [  30,   15,   42,    3,   44,   97, 5552,    3,  131,    1],\n",
       "       [  21,   10,   51,   30,   49,   12,    3, 5684,  195,  210],\n",
       "       [  17,   63,   48,   86,    3,  126,   25,   10, 5429,   44],\n",
       "       [  25,   18,   30,   64,  118,   36,    1,  179,  371, 5107]])"
      ]
     },
     "execution_count": 44,
     "metadata": {},
     "output_type": "execute_result"
    }
   ],
   "source": [
    "y_train_pred = cross_val_predict(sgd_clf, X_train_transformed, y_train, cv=3)\n",
    "conf_mx = confusion_matrix(y_train, y_train_pred)\n",
    "conf_mx"
   ]
  },
  {
   "cell_type": "code",
   "execution_count": 45,
   "id": "508c60d9",
   "metadata": {},
   "outputs": [
    {
     "data": {
      "text/plain": [
       "<matplotlib.image.AxesImage at 0x16934ff10>"
      ]
     },
     "execution_count": 45,
     "metadata": {},
     "output_type": "execute_result"
    },
    {
     "data": {
      "image/png": "[encoded data removed]",
      "text/plain": [
       "<Figure size 480x480 with 1 Axes>"
      ]
     },
     "metadata": {},
     "output_type": "display_data"
    }
   ],
   "source": [
    "plt.matshow(conf_mx, cmap=plt.cm.gray)"
   ]
  },
  {
   "cell_type": "markdown",
   "id": "6994ec70",
   "metadata": {},
   "source": [
    "Should divide each number by the # of numbers in order to normalize for differing amounts of digits."
   ]
  },
  {
   "cell_type": "code",
   "execution_count": 47,
   "id": "47029e94",
   "metadata": {},
   "outputs": [
    {
     "data": {
      "text/plain": [
       "array([[5923],\n",
       "       [6742],\n",
       "       [5958],\n",
       "       [6131],\n",
       "       [5842],\n",
       "       [5421],\n",
       "       [5918],\n",
       "       [6265],\n",
       "       [5851],\n",
       "       [5949]])"
      ]
     },
     "execution_count": 47,
     "metadata": {},
     "output_type": "execute_result"
    }
   ],
   "source": [
    "row_sums = conf_mx.sum(axis=1, keepdims=True)\n",
    "row_sums"
   ]
  },
  {
   "cell_type": "markdown",
   "id": "9b006416",
   "metadata": {},
   "source": [
    "Total sum = 10, sum of each row = 1. Therefore, normalized!"
   ]
  },
  {
   "cell_type": "code",
   "execution_count": 53,
   "id": "8ae90278",
   "metadata": {},
   "outputs": [
    {
     "data": {
      "text/plain": [
       "10.0"
      ]
     },
     "execution_count": 53,
     "metadata": {},
     "output_type": "execute_result"
    }
   ],
   "source": [
    "norm_conf_matrix = conf_mx / row_sums\n",
    "norm_conf_matrix.sum() "
   ]
  },
  {
   "cell_type": "code",
   "execution_count": 2,
   "id": "56039fb6",
   "metadata": {},
   "outputs": [
    {
     "data": {
      "text/plain": [
       "<matplotlib.image.AxesImage at 0x15438a8d0>"
      ]
     },
     "execution_count": 2,
     "metadata": {},
     "output_type": "execute_result"
    },
    {
     "data": {
      "image/png": "[encoded data removed]",
      "text/plain": [
       "<Figure size 480x480 with 1 Axes>"
      ]
     },
     "metadata": {},
     "output_type": "display_data"
    }
   ],
   "source": [
    "np.fill_diagonal(norm_conf_matrix, 0) # Fill diagonal to keep only errors!\n",
    "plt.matshow(norm_conf_matrix, cmap=plt.cm.gray)"
   ]
  },
  {
   "cell_type": "markdown",
   "id": "59323f5c",
   "metadata": {},
   "source": [
    "Rows are actual classes, columns are predicted classes. This tells us that 8's are often predicted instead of the right answer like 5. However, 8's generally get classified well."
   ]
  },
  {
   "cell_type": "markdown",
   "id": "bae85a7c",
   "metadata": {},
   "source": [
    "You can also analyze individual errors, though that is more time consuming."
   ]
  },
  {
   "cell_type": "code",
   "execution_count": 1,
   "id": "b06e33c6",
   "metadata": {},
   "outputs": [],
   "source": [
    "import dill\n",
    "dill.load_session('notebook_env.db')"
   ]
  },
  {
   "cell_type": "code",
   "execution_count": null,
   "id": "3c397d2d",
   "metadata": {},
   "outputs": [],
   "source": [
    "cl_a, cl_b = 3, 5\n",
    "X_aa = X_train[(y_train==cl_a) & (y_train_pred == cl_a)]\n",
    "X_ab = X_train[(y_train==cl_a) & (y_train_pred == cl_b)]\n",
    "X_ba = X_train[(y_train==cl_b) & (y_train_pred == cl_a)]\n",
    "X_bb = X_train[(y_train==cl_b) & (y_train_pred == cl_b)]"
   ]
  },
  {
   "cell_type": "code",
   "execution_count": null,
   "id": "14b423df",
   "metadata": {},
   "outputs": [],
   "source": [
    "def plot_digits(instances, images_per_row=10, **options):\n",
    "    size = 28\n",
    "    images_per_row = min(len(instances), images_per_row)\n",
    "    # This is equivalent to n_rows = ceil(len(instances) / images_per_row):\n",
    "    n_rows = (len(instances) - 1) // images_per_row + 1\n",
    "\n",
    "    # Append empty images to fill the end of the grid, if needed:\n",
    "    n_empty = n_rows * images_per_row - len(instances)\n",
    "    padded_instances = np.concatenate([instances, np.zeros((n_empty, size * size))], axis=0)\n",
    "\n",
    "    # Reshape the array so it's organized as a grid containing 28×28 images:\n",
    "    image_grid = padded_instances.reshape((n_rows, images_per_row, size, size))\n",
    "\n",
    "    # Combine axes 0 and 2 (vertical image grid axis, and vertical image axis),\n",
    "    # and axes 1 and 3 (horizontal axes). We first need to move the axes that we\n",
    "    # want to combine next to each other, using transpose(), and only then we\n",
    "    # can reshape:\n",
    "    big_image = image_grid.transpose(0, 2, 1, 3).reshape(n_rows * size,\n",
    "                                                         images_per_row * size)\n",
    "    # Now that we have a big image, we just need to show it:\n",
    "    plt.imshow(big_image, cmap = mpl.cm.binary, **options)\n",
    "    plt.axis(\"off\")"
   ]
  },
  {
   "cell_type": "code",
   "execution_count": null,
   "id": "254bef64",
   "metadata": {},
   "outputs": [],
   "source": [
    "plt.subplot(221); plot_digits(X_aa[:25], images_per_row=5) # True 3\n",
    "plt.subplot(222); plot_digits(X_ab[:25], images_per_row=5) # 3 mistaken for 5\n",
    "plt.subplot(223); plot_digits(X_ba[:25], images_per_row=5) # 5 mistaken for 3\n",
    "plt.subplot(224); plot_digits(X_bb[:25], images_per_row=5) # True 5"
   ]
  },
  {
   "cell_type": "markdown",
   "id": "1f80abd6",
   "metadata": {},
   "source": [
    "The reason the model is easily confused is because it is a *linear model* `SGDClassifier`. 3 and 5 have similar pixels, so it is easily confused "
   ]
  },
  {
   "cell_type": "markdown",
   "id": "b75bcfbd",
   "metadata": {},
   "source": [
    "The model is sensitive to rotation and translation as well"
   ]
  },
  {
   "cell_type": "markdown",
   "id": "0ce3c043",
   "metadata": {},
   "source": [
    "## Multilabel Classification"
   ]
  },
  {
   "cell_type": "markdown",
   "id": "44ae2ff5",
   "metadata": {},
   "source": [
    "These classifiers are trained with multiple binary tags, such as [1,0,1] for Bob, no Alice, and Charlie"
   ]
  },
  {
   "cell_type": "code",
   "execution_count": 2,
   "id": "373d0b67",
   "metadata": {},
   "outputs": [
    {
     "data": {
      "text/html": [
       "<style>#sk-container-id-1 {color: black;background-color: white;}#sk-container-id-1 pre{padding: 0;}#sk-container-id-1 div.sk-toggleable {background-color: white;}#sk-container-id-1 label.sk-toggleable__label {cursor: pointer;display: block;width: 100%;margin-bottom: 0;padding: 0.3em;box-sizing: border-box;text-align: center;}#sk-container-id-1 label.sk-toggleable__label-arrow:before {content: \"▸\";float: left;margin-right: 0.25em;color: #696969;}#sk-container-id-1 label.sk-toggleable__label-arrow:hover:before {color: black;}#sk-container-id-1 div.sk-estimator:hover label.sk-toggleable__label-arrow:before {color: black;}#sk-container-id-1 div.sk-toggleable__content {max-height: 0;max-width: 0;overflow: hidden;text-align: left;background-color: #f0f8ff;}#sk-container-id-1 div.sk-toggleable__content pre {margin: 0.2em;color: black;border-radius: 0.25em;background-color: #f0f8ff;}#sk-container-id-1 input.sk-toggleable__control:checked~div.sk-toggleable__content {max-height: 200px;max-width: 100%;overflow: auto;}#sk-container-id-1 input.sk-toggleable__control:checked~label.sk-toggleable__label-arrow:before {content: \"▾\";}#sk-container-id-1 div.sk-estimator input.sk-toggleable__control:checked~label.sk-toggleable__label {background-color: #d4ebff;}#sk-container-id-1 div.sk-label input.sk-toggleable__control:checked~label.sk-toggleable__label {background-color: #d4ebff;}#sk-container-id-1 input.sk-hidden--visually {border: 0;clip: rect(1px 1px 1px 1px);clip: rect(1px, 1px, 1px, 1px);height: 1px;margin: -1px;overflow: hidden;padding: 0;position: absolute;width: 1px;}#sk-container-id-1 div.sk-estimator {font-family: monospace;background-color: #f0f8ff;border: 1px dotted black;border-radius: 0.25em;box-sizing: border-box;margin-bottom: 0.5em;}#sk-container-id-1 div.sk-estimator:hover {background-color: #d4ebff;}#sk-container-id-1 div.sk-parallel-item::after {content: \"\";width: 100%;border-bottom: 1px solid gray;flex-grow: 1;}#sk-container-id-1 div.sk-label:hover label.sk-toggleable__label {background-color: #d4ebff;}#sk-container-id-1 div.sk-serial::before {content: \"\";position: absolute;border-left: 1px solid gray;box-sizing: border-box;top: 0;bottom: 0;left: 50%;z-index: 0;}#sk-container-id-1 div.sk-serial {display: flex;flex-direction: column;align-items: center;background-color: white;padding-right: 0.2em;padding-left: 0.2em;position: relative;}#sk-container-id-1 div.sk-item {position: relative;z-index: 1;}#sk-container-id-1 div.sk-parallel {display: flex;align-items: stretch;justify-content: center;background-color: white;position: relative;}#sk-container-id-1 div.sk-item::before, #sk-container-id-1 div.sk-parallel-item::before {content: \"\";position: absolute;border-left: 1px solid gray;box-sizing: border-box;top: 0;bottom: 0;left: 50%;z-index: -1;}#sk-container-id-1 div.sk-parallel-item {display: flex;flex-direction: column;z-index: 1;position: relative;background-color: white;}#sk-container-id-1 div.sk-parallel-item:first-child::after {align-self: flex-end;width: 50%;}#sk-container-id-1 div.sk-parallel-item:last-child::after {align-self: flex-start;width: 50%;}#sk-container-id-1 div.sk-parallel-item:only-child::after {width: 0;}#sk-container-id-1 div.sk-dashed-wrapped {border: 1px dashed gray;margin: 0 0.4em 0.5em 0.4em;box-sizing: border-box;padding-bottom: 0.4em;background-color: white;}#sk-container-id-1 div.sk-label label {font-family: monospace;font-weight: bold;display: inline-block;line-height: 1.2em;}#sk-container-id-1 div.sk-label-container {text-align: center;}#sk-container-id-1 div.sk-container {/* jupyter's `normalize.less` sets `[hidden] { display: none; }` but bootstrap.min.css set `[hidden] { display: none !important; }` so we also need the `!important` here to be able to override the default hidden behavior on the sphinx rendered scikit-learn.org. See: https://github.com/scikit-learn/scikit-learn/issues/21755 */display: inline-block !important;position: relative;}#sk-container-id-1 div.sk-text-repr-fallback {display: none;}</style><div id=\"sk-container-id-1\" class=\"sk-top-container\"><div class=\"sk-text-repr-fallback\"><pre>KNeighborsClassifier()</pre><b>In a Jupyter environment, please rerun this cell to show the HTML representation or trust the notebook. <br />On GitHub, the HTML representation is unable to render, please try loading this page with nbviewer.org.</b></div><div class=\"sk-container\" hidden><div class=\"sk-item\"><div class=\"sk-estimator sk-toggleable\"><input class=\"sk-toggleable__control sk-hidden--visually\" id=\"sk-estimator-id-1\" type=\"checkbox\" checked><label for=\"sk-estimator-id-1\" class=\"sk-toggleable__label sk-toggleable__label-arrow\">KNeighborsClassifier</label><div class=\"sk-toggleable__content\"><pre>KNeighborsClassifier()</pre></div></div></div></div></div>"
      ],
      "text/plain": [
       "KNeighborsClassifier()"
      ]
     },
     "execution_count": 2,
     "metadata": {},
     "output_type": "execute_result"
    }
   ],
   "source": [
    "from sklearn.neighbors import KNeighborsClassifier\n",
    "\n",
    "y_train_large = (y_train >= 7)\n",
    "y_train_odd = (y_train % 2 == 1)\n",
    "\n",
    "\n",
    "# Dimensionality: (instances, 2)\n",
    "y_multilabel = np.c_[y_train_large, y_train_odd] \n",
    "\n",
    "\n",
    "knn_clf = KNeighborsClassifier()\n",
    "knn_clf.fit(X_train, y_multilabel)"
   ]
  },
  {
   "cell_type": "code",
   "execution_count": null,
   "id": "04f103bf",
   "metadata": {},
   "outputs": [],
   "source": [
    "knn_clf.predict([X_train.iloc[0]])"
   ]
  },
  {
   "cell_type": "markdown",
   "id": "a876d661",
   "metadata": {},
   "source": [
    "Digit 5 is indeed smaller than 7 and odd"
   ]
  },
  {
   "cell_type": "markdown",
   "id": "a807f0fb",
   "metadata": {},
   "source": [
    "### Evaluating multilabel classifier"
   ]
  },
  {
   "cell_type": "markdown",
   "id": "06123c98",
   "metadata": {},
   "source": [
    "#### F1 Score (Harmonic Mean of Precision and Recall)"
   ]
  },
  {
   "cell_type": "code",
   "execution_count": null,
   "id": "3d522c70",
   "metadata": {},
   "outputs": [],
   "source": [
    "y_train_knn_pred = cross_val_predict(knn_clf, X_train, y_multilabel, cv=3)\n",
    "f1_score(y_multilabel, y_train_knn_pred, average='macro')"
   ]
  },
  {
   "cell_type": "markdown",
   "id": "fdfe7193",
   "metadata": {},
   "source": [
    "## Multioutput Classification"
   ]
  },
  {
   "cell_type": "markdown",
   "id": "017e8b9c",
   "metadata": {},
   "source": [
    "**Multioutput-multiclass classification** - generalization of multilabel classification where each label can be multiclass (musn't be binary)"
   ]
  },
  {
   "cell_type": "markdown",
   "id": "34c2fdbe",
   "metadata": {},
   "source": [
    "To illustrate this, we make a classifier that removes noise from images: <br><br>\n",
    "It takes in a noisy image and outputs a new, \"clean\" image"
   ]
  },
  {
   "cell_type": "markdown",
   "id": "e7934df0",
   "metadata": {},
   "source": [
    "#### First, let's add noise"
   ]
  },
  {
   "cell_type": "code",
   "execution_count": null,
   "id": "a50b97d9",
   "metadata": {},
   "outputs": [],
   "source": [
    "noise = np.random.randint(0, 100, (len(X_train), 784))\n",
    "X_train_mod = X_train + noise\n",
    "noise = np.random.randint(0, 100, (len(X_test), 784))\n",
    "X_test_mod = X_test + noise\n",
    "\n",
    "# y-value is a clean digit!\n",
    "y_train_mod = X_train \n",
    "y_test_mod = X_test"
   ]
  },
  {
   "cell_type": "code",
   "execution_count": null,
   "id": "b2c60cae",
   "metadata": {},
   "outputs": [],
   "source": [
    "knn_clf.fit(X_train_mod, y_train_mod)\n",
    "some_index=4\n",
    "clean_digit = knn_clf.predict([X_test_mod.iloc[some_index]])\n",
    "plt.imshow(clean_digit.reshape(28,28), cmap=mpl.cm.binary)"
   ]
  },
  {
   "cell_type": "code",
   "execution_count": null,
   "id": "3b0becaa",
   "metadata": {},
   "outputs": [],
   "source": [
    "dirty_digit = np.array(y_test_mod.iloc[some_index])\n",
    "plt.imshow(dirty_digit.reshape(28,28), cmap=mpl.cm.binary)"
   ]
  },
  {
   "cell_type": "markdown",
   "id": "78896d8f",
   "metadata": {},
   "source": [
    "# Exercises"
   ]
  },
  {
   "cell_type": "markdown",
   "id": "1597e4d7",
   "metadata": {},
   "source": [
    "1) Try to build a classifier for the MNIST dataset that achieves over 97% accuracy on the test set. Hint: the KNeighborsClassifier works quite well for this task; you just need to find good hyperparameter values (try a grid search on the weights and n_neighbors hyperparameters). "
   ]
  },
  {
   "cell_type": "markdown",
   "id": "b4576fbd",
   "metadata": {},
   "source": [
    "### Grid Search"
   ]
  },
  {
   "cell_type": "code",
   "execution_count": 40,
   "id": "fd1e1909",
   "metadata": {},
   "outputs": [],
   "source": [
    "from sklearn.experimental import enable_halving_search_cv\n",
    "from sklearn.model_selection import HalvingGridSearchCV\n",
    "from sklearn.model_selection import GridSearchCV\n",
    "from sklearn.neighbors import KNeighborsClassifier"
   ]
  },
  {
   "cell_type": "markdown",
   "id": "3d614544",
   "metadata": {},
   "source": [
    "`KNeighborsClassifier(\n",
    "    n_neighbors=5,\n",
    "    *,\n",
    "    weights='uniform',\n",
    "    algorithm='auto',\n",
    "    leaf_size=30,\n",
    "    p=2,\n",
    "    metric='minkowski',\n",
    "    metric_params=None,\n",
    "    n_jobs=None,`\n",
    "    \n",
    "   `weights : {'uniform', 'distance'}`"
   ]
  },
  {
   "cell_type": "markdown",
   "id": "ce20de95",
   "metadata": {},
   "source": [
    "Use `make_scorer` to make your own scorer function with average parameter of `f1_score` as 'weighted'"
   ]
  },
  {
   "cell_type": "code",
   "execution_count": 93,
   "id": "56aa5ba8",
   "metadata": {
    "scrolled": false
   },
   "outputs": [
    {
     "name": "stdout",
     "output_type": "stream",
     "text": [
      "n_iterations: 1\n",
      "n_required_iterations: 1\n",
      "n_possible_iterations: 1\n",
      "min_resources_: 60000\n",
      "max_resources_: 60000\n",
      "aggressive_elimination: False\n",
      "factor: 3\n",
      "----------\n",
      "iter: 0\n",
      "n_candidates: 1\n",
      "n_resources: 60000\n",
      "Fitting 2 folds for each of 1 candidates, totalling 2 fits\n"
     ]
    },
    {
     "data": {
      "text/html": [
       "<style>#sk-container-id-11 {color: black;background-color: white;}#sk-container-id-11 pre{padding: 0;}#sk-container-id-11 div.sk-toggleable {background-color: white;}#sk-container-id-11 label.sk-toggleable__label {cursor: pointer;display: block;width: 100%;margin-bottom: 0;padding: 0.3em;box-sizing: border-box;text-align: center;}#sk-container-id-11 label.sk-toggleable__label-arrow:before {content: \"▸\";float: left;margin-right: 0.25em;color: #696969;}#sk-container-id-11 label.sk-toggleable__label-arrow:hover:before {color: black;}#sk-container-id-11 div.sk-estimator:hover label.sk-toggleable__label-arrow:before {color: black;}#sk-container-id-11 div.sk-toggleable__content {max-height: 0;max-width: 0;overflow: hidden;text-align: left;background-color: #f0f8ff;}#sk-container-id-11 div.sk-toggleable__content pre {margin: 0.2em;color: black;border-radius: 0.25em;background-color: #f0f8ff;}#sk-container-id-11 input.sk-toggleable__control:checked~div.sk-toggleable__content {max-height: 200px;max-width: 100%;overflow: auto;}#sk-container-id-11 input.sk-toggleable__control:checked~label.sk-toggleable__label-arrow:before {content: \"▾\";}#sk-container-id-11 div.sk-estimator input.sk-toggleable__control:checked~label.sk-toggleable__label {background-color: #d4ebff;}#sk-container-id-11 div.sk-label input.sk-toggleable__control:checked~label.sk-toggleable__label {background-color: #d4ebff;}#sk-container-id-11 input.sk-hidden--visually {border: 0;clip: rect(1px 1px 1px 1px);clip: rect(1px, 1px, 1px, 1px);height: 1px;margin: -1px;overflow: hidden;padding: 0;position: absolute;width: 1px;}#sk-container-id-11 div.sk-estimator {font-family: monospace;background-color: #f0f8ff;border: 1px dotted black;border-radius: 0.25em;box-sizing: border-box;margin-bottom: 0.5em;}#sk-container-id-11 div.sk-estimator:hover {background-color: #d4ebff;}#sk-container-id-11 div.sk-parallel-item::after {content: \"\";width: 100%;border-bottom: 1px solid gray;flex-grow: 1;}#sk-container-id-11 div.sk-label:hover label.sk-toggleable__label {background-color: #d4ebff;}#sk-container-id-11 div.sk-serial::before {content: \"\";position: absolute;border-left: 1px solid gray;box-sizing: border-box;top: 0;bottom: 0;left: 50%;z-index: 0;}#sk-container-id-11 div.sk-serial {display: flex;flex-direction: column;align-items: center;background-color: white;padding-right: 0.2em;padding-left: 0.2em;position: relative;}#sk-container-id-11 div.sk-item {position: relative;z-index: 1;}#sk-container-id-11 div.sk-parallel {display: flex;align-items: stretch;justify-content: center;background-color: white;position: relative;}#sk-container-id-11 div.sk-item::before, #sk-container-id-11 div.sk-parallel-item::before {content: \"\";position: absolute;border-left: 1px solid gray;box-sizing: border-box;top: 0;bottom: 0;left: 50%;z-index: -1;}#sk-container-id-11 div.sk-parallel-item {display: flex;flex-direction: column;z-index: 1;position: relative;background-color: white;}#sk-container-id-11 div.sk-parallel-item:first-child::after {align-self: flex-end;width: 50%;}#sk-container-id-11 div.sk-parallel-item:last-child::after {align-self: flex-start;width: 50%;}#sk-container-id-11 div.sk-parallel-item:only-child::after {width: 0;}#sk-container-id-11 div.sk-dashed-wrapped {border: 1px dashed gray;margin: 0 0.4em 0.5em 0.4em;box-sizing: border-box;padding-bottom: 0.4em;background-color: white;}#sk-container-id-11 div.sk-label label {font-family: monospace;font-weight: bold;display: inline-block;line-height: 1.2em;}#sk-container-id-11 div.sk-label-container {text-align: center;}#sk-container-id-11 div.sk-container {/* jupyter's `normalize.less` sets `[hidden] { display: none; }` but bootstrap.min.css set `[hidden] { display: none !important; }` so we also need the `!important` here to be able to override the default hidden behavior on the sphinx rendered scikit-learn.org. See: https://github.com/scikit-learn/scikit-learn/issues/21755 */display: inline-block !important;position: relative;}#sk-container-id-11 div.sk-text-repr-fallback {display: none;}</style><div id=\"sk-container-id-11\" class=\"sk-top-container\"><div class=\"sk-text-repr-fallback\"><pre>HalvingGridSearchCV(cv=2, estimator=KNeighborsClassifier(), n_jobs=8,\n",
       "                    param_grid={&#x27;n_neighbors&#x27;: [4], &#x27;weights&#x27;: [&#x27;distance&#x27;]},\n",
       "                    scoring=make_scorer(f1_score, average=weighted), verbose=1)</pre><b>In a Jupyter environment, please rerun this cell to show the HTML representation or trust the notebook. <br />On GitHub, the HTML representation is unable to render, please try loading this page with nbviewer.org.</b></div><div class=\"sk-container\" hidden><div class=\"sk-item sk-dashed-wrapped\"><div class=\"sk-label-container\"><div class=\"sk-label sk-toggleable\"><input class=\"sk-toggleable__control sk-hidden--visually\" id=\"sk-estimator-id-31\" type=\"checkbox\" ><label for=\"sk-estimator-id-31\" class=\"sk-toggleable__label sk-toggleable__label-arrow\">HalvingGridSearchCV</label><div class=\"sk-toggleable__content\"><pre>HalvingGridSearchCV(cv=2, estimator=KNeighborsClassifier(), n_jobs=8,\n",
       "                    param_grid={&#x27;n_neighbors&#x27;: [4], &#x27;weights&#x27;: [&#x27;distance&#x27;]},\n",
       "                    scoring=make_scorer(f1_score, average=weighted), verbose=1)</pre></div></div></div><div class=\"sk-parallel\"><div class=\"sk-parallel-item\"><div class=\"sk-item\"><div class=\"sk-label-container\"><div class=\"sk-label sk-toggleable\"><input class=\"sk-toggleable__control sk-hidden--visually\" id=\"sk-estimator-id-32\" type=\"checkbox\" ><label for=\"sk-estimator-id-32\" class=\"sk-toggleable__label sk-toggleable__label-arrow\">estimator: KNeighborsClassifier</label><div class=\"sk-toggleable__content\"><pre>KNeighborsClassifier()</pre></div></div></div><div class=\"sk-serial\"><div class=\"sk-item\"><div class=\"sk-estimator sk-toggleable\"><input class=\"sk-toggleable__control sk-hidden--visually\" id=\"sk-estimator-id-33\" type=\"checkbox\" ><label for=\"sk-estimator-id-33\" class=\"sk-toggleable__label sk-toggleable__label-arrow\">KNeighborsClassifier</label><div class=\"sk-toggleable__content\"><pre>KNeighborsClassifier()</pre></div></div></div></div></div></div></div></div></div></div>"
      ],
      "text/plain": [
       "HalvingGridSearchCV(cv=2, estimator=KNeighborsClassifier(), n_jobs=8,\n",
       "                    param_grid={'n_neighbors': [4], 'weights': ['distance']},\n",
       "                    scoring=make_scorer(f1_score, average=weighted), verbose=1)"
      ]
     },
     "execution_count": 93,
     "metadata": {},
     "output_type": "execute_result"
    }
   ],
   "source": [
    "from sklearn.metrics import make_scorer\n",
    "from sklearn.metrics import f1_score\n",
    "import numpy as np \n",
    "param_grid = {\n",
    "    \"n_neighbors\": [4],\n",
    "    \"weights\": ['distance']\n",
    "}\n",
    "\n",
    "knn_clf = KNeighborsClassifier()\n",
    "\n",
    "scorer = make_scorer(f1_score, \n",
    "                                     average = 'weighted')\n",
    "\n",
    "grid_search = HalvingGridSearchCV(knn_clf, param_grid, cv=2, \n",
    "                           return_train_score=True, \n",
    "                           scoring=scorer,verbose=1, n_jobs=8)\n",
    "\n",
    "grid_search.fit(X_train_scl, y_train)"
   ]
  },
  {
   "cell_type": "code",
   "execution_count": 81,
   "id": "82e2145f",
   "metadata": {
    "scrolled": true
   },
   "outputs": [
    {
     "data": {
      "text/plain": [
       "{'n_neighbors': 4, 'weights': 'distance'}"
      ]
     },
     "execution_count": 81,
     "metadata": {},
     "output_type": "execute_result"
    }
   ],
   "source": [
    "grid_search.best_params_"
   ]
  },
  {
   "cell_type": "code",
   "execution_count": 82,
   "id": "0bf3a44e",
   "metadata": {
    "scrolled": true
   },
   "outputs": [
    {
     "data": {
      "text/plain": [
       "0.966782075027583"
      ]
     },
     "execution_count": 82,
     "metadata": {},
     "output_type": "execute_result"
    }
   ],
   "source": [
    "grid_search.best_score_"
   ]
  },
  {
   "cell_type": "code",
   "execution_count": 95,
   "id": "8b1b74ab",
   "metadata": {
    "scrolled": true
   },
   "outputs": [
    {
     "data": {
      "text/plain": [
       "0.9389904408093386"
      ]
     },
     "execution_count": 95,
     "metadata": {},
     "output_type": "execute_result"
    }
   ],
   "source": [
    "grid_search.best_score_"
   ]
  },
  {
   "cell_type": "code",
   "execution_count": 96,
   "id": "93886345",
   "metadata": {},
   "outputs": [
    {
     "name": "stderr",
     "output_type": "stream",
     "text": [
      "/opt/homebrew/Caskroom/miniforge/base/envs/DataScience/lib/python3.11/site-packages/sklearn/base.py:443: UserWarning: X has feature names, but KNeighborsClassifier was fitted without feature names\n",
      "  warnings.warn(\n"
     ]
    },
    {
     "data": {
      "text/plain": [
       "0.7903"
      ]
     },
     "execution_count": 96,
     "metadata": {},
     "output_type": "execute_result"
    }
   ],
   "source": [
    "from sklearn.metrics import accuracy_score\n",
    "\n",
    "y_pred = grid_search.predict(X_test)\n",
    "accuracy_score(y_test, y_pred)"
   ]
  },
  {
   "cell_type": "code",
   "execution_count": 97,
   "id": "d28fbb50",
   "metadata": {},
   "outputs": [
    {
     "data": {
      "text/plain": [
       "0.8012392302214566"
      ]
     },
     "execution_count": 97,
     "metadata": {},
     "output_type": "execute_result"
    }
   ],
   "source": [
    "f1_score(y_test, y_pred,average=\"weighted\")"
   ]
  },
  {
   "cell_type": "code",
   "execution_count": null,
   "id": "976006bf",
   "metadata": {},
   "outputs": [],
   "source": []
  }
 ],
 "metadata": {
  "kernelspec": {
   "display_name": "Python 3.11.0 64-bit ('DataScience': conda)",
   "language": "python",
   "name": "python3110jvsc74a57bd0ddd6124862d41a4ae89f5ecbe8de165b475f815fedf5e2377c44117f173a4c30"
  },
  "language_info": {
   "codemirror_mode": {
    "name": "ipython",
    "version": 3
   },
   "file_extension": ".py",
   "mimetype": "text/x-python",
   "name": "python",
   "nbconvert_exporter": "python",
   "pygments_lexer": "ipython3",
   "version": "3.11.0"
  }
 },
 "nbformat": 4,
 "nbformat_minor": 5
}
