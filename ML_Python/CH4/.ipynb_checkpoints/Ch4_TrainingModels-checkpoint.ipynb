{
 "cells": [
  {
   "cell_type": "markdown",
   "id": "ac238dad",
   "metadata": {},
   "source": [
    "# Training Models "
   ]
  },
  {
   "cell_type": "markdown",
   "id": "efa2cad9",
   "metadata": {},
   "source": [
    "You can do a lot without knowing how things work \"under the hood\"!"
   ]
  },
  {
   "cell_type": "markdown",
   "id": "153d621f",
   "metadata": {},
   "source": [
    "We will first look at the linear regression model. 2 ways to train it:\n",
    "- Using a \"closed-form\" equation that computes model parameters that best fit the model to the training set (minimize *cost function*)\n",
    "- Using an iterative optimization approach called **Gradient Descent** that tweaks parameters to minimize cost function.\n",
    " - Batch GD\n",
    " - Mini-batch GD\n",
    " - Stochastic GD"
   ]
  },
  {
   "cell_type": "markdown",
   "id": "c5f12cd5",
   "metadata": {},
   "source": [
    "## Linear Regression"
   ]
  },
  {
   "cell_type": "markdown",
   "id": "3034e957",
   "metadata": {},
   "source": [
    "Linear model makes a prediction by computing a *weighted sum* of input features <br>\n",
    "$\\hat{y}=\\theta_0+\\theta_1x_1+\\theta_2x_2+...+\\theta_nx_n$\n",
    "- $\\hat{y}$ is the predicted value\n",
    "- $n$ is the number of features\n",
    "- $\\theta_j$ is the $j^{th}$ model parameter. \n",
    "- $\\theta_0$ is the *bias term*"
   ]
  },
  {
   "cell_type": "markdown",
   "id": "59017290",
   "metadata": {},
   "source": [
    "This can be written in vectorized form: $\\hat{y} = h_{\\theta}(x) = \\theta\\cdot{x}$\n",
    "- $\\theta$ is the model's *parameter vector*, containing bias term $\\theta_0$ and feature weights $\\theta_1, \\ldots$\n",
    "- $\\bf{x}$ is the instance's *feature vector*, containing $x_0$ to $x_n$, where $x_0=1$\n",
    "- $h_0$ is hypothesis function"
   ]
  },
  {
   "cell_type": "markdown",
   "id": "035db154",
   "metadata": {},
   "source": [
    "### How to train it? "
   ]
  },
  {
   "cell_type": "markdown",
   "id": "46e9b4bb",
   "metadata": {},
   "source": [
    "Common error value is RMSE. To train, we find a **$\\bf{\\theta}$** that minimizes this function"
   ]
  },
  {
   "cell_type": "markdown",
   "id": "fb8900bd",
   "metadata": {},
   "source": [
    "$\\theta^Tx^{(i)}$ is the prediction $\\hat{y}$"
   ]
  },
  {
   "cell_type": "markdown",
   "id": "c6f11a70",
   "metadata": {},
   "source": [
    "$ MSE(\\bf{X}, h_{\\theta}) = \\frac{1}{m}\\sum_{i=1}^{m}(\\bf{\\theta^Tx^{(i)}-y^{(i)}})^2$"
   ]
  },
  {
   "cell_type": "markdown",
   "id": "f80a9d4f",
   "metadata": {},
   "source": [
    "### The Normal Equation"
   ]
  },
  {
   "cell_type": "markdown",
   "id": "0065fbfb",
   "metadata": {},
   "source": [
    "There is a *closed-form solution*, or a mathematical equation that gives the results directly. This is the **normal equation**"
   ]
  },
  {
   "cell_type": "markdown",
   "id": "bbaeaebf",
   "metadata": {},
   "source": [
    "Linear ish data to test this one"
   ]
  },
  {
   "cell_type": "code",
   "execution_count": 56,
   "id": "a6a90d1d",
   "metadata": {},
   "outputs": [],
   "source": [
    "import numpy as np\n",
    "import matplotlib.pyplot as plt\n",
    "%matplotlib inline\n",
    "\n",
    "X = 2*np.random.rand(100)\n",
    "y = 4 + 3*X + np.random.randn(100)"
   ]
  },
  {
   "cell_type": "code",
   "execution_count": 57,
   "id": "72f1b626",
   "metadata": {
    "scrolled": true
   },
   "outputs": [
    {
     "data": {
      "text/plain": [
       "<matplotlib.collections.PathCollection at 0x1535db1d0>"
      ]
     },
     "execution_count": 57,
     "metadata": {},
     "output_type": "execute_result"
    },
    {
     "data": {
      "image/png": "[encoded data removed]",
      "text/plain": [
       "<Figure size 640x480 with 1 Axes>"
      ]
     },
     "metadata": {},
     "output_type": "display_data"
    }
   ],
   "source": [
    "plt.scatter(X,y, alpha = .5)"
   ]
  },
  {
   "cell_type": "markdown",
   "id": "d1861207",
   "metadata": {},
   "source": [
    "Below, spaces represent dot product"
   ]
  },
  {
   "cell_type": "markdown",
   "id": "9a48e7d3",
   "metadata": {},
   "source": [
    "$$\\bf{\\hat{\\theta}=(X^TX)^{-1}\\quad X^T\\quad y }$$"
   ]
  },
  {
   "cell_type": "markdown",
   "id": "716e07a7",
   "metadata": {},
   "source": [
    "$$y = 4+ 3X + \\text{Randomness}$$"
   ]
  },
  {
   "cell_type": "code",
   "execution_count": 58,
   "id": "765f1176",
   "metadata": {},
   "outputs": [
    {
     "data": {
      "text/plain": [
       "array([3.96271046, 3.02319253])"
      ]
     },
     "execution_count": 58,
     "metadata": {},
     "output_type": "execute_result"
    }
   ],
   "source": [
    "X_b = np.c_[np.ones((100,1)), X]\n",
    "theta_best = np.linalg.inv( (X_b.T.dot(X_b)) ).dot(X_b.T).dot(y)\n",
    "theta_best"
   ]
  },
  {
   "cell_type": "markdown",
   "id": "2dba428d",
   "metadata": {},
   "source": [
    "We expect theta best to be 4 and 3, as seen above. The noise made it impossible to recover exact parameters."
   ]
  },
  {
   "cell_type": "markdown",
   "id": "de696772",
   "metadata": {},
   "source": [
    "#### Now, we can make predictions"
   ]
  },
  {
   "cell_type": "code",
   "execution_count": 59,
   "id": "3ed5b869",
   "metadata": {},
   "outputs": [
    {
     "data": {
      "text/plain": [
       "array([ 3.96271046, 10.00909552])"
      ]
     },
     "execution_count": 59,
     "metadata": {},
     "output_type": "execute_result"
    }
   ],
   "source": [
    "X_new = np.array([[0], [2]])\n",
    "X_new_b = np.c_[np.ones((2, 1)), X_new] \n",
    "\n",
    "y_predict = X_new_b.dot(theta_best)\n",
    "y_predict"
   ]
  },
  {
   "cell_type": "markdown",
   "id": "ec8e9a72",
   "metadata": {},
   "source": [
    "Plot predictions"
   ]
  },
  {
   "cell_type": "code",
   "execution_count": 60,
   "id": "a1399ea0",
   "metadata": {},
   "outputs": [
    {
     "data": {
      "text/plain": [
       "(0.0, 2.0, 0.0, 15.0)"
      ]
     },
     "execution_count": 60,
     "metadata": {},
     "output_type": "execute_result"
    },
    {
     "data": {
      "image/png": "[encoded data removed]",
      "text/plain": [
       "<Figure size 640x480 with 1 Axes>"
      ]
     },
     "metadata": {},
     "output_type": "display_data"
    }
   ],
   "source": [
    "plt.plot(X_new, y_predict, \"r-\")\n",
    "plt.plot(X,y, \"g.\", alpha=.75)\n",
    "plt.axis([0, 2, 0, 15])"
   ]
  },
  {
   "cell_type": "markdown",
   "id": "b3659cf3",
   "metadata": {},
   "source": [
    "Using SKLearn for linear regression"
   ]
  },
  {
   "cell_type": "code",
   "execution_count": 61,
   "id": "11360903",
   "metadata": {},
   "outputs": [
    {
     "data": {
      "text/plain": [
       "(array([3.96271046]), array([[3.02319253]]))"
      ]
     },
     "execution_count": 61,
     "metadata": {},
     "output_type": "execute_result"
    }
   ],
   "source": [
    "from sklearn.linear_model import LinearRegression\n",
    "\n",
    "X= X.reshape(100,1)\n",
    "y = y.reshape(100, 1)\n",
    "\n",
    "\n",
    "lin_reg = LinearRegression()\n",
    "lin_reg.fit(X, y)\n",
    "(lin_reg.intercept_, lin_reg.coef_)"
   ]
  },
  {
   "cell_type": "markdown",
   "id": "1f732ac9",
   "metadata": {},
   "source": [
    "These explicit solutions are ok with lots of instances and computational time varies ~linearly with instances. However, computational time regarding features is $O({n^2.4})$ to $O({n^3})$, so doubling features would result in a $2^{2.4}$ to $2^3$ increase."
   ]
  },
  {
   "cell_type": "markdown",
   "id": "37c87a0b",
   "metadata": {},
   "source": [
    "## Gradient Descent"
   ]
  },
  {
   "cell_type": "markdown",
   "id": "b8074512",
   "metadata": {},
   "source": [
    "Here is another algorithm capable of linear regression with more features."
   ]
  },
  {
   "cell_type": "markdown",
   "id": "af914038",
   "metadata": {},
   "source": [
    "The idea is to tweak parameters iteratively in order to minimize a cost function."
   ]
  },
  {
   "cell_type": "markdown",
   "id": "f6aab90d",
   "metadata": {},
   "source": [
    "It shoots for the gradient to be 0, or a minimum"
   ]
  },
  {
   "cell_type": "markdown",
   "id": "0aeb8578",
   "metadata": {},
   "source": [
    "important parameter is the size of steps, determined by *learning rate* hyperparameter. A larger learning rate is related to larger steps. Too small a learning rate can make it difficult to reach a minimum."
   ]
  },
  {
   "cell_type": "markdown",
   "id": "6972fa96",
   "metadata": {},
   "source": [
    "The MSE cost function is a **convex function**, which is where a line segment between any two points on curve never crosses curve."
   ]
  },
  {
   "cell_type": "markdown",
   "id": "6e8956df",
   "metadata": {},
   "source": [
    "This implies that there are no local minima, just one global minimum. It is also a continuous function with a slope that never changes abruptly. These two facts have a great consequence: Gradient Descent is guaranteed to approach arbitrarily close the global minimum (if you wait long enough and if the learning rate is not too high)."
   ]
  },
  {
   "cell_type": "markdown",
   "id": "d60a9d0e",
   "metadata": {},
   "source": [
    "Different scaling can affect the shape of this cost function! This is why all features should be on a similar scale to each other"
   ]
  },
  {
   "cell_type": "markdown",
   "id": "4a8be1c2",
   "metadata": {},
   "source": [
    "**Parameter Space**: The space in which a model searches in order to minimize a cost function."
   ]
  },
  {
   "cell_type": "markdown",
   "id": "6f2a74af",
   "metadata": {},
   "source": [
    "To implement *Gradient Descent*, the gradient of the cost function must be take. To do this, the *partial derivative* must be taken with respect to each feature."
   ]
  },
  {
   "cell_type": "markdown",
   "id": "88a437a0",
   "metadata": {},
   "source": [
    "$$\\frac{\\delta}{\\delta{\\theta_j}}\\text{MSE}(\\theta)=\\frac{2}{m}\\sum_{i=1}^{m} (\\theta^Tx^{(i)}-y^{(i)})x^{(i)}_j$$"
   ]
  },
  {
   "cell_type": "markdown",
   "id": "8452ac4c",
   "metadata": {},
   "source": [
    "Batch Gradient Descent must use the entire batch of training data at a time at every step! Therefore, it becomes very slow with lots of data."
   ]
  },
  {
   "cell_type": "markdown",
   "id": "1c0f0cac",
   "metadata": {},
   "source": [
    "### Convergence Rate: "
   ]
  },
  {
   "cell_type": "markdown",
   "id": "f497e8bf",
   "metadata": {},
   "source": [
    "When the cost function is convex and its slope does not change abruptly (as is the case for the MSE cost function), Batch Gradient Descent with a fixed learning rate will eventually converge to the optimal solution, but you may have to wait a while: it can take O(1/ε) iterations to reach the optimum within a range of ε, depending on the shape of the cost function. If you divide the tolerance by 10 to have a more precise solution, then the algorithm may have to run about 10 times longer."
   ]
  },
  {
   "cell_type": "markdown",
   "id": "a7f47ccf",
   "metadata": {},
   "source": [
    "Quick Implementation"
   ]
  },
  {
   "cell_type": "markdown",
   "id": "1e1e84ae",
   "metadata": {},
   "source": [
    "### Three different learning rates"
   ]
  },
  {
   "cell_type": "code",
   "execution_count": 62,
   "id": "b1d571f8",
   "metadata": {},
   "outputs": [
    {
     "data": {
      "text/plain": [
       "array([[3.96271046],\n",
       "       [3.02319253]])"
      ]
     },
     "execution_count": 62,
     "metadata": {},
     "output_type": "execute_result"
    }
   ],
   "source": [
    "eta = .1 # Learning Rate\n",
    "n_iterations = 1000\n",
    "m = 100\n",
    "\n",
    "theta = np.random.randn(2,1)\n",
    "\n",
    "for iteration in range(n_iterations):\n",
    "    gradients = 2/m * X_b.T.dot(X_b.dot(theta) - y)\n",
    "    theta = theta - eta * gradients\n",
    "theta"
   ]
  },
  {
   "cell_type": "code",
   "execution_count": 63,
   "id": "71d8838f",
   "metadata": {},
   "outputs": [
    {
     "data": {
      "text/plain": [
       "array([[3.92901429],\n",
       "       [3.05243794]])"
      ]
     },
     "execution_count": 63,
     "metadata": {},
     "output_type": "execute_result"
    }
   ],
   "source": [
    "eta = .01 # Learning Rate\n",
    "n_iterations = 1000\n",
    "m = 100\n",
    "\n",
    "theta = np.random.randn(2,1)\n",
    "\n",
    "for iteration in range(n_iterations):\n",
    "    gradients = 2/m * X_b.T.dot(X_b.dot(theta) - y)\n",
    "    theta = theta - eta * gradients\n",
    "theta"
   ]
  },
  {
   "cell_type": "code",
   "execution_count": 64,
   "id": "27482f14",
   "metadata": {},
   "outputs": [
    {
     "data": {
      "text/plain": [
       "(2, 1)"
      ]
     },
     "execution_count": 64,
     "metadata": {},
     "output_type": "execute_result"
    }
   ],
   "source": [
    "eta = .5 # Learning Rate\n",
    "n_iterations = 1000\n",
    "m = 100\n",
    "\n",
    "theta = np.random.randn(2,1)\n",
    "\n",
    "for iteration in range(n_iterations):\n",
    "    gradients = 2/m * X_b.T.dot(X_b.dot(theta) - y)\n",
    "    theta = theta - eta * gradients\n",
    "theta.shape"
   ]
  },
  {
   "cell_type": "markdown",
   "id": "63753094",
   "metadata": {},
   "source": [
    "`Grid Search` can be used to find a good learning rate. Be sure to use smaller range so as not to have models that take much too long to learn."
   ]
  },
  {
   "cell_type": "markdown",
   "id": "89b5a2bd",
   "metadata": {},
   "source": [
    "## Stochastic Gradient Descent"
   ]
  },
  {
   "cell_type": "markdown",
   "id": "ee60a765",
   "metadata": {},
   "source": [
    "Batch Gradient Descent must use *entire training set* at **every step!** *Stochastic Gradient Descent* is at the other end of the spectrum. Picks a random instance in the training set at every step and computes the gradients based only on that single instance. "
   ]
  },
  {
   "cell_type": "markdown",
   "id": "3fe3c12c",
   "metadata": {},
   "source": [
    "Obviously, this is much more noisy that Batch Descent. It will oscillate around minimum rather than settling."
   ]
  },
  {
   "cell_type": "markdown",
   "id": "3c9d37cc",
   "metadata": {},
   "source": [
    "**SGD** is good at jumping out of local minima! (If the cost function is very irregular)"
   ]
  },
  {
   "cell_type": "markdown",
   "id": "07d106e2",
   "metadata": {},
   "source": [
    "One strategy is to gradually reduce the learning rate so as to make a lot of progress at first and then setting at a global minimum. <br><br> **Learning Schedule**: A function that determines the learning rate at each iteration. Reduce it too quickly, you may get stuck in local minimum."
   ]
  },
  {
   "cell_type": "markdown",
   "id": "3a2cc039",
   "metadata": {},
   "source": [
    "### Simple implementation"
   ]
  },
  {
   "cell_type": "markdown",
   "id": "d7f1fceb",
   "metadata": {},
   "source": [
    "Each round is called an **epoch**<br><br>\n",
    "Iterate over **m** iterations"
   ]
  },
  {
   "cell_type": "code",
   "execution_count": 65,
   "id": "7e637b48",
   "metadata": {},
   "outputs": [
    {
     "data": {
      "text/plain": [
       "array([[3.89215189],\n",
       "       [3.05877472]])"
      ]
     },
     "execution_count": 65,
     "metadata": {},
     "output_type": "execute_result"
    }
   ],
   "source": [
    "n_epochs = 50\n",
    "t0, t1 = 5, 50 # Learning Schedule Hyperparameters\n",
    "\n",
    "def learning_schedule(t): # Modified inverse function\n",
    "    return t0 / (t + t1)\n",
    "\n",
    "theta = np.random.randn(2,1) # Random initialization of theta\n",
    "\n",
    "for epoch in range(n_epochs):\n",
    "    for i in range(m):\n",
    "        random_index = np.random.randint(m)\n",
    "        xi = X_b[random_index:random_index+1]\n",
    "        yi = y[random_index:random_index+1]\n",
    "        gradients = 2 * xi.T.dot(xi.dot(theta) - yi)\n",
    "        eta = learning_schedule(epoch * m + i)\n",
    "        theta = theta - eta * gradients\n",
    "        \n",
    "theta"
   ]
  },
  {
   "cell_type": "markdown",
   "id": "229befcf",
   "metadata": {},
   "source": [
    "### Stochastic Descent in SKLearn"
   ]
  },
  {
   "cell_type": "code",
   "execution_count": 66,
   "id": "3bab40da",
   "metadata": {},
   "outputs": [
    {
     "data": {
      "text/plain": [
       "(array([3.92439739]), array([3.02070103]))"
      ]
     },
     "execution_count": 66,
     "metadata": {},
     "output_type": "execute_result"
    }
   ],
   "source": [
    "from sklearn.linear_model import SGDRegressor\n",
    "\n",
    "# Max iterations, tol is loss drop during one epoch, begins w/ a learning rate of .1\n",
    "# penalty = None mean that there is no regularization\n",
    "sgd_reg = SGDRegressor(max_iter=1000, tol=1e-3, penalty=None, eta0=0.1) \n",
    "sgd_reg.fit(X, y.ravel())\n",
    "\n",
    "sgd_reg.intercept_, sgd_reg.coef_"
   ]
  },
  {
   "cell_type": "markdown",
   "id": "81b061a5",
   "metadata": {},
   "source": [
    "### Mini Batch Gradient Descent"
   ]
  },
  {
   "cell_type": "markdown",
   "id": "45d24990",
   "metadata": {},
   "source": [
    "Exactly what it sounds like: random mini-batches are trained on"
   ]
  },
  {
   "cell_type": "markdown",
   "id": "d6e6cd94",
   "metadata": {},
   "source": [
    "Mini batch is a little less stochastic than SGD, more than BGD"
   ]
  },
  {
   "cell_type": "markdown",
   "id": "4b6d440f",
   "metadata": {},
   "source": [
    "## Polynomial Regression"
   ]
  },
  {
   "cell_type": "markdown",
   "id": "6cc64648",
   "metadata": {},
   "source": [
    "You can use *linear model* to fit *non-linear data*!"
   ]
  },
  {
   "cell_type": "code",
   "execution_count": 67,
   "id": "7e0675de",
   "metadata": {},
   "outputs": [],
   "source": [
    "m = 100\n",
    "X = 6 * np.random.randn(m, 1) - 3\n",
    "y = .5*X**2 + X + 2 + np.random.randn(m, 1)"
   ]
  },
  {
   "cell_type": "code",
   "execution_count": 68,
   "id": "1006ed21",
   "metadata": {},
   "outputs": [
    {
     "data": {
      "image/png": "[encoded data removed]",
      "text/plain": [
       "<Figure size 640x480 with 1 Axes>"
      ]
     },
     "metadata": {},
     "output_type": "display_data"
    }
   ],
   "source": [
    "plt.axis([-3, 3, 0, 10])\n",
    "plt.plot(X,y,\"r.\",alpha=.9)\n",
    "plt.show()"
   ]
  },
  {
   "cell_type": "markdown",
   "id": "51e49215",
   "metadata": {},
   "source": [
    "Use sklearn to transform data to include a squared of each feature as a new feature."
   ]
  },
  {
   "cell_type": "code",
   "execution_count": 69,
   "id": "500dc481",
   "metadata": {
    "scrolled": true
   },
   "outputs": [
    {
     "data": {
      "text/plain": [
       "array([[-2.23785811]])"
      ]
     },
     "execution_count": 69,
     "metadata": {},
     "output_type": "execute_result"
    }
   ],
   "source": [
    "from sklearn.preprocessing import PolynomialFeatures\n",
    "poly_features = PolynomialFeatures(degree=1, include_bias=False)\n",
    "X_poly = poly_features.fit_transform(X)\n",
    "\n",
    "lin_reg = LinearRegression()\n",
    "lin_reg.fit(X_poly, y)\n",
    "lin_reg.coef_\n"
   ]
  },
  {
   "cell_type": "code",
   "execution_count": 70,
   "id": "3e22c4e8",
   "metadata": {},
   "outputs": [],
   "source": [
    "def generate_polynomial(coefs, intercept=0):\n",
    "    \n",
    "    return lambda x: intercept + np.sum([pow(x, i)*num for i, num in enumerate(coefs, start=1)])\n"
   ]
  },
  {
   "cell_type": "code",
   "execution_count": 71,
   "id": "dbc5c672",
   "metadata": {
    "scrolled": true
   },
   "outputs": [
    {
     "data": {
      "image/png": "[encoded data removed]",
      "text/plain": [
       "<Figure size 640x480 with 1 Axes>"
      ]
     },
     "metadata": {},
     "output_type": "display_data"
    }
   ],
   "source": [
    "plt.axis([-3, 3, 0, 10])\n",
    "plt.plot(X,y,\"r.\",alpha=.9)\n",
    "\n",
    "# Parabola\n",
    "def plot_polynomial(reg, xlim = [-3, 6], ylim=[0,10],n=50):\n",
    "    intercept = reg.intercept_\n",
    "    coef = np.ravel(reg.coef_)    \n",
    "    x = np.linspace(*xlim,num=n)\n",
    "    y = list(map(generate_polynomial(coef, intercept), x))\n",
    "\n",
    "    plt.axis(xlim+ylim)\n",
    "    plt.plot(x, y, 'b-')\n",
    "    \n",
    "plot_polynomial(lin_reg)\n",
    "plt.show()"
   ]
  },
  {
   "cell_type": "markdown",
   "id": "0ce24125",
   "metadata": {
    "scrolled": true
   },
   "source": [
    "## Learning Curves"
   ]
  },
  {
   "cell_type": "markdown",
   "id": "3cc3ff02",
   "metadata": {},
   "source": [
    "Plots of the model's performance on the training/validation set as a function of the training set size. <br><br>"
   ]
  },
  {
   "cell_type": "markdown",
   "id": "154dbc0e",
   "metadata": {},
   "source": [
    "#### Example:"
   ]
  },
  {
   "cell_type": "code",
   "execution_count": 72,
   "id": "27c43ac7",
   "metadata": {},
   "outputs": [],
   "source": [
    "from sklearn.metrics import mean_squared_error\n",
    "\n",
    "# Function to use train, test split for cross validation\n",
    "from sklearn.model_selection import train_test_split\n",
    "\n",
    "def plot_learning_curves(model, X, y, axis = [0, 80, 0, 3]):\n",
    "    # Splits X and y into test, train sets where test = 20% of set\n",
    "    X_train, X_val, y_train, y_val = train_test_split(X, y, test_size=0.2)  \n",
    "    train_errors, val_errors = [], []\n",
    "    \n",
    "    for m in range(1, len(X_train)):\n",
    "        # Fits model from first entry to $m_{th}$ entry.\n",
    "        model.fit(X_train[:m], y_train[:m])\n",
    "        y_train_predict = model.predict(X_train[:m])\n",
    "        y_val_predict = model.predict(X_val)\n",
    "        train_errors.append(mean_squared_error(y_train[:m], y_train_predict))\n",
    "        val_errors.append(mean_squared_error(y_val, y_val_predict))\n",
    "    plt.axis(axis)\n",
    "    plt.plot(np.sqrt(train_errors), \"r-+\", linewidth=2, label=\"train\")\n",
    "    plt.plot(np.sqrt(val_errors), \"b-\", linewidth=3, label=\"val\")\n",
    "    plt.xlabel(\"Training set size\")\n",
    "    plt.ylabel(\"RMSE\")\n",
    "    plt.legend()"
   ]
  },
  {
   "cell_type": "code",
   "execution_count": 73,
   "id": "81053128",
   "metadata": {},
   "outputs": [
    {
     "data": {
      "image/png": "[encoded data removed]",
      "text/plain": [
       "<Figure size 640x480 with 1 Axes>"
      ]
     },
     "metadata": {},
     "output_type": "display_data"
    }
   ],
   "source": [
    "lin_reg = LinearRegression()\n",
    "plot_learning_curves(lin_reg, X, y, axis=[0, 80, 0, 60])\n"
   ]
  },
  {
   "cell_type": "markdown",
   "id": "5cb70895",
   "metadata": {},
   "source": [
    "### Learning curve for *polynomial regressors*"
   ]
  },
  {
   "cell_type": "markdown",
   "id": "913259c0",
   "metadata": {},
   "source": [
    "They do look different than the previous ones. \n",
    "- The error on the **training data** is much lower \n",
    "- There is a significant **gap between curves**: Meaning that the model performs significantly better on training data than validation data. \n",
    "    - This is a strong sign of overfitting data. With *more data*, note, this problem is alleviated"
   ]
  },
  {
   "cell_type": "code",
   "execution_count": 74,
   "id": "b2ca4a9a",
   "metadata": {},
   "outputs": [
    {
     "data": {
      "image/png": "[encoded data removed]",
      "text/plain": [
       "<Figure size 640x480 with 1 Axes>"
      ]
     },
     "metadata": {},
     "output_type": "display_data"
    }
   ],
   "source": [
    "from sklearn.pipeline import Pipeline\n",
    "\n",
    "polynomial_regression = Pipeline([\n",
    "    (\"poly_features\", PolynomialFeatures(degree=10, include_bias=False)),\n",
    "    (\"lin_reg\", LinearRegression()),\n",
    "])\n",
    "\n",
    "plot_learning_curves(polynomial_regression, X, y)"
   ]
  },
  {
   "cell_type": "markdown",
   "id": "64dd4213",
   "metadata": {},
   "source": [
    "### Bias/Variance Trade-off"
   ]
  },
  {
   "cell_type": "markdown",
   "id": "f0f8a297",
   "metadata": {},
   "source": [
    "A Model's **generalization error** can be expressed as the sum of 3 errors:\n",
    "- **Bias**\n",
    "    - Error due to wrong model assumptions. A high-bias model is most likely to underfit training data.\n",
    "    - \"such as assuming that the data is linear when it is actually quadratic\"\n",
    "- **Variance**\n",
    "    - Due to models sensitivity to variations in training data.\n",
    "    - A model with many degrees of freedom (such as a high-degree pol‐ ynomial model) is likely to have high variance and thus overfit the training data.\n",
    "- **Irreducible Error**\n",
    "    - Due to noisiness of data itself."
   ]
  },
  {
   "cell_type": "markdown",
   "id": "d97aaa0d",
   "metadata": {},
   "source": [
    "## Regularized Linear Models"
   ]
  },
  {
   "cell_type": "markdown",
   "id": "1effdeca",
   "metadata": {},
   "source": [
    "A good way to reduce overfitting is to regularize the model (constrain it). By giving it fewer degrees of freedom , it is more difficult to overfit the data.\n",
    "- Example: To regularize a polynomial, reduce the degree. "
   ]
  },
  {
   "cell_type": "markdown",
   "id": "9e0ea486",
   "metadata": {},
   "source": [
    "For *linear models*, regularization is achieved through constraining the **weights** of the model. Three types of constraints models follow:"
   ]
  },
  {
   "cell_type": "markdown",
   "id": "a1bcfba7",
   "metadata": {},
   "source": [
    "## Ridge Regression"
   ]
  },
  {
   "cell_type": "markdown",
   "id": "eb80740d",
   "metadata": {},
   "source": [
    "**Ridge Regression/Tikhonov Regression**: A *regularization term* equal to $\\alpha\\sum^n_{i=1}\\theta_i^2$ is added to the cost function. Forces learning algorithm to keep model weights are small as possible. \n",
    "\n",
    "Regularization term should only be added during training. Once trained, use unregularized performance measure to evaluate performance."
   ]
  },
  {
   "cell_type": "markdown",
   "id": "8023d424",
   "metadata": {},
   "source": [
    "**Note:** Commonly, the cost function during training is different than the performance measure for testing."
   ]
  },
  {
   "cell_type": "markdown",
   "id": "24113b27",
   "metadata": {},
   "source": [
    "The hyperparameter $\\alpha$ determines the *degree of regularization*. If $\\alpha=0$, it is just Linear Regression. If α is very large, then all weights end up very close to zero and the result is a flat line going through the data’s mean"
   ]
  },
  {
   "cell_type": "markdown",
   "id": "705e6a2b",
   "metadata": {},
   "source": [
    "**L1 VS. L2 Norms**\n",
    "What is a **norm**: A mathematical thing applied to a vector. The norm of a vector maps vector values in $[0,\\infty)$ They are used to express *distances*, these vectors are *this* far apart by *this* norm"
   ]
  },
  {
   "cell_type": "markdown",
   "id": "449c4e0d",
   "metadata": {},
   "source": [
    "**P-norm**: $$||x||_p = (\\sum|x_i|^p)^{1/p}$$"
   ]
  },
  {
   "cell_type": "markdown",
   "id": "b4434ddb",
   "metadata": {},
   "source": [
    "**Euclidean distance**: $$||x||_2 = \\sqrt{(\\sum{x_i^2})}=\\sqrt{x_1^2+x_2^2+x_3^2+...}$$"
   ]
  },
  {
   "cell_type": "markdown",
   "id": "cc231529",
   "metadata": {},
   "source": [
    "\"As the crow flies\""
   ]
  },
  {
   "cell_type": "markdown",
   "id": "457fb3e1",
   "metadata": {},
   "source": [
    "**Taxicab distance**: $$||x||_1 = (\\sum|x_i|)$$"
   ]
  },
  {
   "cell_type": "markdown",
   "id": "68e9aa79",
   "metadata": {},
   "source": [
    "Taxicab moving through square streets of Manhattan"
   ]
  },
  {
   "cell_type": "markdown",
   "id": "24a9fe0e",
   "metadata": {},
   "source": [
    "#### Ridge Regression Cost Function:"
   ]
  },
  {
   "cell_type": "markdown",
   "id": "260d01af",
   "metadata": {},
   "source": [
    "$J(\\bf{\\theta}) = MSE(\\bf{\\theta})+\\alpha\\frac{1}{2}\\sum^n_{i=1}\\theta_i^2$"
   ]
  },
  {
   "cell_type": "markdown",
   "id": "9456c72e",
   "metadata": {},
   "source": [
    "## Closed Form Solutions"
   ]
  },
  {
   "cell_type": "markdown",
   "id": "c7e440c8",
   "metadata": {},
   "source": [
    "Review this!"
   ]
  },
  {
   "cell_type": "markdown",
   "id": "67039e04",
   "metadata": {},
   "source": [
    "$\\bf{\\hat{\\theta}}=(\\bf{X^TX+\\alpha{A}})^{-1}\\quad{X^T}\\quad{y}$"
   ]
  },
  {
   "cell_type": "code",
   "execution_count": 75,
   "id": "478a371b",
   "metadata": {},
   "outputs": [
    {
     "data": {
      "text/plain": [
       "array([[14.76501966]])"
      ]
     },
     "execution_count": 75,
     "metadata": {},
     "output_type": "execute_result"
    }
   ],
   "source": [
    "from sklearn.linear_model import Ridge\n",
    "ridge_reg = Ridge(alpha=1, solver='cholesky')\n",
    "ridge_reg.fit(X, y)\n",
    "ridge_reg.predict([[1.5]])"
   ]
  },
  {
   "cell_type": "code",
   "execution_count": 76,
   "id": "2440d9cc",
   "metadata": {},
   "outputs": [
    {
     "data": {
      "text/plain": [
       "array([13.57851892])"
      ]
     },
     "execution_count": 76,
     "metadata": {},
     "output_type": "execute_result"
    }
   ],
   "source": [
    "# Specifies type of regularization norm\n",
    "sgd_reg = SGDRegressor(penalty='l2') \n",
    "\n",
    "sgd_reg.fit(X, y.ravel())\n",
    "sgd_reg.predict([[1.5]])"
   ]
  },
  {
   "cell_type": "markdown",
   "id": "f6c9e2e1",
   "metadata": {},
   "source": [
    "### Lasso Regression"
   ]
  },
  {
   "cell_type": "markdown",
   "id": "f40813e9",
   "metadata": {},
   "source": [
    "Stands for *Least Absolute Shrinkage and Selection Operator Regression* haha. It is another regularization of linear regression, but it used the $\\ell_{1}$ norm."
   ]
  },
  {
   "cell_type": "markdown",
   "id": "74265d70",
   "metadata": {},
   "source": [
    "**What's the difference?**<br><br>\n",
    "**Lasso Regression** \n",
    "- *Tends to eliminate the weights of the least important features*\n",
    "- In other words, Lasso Regression automatically performs feature selection and outputs a sparse model\n",
    "- Gradients get smaller as parameters approach global optimum. Gradient Descent slows down, which aids convergence. \n",
    "- Optimal parameters get closer to origin (all constants are 0) as $\\alpha$ increases, but never reaches 0. \n"
   ]
  },
  {
   "cell_type": "markdown",
   "id": "0006f879",
   "metadata": {},
   "source": [
    "### Elastic Net"
   ]
  },
  {
   "cell_type": "markdown",
   "id": "56518423",
   "metadata": {},
   "source": [
    "Middle Ground between Ridge Regression and Lasso Regresson. The regularization term is a mix of Ridge and Lasso regularization term w/ mix ration r. \n",
    "\n",
    "$$J(\\bf{\\theta}=MSE(\\bf{\\theta})+r\\alpha\\sum^n_{i=1}|\\theta_i|+\\frac{1-r}{2}\\alpha\\sum_{i=1}^n\\theta_i^2$$"
   ]
  },
  {
   "cell_type": "markdown",
   "id": "3d66246e",
   "metadata": {},
   "source": [
    "When r=0, it reduces to ridge regression and when r=1 it is lasso"
   ]
  },
  {
   "cell_type": "markdown",
   "id": "9643bd92",
   "metadata": {},
   "source": [
    "When to use linear, lasso or ridge?\n",
    "- At least a bit of regularization is typically good\n",
    "- If only a few features are useful, Lasso or Elastic Net tend to reduce useless features down to 0.\n",
    "- Ridge is a good default. "
   ]
  },
  {
   "cell_type": "markdown",
   "id": "6d696408",
   "metadata": {},
   "source": [
    "## Early Stopping "
   ]
  },
  {
   "cell_type": "markdown",
   "id": "b0b2f2aa",
   "metadata": {},
   "source": [
    "This is a technique where learning algorithms are stopped as they reach a minimum error on the validation set."
   ]
  },
  {
   "cell_type": "markdown",
   "id": "ae889302",
   "metadata": {},
   "source": [
    "#### Basic Implementation"
   ]
  },
  {
   "cell_type": "markdown",
   "id": "a9109180",
   "metadata": {},
   "source": [
    "Note that with `warm_start=True`, when the fit() method is called it continues train‐ ing where it left off, instead of restarting from scratch."
   ]
  },
  {
   "cell_type": "code",
   "execution_count": 77,
   "id": "fea1c318",
   "metadata": {},
   "outputs": [
    {
     "ename": "NameError",
     "evalue": "name 'X_train' is not defined",
     "output_type": "error",
     "traceback": [
      "\u001b[0;31m---------------------------------------------------------------------------\u001b[0m",
      "\u001b[0;31mNameError\u001b[0m                                 Traceback (most recent call last)",
      "Cell \u001b[0;32mIn[77], line 9\u001b[0m\n\u001b[1;32m      4\u001b[0m \u001b[38;5;66;03m#prepare data\u001b[39;00m\n\u001b[1;32m      5\u001b[0m poly_scaler \u001b[38;5;241m=\u001b[39m Pipeline([\n\u001b[1;32m      6\u001b[0m     (\u001b[38;5;124m\"\u001b[39m\u001b[38;5;124mpoly_features\u001b[39m\u001b[38;5;124m\"\u001b[39m, PolynomialFeatures(degree\u001b[38;5;241m=\u001b[39m\u001b[38;5;241m90\u001b[39m, include_bias\u001b[38;5;241m=\u001b[39m\u001b[38;5;28;01mFalse\u001b[39;00m)),\n\u001b[1;32m      7\u001b[0m     (\u001b[38;5;124m\"\u001b[39m\u001b[38;5;124mstd_scaler\u001b[39m\u001b[38;5;124m\"\u001b[39m, StandardScaler())\n\u001b[1;32m      8\u001b[0m ])\n\u001b[0;32m----> 9\u001b[0m X_train_poly_scaled \u001b[38;5;241m=\u001b[39m poly_scaler\u001b[38;5;241m.\u001b[39mfit_transform(\u001b[43mX_train\u001b[49m)\n\u001b[1;32m     10\u001b[0m X_val_poly_scaleld \u001b[38;5;241m=\u001b[39m poly_scaler\u001b[38;5;241m.\u001b[39mfit_transfrom(X_val)\n\u001b[1;32m     12\u001b[0m sgd_reg \u001b[38;5;241m=\u001b[39m SGDRegressor(max_iter\u001b[38;5;241m=\u001b[39m\u001b[38;5;241m1\u001b[39m, tol\u001b[38;5;241m=\u001b[39m\u001b[38;5;241m-\u001b[39mnp\u001b[38;5;241m.\u001b[39minfty, warm_start\u001b[38;5;241m=\u001b[39m\u001b[38;5;28;01mTrue\u001b[39;00m,\n\u001b[1;32m     13\u001b[0m                                 penalty\u001b[38;5;241m=\u001b[39m\u001b[38;5;28;01mNone\u001b[39;00m, learning_rate\u001b[38;5;241m=\u001b[39m\u001b[38;5;124m\"\u001b[39m\u001b[38;5;124mconstant\u001b[39m\u001b[38;5;124m\"\u001b[39m, eta0\u001b[38;5;241m=\u001b[39m\u001b[38;5;241m0.0005\u001b[39m)\n",
      "\u001b[0;31mNameError\u001b[0m: name 'X_train' is not defined"
     ]
    }
   ],
   "source": [
    "from copy import deepcopy\n",
    "from sklearn.preprocessing import StandardScaler\n",
    "\n",
    "#prepare data\n",
    "poly_scaler = Pipeline([\n",
    "    (\"poly_features\", PolynomialFeatures(degree=90, include_bias=False)),\n",
    "    (\"std_scaler\", StandardScaler())\n",
    "])\n",
    "X_train_poly_scaled = poly_scaler.fit_transform(X_train)\n",
    "X_val_poly_scaleld = poly_scaler.fit_transfrom(X_val)\n",
    "\n",
    "sgd_reg = SGDRegressor(max_iter=1, tol=-np.infty, warm_start=True,\n",
    "                                penalty=None, learning_rate=\"constant\", eta0=0.0005)\n",
    "minimum_val_error = float(\"inf\") \n",
    "best_epoch = None\n",
    "best_model = None\n",
    "for epoch in range(1000):\n",
    "    sgd_reg.fit(X_train_poly_scaled, y_train) # continues where it left off y_val_predict = sgd_reg.predict(X_val_poly_scaled)\n",
    "    val_error = mean_squared_error(y_val, y_val_predict)\n",
    "    if val_error < minimum_val_error:\n",
    "                     minimum_val_error = val_error\n",
    "                     best_epoch = epoch\n",
    "                     best_model = deepcopy(sgd_reg)"
   ]
  },
  {
   "cell_type": "markdown",
   "id": "713f21f4",
   "metadata": {},
   "source": [
    "## Logistic Regression"
   ]
  },
  {
   "cell_type": "markdown",
   "id": "69b49fd4",
   "metadata": {},
   "source": [
    "Also known as **logit regression**, this is often used to estimate the probability than an instance belongs to a given class (is an email spam?) They are predicted as a positive class (1) or negative (0) depending on whether the probability exceeds 50%. It is then a **binary classifier**."
   ]
  },
  {
   "cell_type": "markdown",
   "id": "066a988b",
   "metadata": {},
   "source": [
    "A logistic model also takes a weighted sum of input features, but outputs the logistic of this result. \n",
    "$$\\hat{p}=h_\\theta(\\bf{x}) = \\sigma(\\bf{\\theta^TX})$$"
   ]
  },
  {
   "cell_type": "markdown",
   "id": "82368bd6",
   "metadata": {},
   "source": [
    "$\\hat{p}$ denotes the probability that x belongs to a positive class."
   ]
  },
  {
   "cell_type": "markdown",
   "id": "dc13c281",
   "metadata": {},
   "source": [
    "The logistic is noted by $\\sigma$ and is a *sigmoid function*. Range: $[0,1]$ $$\\sigma(t)=\\frac{1}{1+\\exp(-t)}$$"
   ]
  },
  {
   "cell_type": "markdown",
   "id": "4260a137",
   "metadata": {},
   "source": [
    "The score *t* is often called the **logit**. The *logit function* is defined as $$\\text{logit}(p)=log(p/(1-p))$$ and is the inverse of the logistic function. **Logit** is also called **log-odds** because it is the ratio between the positive class probability and the negative class probability."
   ]
  },
  {
   "cell_type": "code",
   "execution_count": null,
   "id": "37a28a35",
   "metadata": {},
   "outputs": [],
   "source": [
    "x = np.linspace(-10, 10, num=100)\n",
    "y = (1+np.exp(-x))**-1\n",
    "\n",
    "plt.plot(x,y, label = r\"$\\sigma(t)=\\frac{1}{1+\\exp(-t)}$\")\n",
    "plt.legend()\n",
    "plt.show()"
   ]
  },
  {
   "cell_type": "markdown",
   "id": "620b3040",
   "metadata": {},
   "source": [
    "## Cost Function/Training"
   ]
  },
  {
   "cell_type": "markdown",
   "id": "f76d738a",
   "metadata": {},
   "source": [
    "*Cost function of a single training instance*\n",
    "$$\\begin{cases}-log(\\hat{p})&\\text{if}y=1\\\\-log(1-\\hat{p})&\\text{if}y=0\\end{cases}$$"
   ]
  },
  {
   "cell_type": "markdown",
   "id": "49a2c815",
   "metadata": {},
   "source": [
    "This is good because as predictions get low for y=1, the error spikes. As predictions get high for y=0, the error also spikes"
   ]
  },
  {
   "cell_type": "code",
   "execution_count": 78,
   "id": "387aef16",
   "metadata": {},
   "outputs": [
    {
     "data": {
      "image/png": "[encoded data removed]",
      "text/plain": [
       "<Figure size 640x480 with 1 Axes>"
      ]
     },
     "metadata": {},
     "output_type": "display_data"
    }
   ],
   "source": [
    "x = np.linspace(.0001,.9999)\n",
    "y = -np.log(x)\n",
    "y_2 = -np.log(1-x)\n",
    "plt.plot(x, y, label = \"-log x\")\n",
    "plt.plot(x, y_2, label = \"-log 1-x\")\n",
    "plt.legend(); plt.show()"
   ]
  },
  {
   "cell_type": "markdown",
   "id": "711eca14",
   "metadata": {},
   "source": [
    "The **log loss** cost function is used. Check textbook for actual equation."
   ]
  },
  {
   "cell_type": "markdown",
   "id": "cc449c79",
   "metadata": {},
   "source": [
    "## Decision Boundaries"
   ]
  },
  {
   "cell_type": "markdown",
   "id": "58845b28",
   "metadata": {},
   "source": [
    "The *iris dataset* is a famous dataset that contains sepal and petal length and width of 150 iris flowers of 3 species *Iris setosa, Iris versicolor, and Iris virginica*."
   ]
  },
  {
   "cell_type": "markdown",
   "id": "4fd8c3c2",
   "metadata": {},
   "source": [
    "Let's build a classifier to detect iris virginica type."
   ]
  },
  {
   "cell_type": "code",
   "execution_count": 79,
   "id": "ad988c64",
   "metadata": {},
   "outputs": [
    {
     "data": {
      "text/plain": [
       "['data',\n",
       " 'target',\n",
       " 'frame',\n",
       " 'target_names',\n",
       " 'DESCR',\n",
       " 'feature_names',\n",
       " 'filename',\n",
       " 'data_module']"
      ]
     },
     "execution_count": 79,
     "metadata": {},
     "output_type": "execute_result"
    }
   ],
   "source": [
    "from sklearn import datasets\n",
    "iris = datasets.load_iris()\n",
    "list(iris.keys())"
   ]
  },
  {
   "cell_type": "code",
   "execution_count": 80,
   "id": "3c125d3d",
   "metadata": {},
   "outputs": [],
   "source": [
    "X = iris[\"data\"][:, 3:] # petal width\n",
    "y = (iris[\"target\"]==2).astype(np.int64) # only virginicas"
   ]
  },
  {
   "cell_type": "code",
   "execution_count": 81,
   "id": "697f62dc",
   "metadata": {},
   "outputs": [
    {
     "data": {
      "text/plain": [
       "['sepal length (cm)',\n",
       " 'sepal width (cm)',\n",
       " 'petal length (cm)',\n",
       " 'petal width (cm)']"
      ]
     },
     "execution_count": 81,
     "metadata": {},
     "output_type": "execute_result"
    }
   ],
   "source": [
    "iris[\"feature_names\"]"
   ]
  },
  {
   "cell_type": "code",
   "execution_count": 82,
   "id": "c78780bb",
   "metadata": {},
   "outputs": [
    {
     "data": {
      "text/html": [
       "<style>#sk-container-id-1 {color: black;background-color: white;}#sk-container-id-1 pre{padding: 0;}#sk-container-id-1 div.sk-toggleable {background-color: white;}#sk-container-id-1 label.sk-toggleable__label {cursor: pointer;display: block;width: 100%;margin-bottom: 0;padding: 0.3em;box-sizing: border-box;text-align: center;}#sk-container-id-1 label.sk-toggleable__label-arrow:before {content: \"▸\";float: left;margin-right: 0.25em;color: #696969;}#sk-container-id-1 label.sk-toggleable__label-arrow:hover:before {color: black;}#sk-container-id-1 div.sk-estimator:hover label.sk-toggleable__label-arrow:before {color: black;}#sk-container-id-1 div.sk-toggleable__content {max-height: 0;max-width: 0;overflow: hidden;text-align: left;background-color: #f0f8ff;}#sk-container-id-1 div.sk-toggleable__content pre {margin: 0.2em;color: black;border-radius: 0.25em;background-color: #f0f8ff;}#sk-container-id-1 input.sk-toggleable__control:checked~div.sk-toggleable__content {max-height: 200px;max-width: 100%;overflow: auto;}#sk-container-id-1 input.sk-toggleable__control:checked~label.sk-toggleable__label-arrow:before {content: \"▾\";}#sk-container-id-1 div.sk-estimator input.sk-toggleable__control:checked~label.sk-toggleable__label {background-color: #d4ebff;}#sk-container-id-1 div.sk-label input.sk-toggleable__control:checked~label.sk-toggleable__label {background-color: #d4ebff;}#sk-container-id-1 input.sk-hidden--visually {border: 0;clip: rect(1px 1px 1px 1px);clip: rect(1px, 1px, 1px, 1px);height: 1px;margin: -1px;overflow: hidden;padding: 0;position: absolute;width: 1px;}#sk-container-id-1 div.sk-estimator {font-family: monospace;background-color: #f0f8ff;border: 1px dotted black;border-radius: 0.25em;box-sizing: border-box;margin-bottom: 0.5em;}#sk-container-id-1 div.sk-estimator:hover {background-color: #d4ebff;}#sk-container-id-1 div.sk-parallel-item::after {content: \"\";width: 100%;border-bottom: 1px solid gray;flex-grow: 1;}#sk-container-id-1 div.sk-label:hover label.sk-toggleable__label {background-color: #d4ebff;}#sk-container-id-1 div.sk-serial::before {content: \"\";position: absolute;border-left: 1px solid gray;box-sizing: border-box;top: 0;bottom: 0;left: 50%;z-index: 0;}#sk-container-id-1 div.sk-serial {display: flex;flex-direction: column;align-items: center;background-color: white;padding-right: 0.2em;padding-left: 0.2em;position: relative;}#sk-container-id-1 div.sk-item {position: relative;z-index: 1;}#sk-container-id-1 div.sk-parallel {display: flex;align-items: stretch;justify-content: center;background-color: white;position: relative;}#sk-container-id-1 div.sk-item::before, #sk-container-id-1 div.sk-parallel-item::before {content: \"\";position: absolute;border-left: 1px solid gray;box-sizing: border-box;top: 0;bottom: 0;left: 50%;z-index: -1;}#sk-container-id-1 div.sk-parallel-item {display: flex;flex-direction: column;z-index: 1;position: relative;background-color: white;}#sk-container-id-1 div.sk-parallel-item:first-child::after {align-self: flex-end;width: 50%;}#sk-container-id-1 div.sk-parallel-item:last-child::after {align-self: flex-start;width: 50%;}#sk-container-id-1 div.sk-parallel-item:only-child::after {width: 0;}#sk-container-id-1 div.sk-dashed-wrapped {border: 1px dashed gray;margin: 0 0.4em 0.5em 0.4em;box-sizing: border-box;padding-bottom: 0.4em;background-color: white;}#sk-container-id-1 div.sk-label label {font-family: monospace;font-weight: bold;display: inline-block;line-height: 1.2em;}#sk-container-id-1 div.sk-label-container {text-align: center;}#sk-container-id-1 div.sk-container {/* jupyter's `normalize.less` sets `[hidden] { display: none; }` but bootstrap.min.css set `[hidden] { display: none !important; }` so we also need the `!important` here to be able to override the default hidden behavior on the sphinx rendered scikit-learn.org. See: https://github.com/scikit-learn/scikit-learn/issues/21755 */display: inline-block !important;position: relative;}#sk-container-id-1 div.sk-text-repr-fallback {display: none;}</style><div id=\"sk-container-id-1\" class=\"sk-top-container\"><div class=\"sk-text-repr-fallback\"><pre>LogisticRegression()</pre><b>In a Jupyter environment, please rerun this cell to show the HTML representation or trust the notebook. <br />On GitHub, the HTML representation is unable to render, please try loading this page with nbviewer.org.</b></div><div class=\"sk-container\" hidden><div class=\"sk-item\"><div class=\"sk-estimator sk-toggleable\"><input class=\"sk-toggleable__control sk-hidden--visually\" id=\"sk-estimator-id-1\" type=\"checkbox\" checked><label for=\"sk-estimator-id-1\" class=\"sk-toggleable__label sk-toggleable__label-arrow\">LogisticRegression</label><div class=\"sk-toggleable__content\"><pre>LogisticRegression()</pre></div></div></div></div></div>"
      ],
      "text/plain": [
       "LogisticRegression()"
      ]
     },
     "execution_count": 82,
     "metadata": {},
     "output_type": "execute_result"
    }
   ],
   "source": [
    "from sklearn.linear_model import LogisticRegression\n",
    "\n",
    "log_reg = LogisticRegression()\n",
    "log_reg.fit(X, y)"
   ]
  },
  {
   "cell_type": "markdown",
   "id": "dec90614",
   "metadata": {},
   "source": [
    "Let’s look at the model’s estimated probabilities for flowers with petal widths varying from 0 cm to 3 cm\n",
    " "
   ]
  },
  {
   "cell_type": "code",
   "execution_count": 83,
   "id": "63c0da03",
   "metadata": {
    "scrolled": true
   },
   "outputs": [
    {
     "data": {
      "image/png": "[encoded data removed]",
      "text/plain": [
       "<Figure size 640x480 with 1 Axes>"
      ]
     },
     "metadata": {},
     "output_type": "display_data"
    }
   ],
   "source": [
    "# Must be done in order to fit in prediction\n",
    "X_plot = np.linspace(0, 3, 1000).reshape(-1,1)\n",
    "y_plot = log_reg.predict_proba(X_plot)\n",
    "\n",
    "plt.plot(X_plot, y_plot[:,1], \"r\", label = \"Iris\")\n",
    "plt.plot(X_plot, y_plot[:,0], \"b--\", label = \"Not Iris\")\n",
    "\n",
    "plt.legend()\n",
    "plt.show()"
   ]
  },
  {
   "cell_type": "markdown",
   "id": "7942cce5",
   "metadata": {},
   "source": [
    "There is a **decision boundary** around 1.6 cm where the probability is ~50%. "
   ]
  },
  {
   "cell_type": "code",
   "execution_count": 84,
   "id": "94dca0f4",
   "metadata": {},
   "outputs": [
    {
     "data": {
      "text/plain": [
       "array([1, 0])"
      ]
     },
     "execution_count": 84,
     "metadata": {},
     "output_type": "execute_result"
    }
   ],
   "source": [
    "log_reg.predict([[1.7],[1.5]])"
   ]
  },
  {
   "cell_type": "markdown",
   "id": "1f80fbe2",
   "metadata": {},
   "source": [
    "As you can see, not very confident"
   ]
  },
  {
   "cell_type": "code",
   "execution_count": 85,
   "id": "32a5df11",
   "metadata": {},
   "outputs": [
    {
     "data": {
      "text/plain": [
       "array([[0.45722097, 0.54277903],\n",
       "       [0.66709636, 0.33290364]])"
      ]
     },
     "execution_count": 85,
     "metadata": {},
     "output_type": "execute_result"
    }
   ],
   "source": [
    "log_reg.predict_proba([[1.7],[1.5]])"
   ]
  },
  {
   "cell_type": "markdown",
   "id": "a81e3178",
   "metadata": {},
   "source": [
    "## Softmax Regression"
   ]
  },
  {
   "cell_type": "markdown",
   "id": "22d07cf4",
   "metadata": {},
   "source": [
    "Known as *Softmax regression* or *multinomial regression*, these classifiers can support multiple classes already."
   ]
  },
  {
   "cell_type": "markdown",
   "id": "2e84daac",
   "metadata": {},
   "source": [
    "It is known as a *multiclass* classifer. It predicts **one class at a time**, not multiple classes as in a *multioutput classifier*."
   ]
  },
  {
   "cell_type": "markdown",
   "id": "fc4883b5",
   "metadata": {},
   "source": [
    "**Cross entropy** - Used to measure how well a set of probabilities match the target classes. Originated from information theory. \n",
    "\n",
    "https://homl.info/xentropy"
   ]
  },
  {
   "cell_type": "markdown",
   "id": "22451da7",
   "metadata": {},
   "source": [
    "It computes a score $s_k(\\bf{x})$ for each class *k*, then estimates a probability of each class by applying a *softmax function* or *normalized exponential* \n",
    "\n",
    "$$s_k(\\bf{x}) = (\\bf{\\theta}^{(k)})^T\\bf{x}$$"
   ]
  },
  {
   "cell_type": "markdown",
   "id": "9428ac1c",
   "metadata": {},
   "source": [
    "What this means: there is a score matrix, where each row of the matrix is a score for each class. The $(\\theta^{(k)})^T$ term is the parameter vector given for each feature for each class."
   ]
  },
  {
   "cell_type": "markdown",
   "id": "ca861fe4",
   "metadata": {},
   "source": [
    "Softmax function\n",
    "$$\\hat{p}_k = \\sigma(\\bf{s(x)})_k = \\frac{exp(s_k(\\bf{x}))}{\\Sigma^K_{j=1}exp(s_j(\\bf{x}))}$$"
   ]
  },
  {
   "cell_type": "markdown",
   "id": "2f9ac060",
   "metadata": {},
   "source": [
    "Here\n",
    "- K is the number of classes\n",
    "- s(x) is a vector with the scores of each class in instance **x**"
   ]
  },
  {
   "cell_type": "markdown",
   "id": "f61f02a9",
   "metadata": {},
   "source": [
    "Softmax regression classifier predicts the class with the highest estimated probability. Argmax returns the value of a variable that maximizes a function. Here, it returns the value of k that maximizes the estimated probability $\\sigma(s(x))_k$\n",
    "\n",
    "$\\hat{y} = argmax \\sigma(s(x))_k$"
   ]
  },
  {
   "cell_type": "markdown",
   "id": "a0184e0a",
   "metadata": {},
   "source": [
    "Cross entropy:\n",
    "$$J(\\Theta) = -\\frac{1}{m}\\Sigma^K_{k=1}y_k^{(i)}log(\\hat{p}_k^{(i)})$$\n",
    "Where\n",
    "- $\\Theta$ is a parameter matrix for classes 1:K\n",
    "- $y_k^i$ is the target probability that the $i^{th}$ instance belongs to class *k*. It is equal to 0 or 1"
   ]
  },
  {
   "cell_type": "markdown",
   "id": "5de5a1e8",
   "metadata": {},
   "source": [
    "Cross entropy gradient vector for class k:\n",
    "$$\\nabla_{\\theta^{(k)}}J(\\Theta)=\\frac{1}{m}\\sum^m_{i=1}(\\hat{p}_k^{(i)}-y_k^{(i)})x^{(i)}$$"
   ]
  },
  {
   "cell_type": "markdown",
   "id": "5bfd958b",
   "metadata": {},
   "source": [
    "## Exercises - Page 750"
   ]
  },
  {
   "cell_type": "markdown",
   "id": "46728e78",
   "metadata": {},
   "source": [
    "**Which Linear Regression training algorithm can you use if you have a training set with millions of features?**\n",
    "\n",
    "Computing time is around $O({2.5})$ for explicit linear solutions w.r.t features. Not great.\n",
    "\n",
    "Gradient descent is better. Stochastic gradient descent may even be good because of a large number of features.\n",
    "\n",
    "**Suppose the features in your training set have very different scales. Which algo‐ rithms might suffer from this, and how? What can you do about it?**\n",
    "\n",
    "Gradient descent can suffer from this because the cost function shape can be greatly changed by the scale. You can use a Standard Scaler to set a standard std and deviance.\n",
    "\n",
    "**Can Gradient Descent get stuck in a local minimum when training a Logistic Regression model?** A logistic regression model is *convex*, meaning that there are not local mins. Therefore, GD cannot get stuck"
   ]
  },
  {
   "cell_type": "markdown",
   "id": "a06972cc",
   "metadata": {},
   "source": [
    "**Do all Gradient Descent algorithms lead to the same model, provided you let them run long enough?** All gradient descents lead to similar models given enough time. SGD and Mini-batch GD will oscillate around a minimum, though.\n"
   ]
  },
  {
   "cell_type": "markdown",
   "id": "48e6240e",
   "metadata": {},
   "source": [
    "**Suppose you use Batch Gradient Descent and you plot the validation error at every epoch. If you notice that the validation error consistently goes up, what is likely going on? How can you fix this?** The learning rate eta might be too large, so the gradient descent model jumps up to a higher value over time. Reduce the learning rate or use a learning schedule to slow the rate over time."
   ]
  },
  {
   "cell_type": "markdown",
   "id": "f23c4507",
   "metadata": {},
   "source": [
    "**Is it a good idea to stop Mini-batch Gradient Descent immediately when the vali‐ dation error goes up?**. Not necessarily. The curves may not be super smooth with Mini-batch GD and SGD, therefore some duration of time at a minimum may be necessary in order to establish a minimum."
   ]
  },
  {
   "cell_type": "markdown",
   "id": "c4ef69fd",
   "metadata": {},
   "source": [
    "**Which Gradient Descent algorithm (among those we discussed) will reach the vicinity of the optimal solution the fastest? Which will actually converge? How can you make the others converge as well?** SGD will reach the optimal solution faster than BGD and Mini BGD. BGD will converge, though. In order to make the others converge, perhaps a learning schedule can be used that decreases the learning rate with time so that oscillations are dampened.\n"
   ]
  },
  {
   "cell_type": "markdown",
   "id": "3f861257",
   "metadata": {},
   "source": [
    "**Suppose you are using Polynomial Regression. You plot the learning curves and you notice that there is a large gap between the training error and the validation error. What is happening? What are three ways to solve this?** This is likely due to overfitting of the training data. Three ways to solve this are through regularization: Lasso and ridge regularization. You can also reduce the degree of the polynomial in order to constrain the degrees of freedom."
   ]
  },
  {
   "cell_type": "markdown",
   "id": "d246c66f",
   "metadata": {},
   "source": [
    "**Suppose you are using Ridge Regression and you notice that the training error and the validation error are almost equal and fairly high. Would you say that the model suffers from high bias or high variance? Should you increase the regulari‐ zation hyperparameter α or reduce it?**\n",
    "Bias\n",
    "- Due to wrong model assumptions. Often associated with underfitting training data.\n",
    "Variance\n",
    "- Due to sensitivity in variations in training data. Associated with high degree polynomials and overfitting\n",
    "This is likely due to high bias. Probably *reduce* the regularization hyperparameter so that the model can better fit the training data."
   ]
  },
  {
   "cell_type": "markdown",
   "id": "059d1560",
   "metadata": {},
   "source": [
    "Why would you want to use:\n",
    "\n",
    "**Ridge Regression instead of plain Linear Regression (i.e., without any regula‐ rization)?**\n",
    "- This is a manner to regulate the model in order to prevent/reduce overfitting of the training data. \n",
    "\n",
    "**Lasso instead of Ridge Regression?**\n",
    "- The difference between the two is that lass0 eliminates the weight of less useful features, outputting a sparse matrix.\n",
    "\n",
    "**Elastic Net instead of Lasso?**\n",
    "- When you want a mix of both. "
   ]
  },
  {
   "cell_type": "markdown",
   "id": "2f35f71b",
   "metadata": {},
   "source": [
    "**Suppose you want to classify pictures as outdoor/indoor and daytime/nighttime. Should you implement two Logistic Regression classifiers or one Softmax Regres‐ sion classifier?**\n",
    "You should train two logistic regression classifiers because a softmax regressor is *multiclass*, not *multioutput*. It cannot output both daytime and outdoor"
   ]
  },
  {
   "cell_type": "markdown",
   "id": "17330a19",
   "metadata": {},
   "source": [
    "**Implement Batch Gradient Descent with early stopping for Softmax Regression (without using Scikit-Learn).**"
   ]
  },
  {
   "cell_type": "code",
   "execution_count": 980,
   "id": "29e64dbd",
   "metadata": {},
   "outputs": [],
   "source": [
    "X = iris[\"data\"][:, (2,3)] # Petal length and width\n",
    "y = iris[\"target\"]\n",
    "y= np.reshape(y, [y.size,1])\n"
   ]
  },
  {
   "cell_type": "code",
   "execution_count": 981,
   "id": "521b25b8",
   "metadata": {},
   "outputs": [],
   "source": [
    "X_with_bias = np.c_[np.ones([len(X), 1]), X]\n",
    "X = X_with_bias"
   ]
  },
  {
   "cell_type": "code",
   "execution_count": 982,
   "id": "d9d11330",
   "metadata": {},
   "outputs": [],
   "source": [
    "def one_hot(y_set):\n",
    "    nrows = y_set.size\n",
    "    nfeatures = y_set.max()+1\n",
    "    template = np.zeros([nrows, nfeatures])\n",
    "    for i in range(nrows):\n",
    "        template[i, y_set[i]] = 1\n",
    "    return template\n"
   ]
  },
  {
   "cell_type": "code",
   "execution_count": 983,
   "id": "d33ccbcf",
   "metadata": {},
   "outputs": [],
   "source": [
    "test_size = .2\n",
    "size = y.size\n",
    "\n",
    "\n",
    "indices = np.arange(size)\n",
    "np.random.shuffle(indices)\n",
    "\n",
    "test_indices, train_indices = indices[:int(size*test_size)], indices[int(size*test_size):]\n",
    "\n",
    "X_train, X_test = X[train_indices], X[test_indices]\n",
    "y_train, y_test = y[train_indices], y[test_indices]\n",
    "\n",
    "validation_size = .2\n",
    "X_val, X_train, y_val, y_train = X_train[:int(validation_size*X_train.shape[0])], X_train[int(validation_size*X_train.shape[0]):],y_train[:int(validation_size*X_train.shape[0])], y_train[int(validation_size*X_train.shape[0]):]\n"
   ]
  },
  {
   "cell_type": "markdown",
   "id": "46ffdd1c",
   "metadata": {},
   "source": [
    "### NOTE! Axis and keepdims arguments are super important! "
   ]
  },
  {
   "cell_type": "markdown",
   "id": "07f2cd29",
   "metadata": {},
   "source": [
    "Without them, a simple sum of *every matrix element* is taken! With them, the sum for each row is taken along the *column axis*, (axis=1)"
   ]
  },
  {
   "cell_type": "code",
   "execution_count": 984,
   "id": "a6ac056c",
   "metadata": {},
   "outputs": [
    {
     "data": {
      "text/plain": [
       "((24, 1), (96, 1))"
      ]
     },
     "execution_count": 984,
     "metadata": {},
     "output_type": "execute_result"
    }
   ],
   "source": [
    "# Here, logit is a length n array, where n is the number of classes\n",
    "# Returns the probability for each class\n",
    "def softmax(logit): \n",
    "    exps = np.exp(logit)\n",
    "    exp_sum = np.sum(np.exp(logit), keepdims=True, axis=1)    \n",
    "    return exps / exp_sum\n",
    "(y_val.shape, y_train.shape)"
   ]
  },
  {
   "cell_type": "code",
   "execution_count": 985,
   "id": "594c88e4",
   "metadata": {
    "scrolled": true
   },
   "outputs": [
    {
     "data": {
      "text/plain": [
       "28.050010444416863"
      ]
     },
     "execution_count": 985,
     "metadata": {},
     "output_type": "execute_result"
    }
   ],
   "source": [
    "np.sum(np.exp(logits))"
   ]
  },
  {
   "cell_type": "code",
   "execution_count": 986,
   "id": "4bb745f9",
   "metadata": {
    "scrolled": true
   },
   "outputs": [
    {
     "data": {
      "text/plain": [
       "(24, 1)"
      ]
     },
     "execution_count": 986,
     "metadata": {},
     "output_type": "execute_result"
    }
   ],
   "source": [
    "np.sum(np.exp(logits),keepdims=True, axis=1).shape   "
   ]
  },
  {
   "cell_type": "markdown",
   "id": "93e38455",
   "metadata": {},
   "source": [
    "******"
   ]
  },
  {
   "cell_type": "markdown",
   "id": "ccb88c6e",
   "metadata": {},
   "source": [
    "### Implementation"
   ]
  },
  {
   "cell_type": "code",
   "execution_count": 987,
   "id": "917e3bb8",
   "metadata": {},
   "outputs": [],
   "source": [
    "eta = .1\n",
    "n_iterations = 10000\n",
    "m = len(X_train)\n",
    "epsilon = 1e-7\n",
    "alpha = .1\n",
    "\n",
    "n_classes = y.max()+1\n",
    "_, n_features = X.shape\n",
    "\n",
    "Theta = np.random.randn(n_classes, n_features)"
   ]
  },
  {
   "cell_type": "code",
   "execution_count": 988,
   "id": "d7e83a12",
   "metadata": {
    "scrolled": true
   },
   "outputs": [],
   "source": [
    "y_train_oh = one_hot(y_train)\n",
    "y_test_oh = one_hot(y_test)\n",
    "y_val_oh = one_hot(y_val)"
   ]
  },
  {
   "cell_type": "markdown",
   "id": "98dde270",
   "metadata": {},
   "source": [
    "Affirm that shapes match"
   ]
  },
  {
   "cell_type": "code",
   "execution_count": 989,
   "id": "0cea6d0b",
   "metadata": {
    "scrolled": true
   },
   "outputs": [
    {
     "data": {
      "text/plain": [
       "(24, 3)"
      ]
     },
     "execution_count": 989,
     "metadata": {},
     "output_type": "execute_result"
    }
   ],
   "source": [
    "logits.shape"
   ]
  },
  {
   "cell_type": "code",
   "execution_count": 990,
   "id": "dfad349f",
   "metadata": {
    "scrolled": false
   },
   "outputs": [
    {
     "data": {
      "text/plain": [
       "False"
      ]
     },
     "execution_count": 990,
     "metadata": {},
     "output_type": "execute_result"
    }
   ],
   "source": [
    "y_train_oh.shape == logits.shape"
   ]
  },
  {
   "cell_type": "markdown",
   "id": "c0728ffa",
   "metadata": {},
   "source": [
    "(proba-y_train).dot(x_train):\n",
    "proba-y_train *shape:*: (96, 3)\n",
    "x_train *shape:* (96, 3)\n",
    "in order to matrix multiply, must transpose x_train"
   ]
  },
  {
   "cell_type": "code",
   "execution_count": 991,
   "id": "9e763d61",
   "metadata": {
    "scrolled": true
   },
   "outputs": [
    {
     "name": "stdout",
     "output_type": "stream",
     "text": [
      "0 3.2089842139890714\n",
      "500 0.5474419969488541\n",
      "1000 0.4958062524596232\n",
      "1500 0.4725848096974141\n",
      "2000 0.4598724539162598\n",
      "2500 0.45227865328791106\n",
      "3000 0.44751857128176464\n",
      "3500 0.4444468685963702\n",
      "4000 0.4424279009080874\n",
      "4500 0.4410848746746004\n",
      "5000 0.44018436204041467\n",
      "5500 0.43957733886624345\n",
      "6000 0.43916668381855234\n",
      "6500 0.4388881988077023\n",
      "7000 0.4386990339780999\n",
      "7500 0.4385703975706703\n",
      "8000 0.4384828554243363\n",
      "8500 0.43842324874736777\n",
      "9000 0.438382648802045\n",
      "9500 0.4383549882988434\n"
     ]
    }
   ],
   "source": [
    "best_cost = np.infty\n",
    "epsilon2 = 1e-6\n",
    "for iteration in range(n_iterations):\n",
    "    logits = X_train.dot(Theta)\n",
    "    proba = softmax(logits)\n",
    "    \n",
    "    error = (proba-y_train_oh)\n",
    "    grad = 1/m *  (X_train.T).dot(error) + np.r_[np.zeros([1,n_features]),alpha*Theta[1:]]\n",
    "    Theta = Theta - eta*grad\n",
    "    \n",
    "    \n",
    "    logits = X_val.dot(Theta)\n",
    "    proba = softmax(logits)\n",
    "    \n",
    "    cost = -np.mean(np.sum( y_val_oh*np.log(proba+epsilon), axis=1 ))\n",
    "\n",
    "    if iteration % 500 == 0:\n",
    "        print(iteration, cost)\n",
    "    if (best_cost-cost)>epsilon2:\n",
    "        best_cost = cost\n",
    "  \n",
    "    else: \n",
    "        print(f\"Cost reached min! at iteration {iteration} with a cost of {cost}\")\n",
    "        break\n",
    "    \n",
    "#Theta"
   ]
  },
  {
   "cell_type": "markdown",
   "id": "aa742473",
   "metadata": {},
   "source": [
    "### Make predictions:"
   ]
  },
  {
   "cell_type": "code",
   "execution_count": 992,
   "id": "c9619721",
   "metadata": {
    "scrolled": false
   },
   "outputs": [
    {
     "data": {
      "text/plain": [
       "0.9583333333333334"
      ]
     },
     "execution_count": 992,
     "metadata": {},
     "output_type": "execute_result"
    }
   ],
   "source": [
    "logits = X_val.dot(Theta)\n",
    "class_preds = np.argmax(softmax(logits),keepdims=True, axis=1)\n",
    "class_preds\n",
    "np.mean(class_preds==y_val)"
   ]
  }
 ],
 "metadata": {
  "kernelspec": {
   "display_name": "Python 3 (ipykernel)",
   "language": "python",
   "name": "python3"
  },
  "language_info": {
   "codemirror_mode": {
    "name": "ipython",
    "version": 3
   },
   "file_extension": ".py",
   "mimetype": "text/x-python",
   "name": "python",
   "nbconvert_exporter": "python",
   "pygments_lexer": "ipython3",
   "version": "3.11.0"
  }
 },
 "nbformat": 4,
 "nbformat_minor": 5
}
