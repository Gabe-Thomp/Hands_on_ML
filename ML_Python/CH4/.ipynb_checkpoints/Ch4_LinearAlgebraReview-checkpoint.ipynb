{
 "cells": [
  {
   "cell_type": "markdown",
   "id": "364d392c",
   "metadata": {},
   "source": [
    "# Linear Algebra Review"
   ]
  },
  {
   "cell_type": "markdown",
   "id": "14a385c6",
   "metadata": {},
   "source": [
    "## Vectors in python"
   ]
  },
  {
   "cell_type": "markdown",
   "id": "58ed23a7",
   "metadata": {},
   "source": [
    "Simple representation: list"
   ]
  },
  {
   "cell_type": "code",
   "execution_count": 1,
   "id": "d2f56ad9",
   "metadata": {},
   "outputs": [
    {
     "data": {
      "text/plain": [
       "[1, 2, 4, 6]"
      ]
     },
     "execution_count": 1,
     "metadata": {},
     "output_type": "execute_result"
    }
   ],
   "source": [
    "[1, 2, 4, 6]"
   ]
  },
  {
   "cell_type": "markdown",
   "id": "9363e9ad",
   "metadata": {},
   "source": [
    "Numpy `ndarray` is likely better for scientific calulations. "
   ]
  },
  {
   "cell_type": "code",
   "execution_count": 2,
   "id": "c157a550",
   "metadata": {},
   "outputs": [
    {
     "data": {
      "text/plain": [
       "array([1, 2, 4, 6])"
      ]
     },
     "execution_count": 2,
     "metadata": {},
     "output_type": "execute_result"
    }
   ],
   "source": [
    "import numpy as np\n",
    "video = np.array([1, 2, 4, 6])\n",
    "video"
   ]
  },
  {
   "cell_type": "code",
   "execution_count": 3,
   "id": "ddf60be0",
   "metadata": {},
   "outputs": [
    {
     "data": {
      "text/plain": [
       "4"
      ]
     },
     "execution_count": 3,
     "metadata": {},
     "output_type": "execute_result"
    }
   ],
   "source": [
    "video.size"
   ]
  },
  {
   "cell_type": "markdown",
   "id": "42aed203",
   "metadata": {},
   "source": [
    "### Plotting Vectors"
   ]
  },
  {
   "cell_type": "code",
   "execution_count": 4,
   "id": "087b62e7",
   "metadata": {},
   "outputs": [],
   "source": [
    "%matplotlib inline\n",
    "import matplotlib.pyplot as plt"
   ]
  },
  {
   "cell_type": "markdown",
   "id": "205d0ba0",
   "metadata": {},
   "source": [
    "### 2D Vectors"
   ]
  },
  {
   "cell_type": "code",
   "execution_count": 5,
   "id": "37a3f22e",
   "metadata": {},
   "outputs": [],
   "source": [
    "u = np.array([2, 5])\n",
    "v = np.array([3, 1])"
   ]
  },
  {
   "cell_type": "code",
   "execution_count": 6,
   "id": "3562461d",
   "metadata": {},
   "outputs": [
    {
     "data": {
      "image/png": "[encoded data removed]",
      "text/plain": [
       "<Figure size 640x480 with 1 Axes>"
      ]
     },
     "metadata": {},
     "output_type": "display_data"
    }
   ],
   "source": [
    "x_coords, y_coords = zip(u, v)\n",
    "plt.scatter(x_coords, y_coords, color=['r','b'])\n",
    "plt.axis([0,9,0,6])\n",
    "plt.grid()\n",
    "plt.show()"
   ]
  },
  {
   "cell_type": "markdown",
   "id": "27da0d8f",
   "metadata": {},
   "source": [
    "### Arrows"
   ]
  },
  {
   "cell_type": "code",
   "execution_count": 7,
   "id": "b7514fcd",
   "metadata": {},
   "outputs": [],
   "source": [
    "def plot_vector2d(vector2d, origin=[0,0], **options):\n",
    "    return plt.arrow(origin[0], origin[1], vector2d[0], vector2d[1],\n",
    "                    head_width=0.2, head_length=0.3, length_includes_head=True,\n",
    "                    **options)"
   ]
  },
  {
   "cell_type": "code",
   "execution_count": 8,
   "id": "0f88adb3",
   "metadata": {},
   "outputs": [
    {
     "data": {
      "text/plain": [
       "(0.0, 9.0, 0.0, 6.0)"
      ]
     },
     "execution_count": 8,
     "metadata": {},
     "output_type": "execute_result"
    },
    {
     "data": {
      "image/png": "[encoded data removed]",
      "text/plain": [
       "<Figure size 640x480 with 1 Axes>"
      ]
     },
     "metadata": {},
     "output_type": "display_data"
    }
   ],
   "source": [
    "plot_vector2d(u, color='r')\n",
    "plot_vector2d(v, color='b')\n",
    "\n",
    "plt.axis([0,9,0,6])"
   ]
  },
  {
   "cell_type": "markdown",
   "id": "e9d8d5bb",
   "metadata": {},
   "source": [
    "## Dot product"
   ]
  },
  {
   "cell_type": "code",
   "execution_count": 9,
   "id": "c5e02233",
   "metadata": {},
   "outputs": [
    {
     "data": {
      "text/plain": [
       "11"
      ]
     },
     "execution_count": 9,
     "metadata": {},
     "output_type": "execute_result"
    }
   ],
   "source": [
    "np.dot(u,v)"
   ]
  },
  {
   "cell_type": "markdown",
   "id": "4a083f37",
   "metadata": {},
   "source": [
    "* will perform elementwise multiplication"
   ]
  },
  {
   "cell_type": "code",
   "execution_count": 10,
   "id": "a878e161",
   "metadata": {},
   "outputs": [
    {
     "data": {
      "text/plain": [
       "array([6, 5])"
      ]
     },
     "execution_count": 10,
     "metadata": {},
     "output_type": "execute_result"
    }
   ],
   "source": [
    "u*v"
   ]
  },
  {
   "cell_type": "markdown",
   "id": "91818c89",
   "metadata": {},
   "source": [
    "## Matrices"
   ]
  },
  {
   "cell_type": "markdown",
   "id": "d94078a0",
   "metadata": {},
   "source": [
    "Rectangular array of scalars arranged in rows and columns\n",
    "\\begin{bmatrix}\n",
    "1&2&4 \\\\\n",
    "1&3&4\n",
    "\\end{bmatrix}"
   ]
  },
  {
   "cell_type": "markdown",
   "id": "8d6358e1",
   "metadata": {},
   "source": [
    "Numpy provides optimized matrices"
   ]
  },
  {
   "cell_type": "code",
   "execution_count": 11,
   "id": "d2ada10f",
   "metadata": {},
   "outputs": [
    {
     "data": {
      "text/plain": [
       "array([[10, 20, 30],\n",
       "       [40, 50, 60]])"
      ]
     },
     "execution_count": 11,
     "metadata": {},
     "output_type": "execute_result"
    }
   ],
   "source": [
    "A = np.array([\n",
    "    [10,20,30],\n",
    "    [40,50,60]\n",
    "])\n",
    "A"
   ]
  },
  {
   "cell_type": "markdown",
   "id": "ea215b22",
   "metadata": {},
   "source": [
    "Matrices typically have uppercase names like $A$"
   ]
  },
  {
   "cell_type": "markdown",
   "id": "09913c47",
   "metadata": {},
   "source": [
    "**Square Matrix** has same # of rows/columns"
   ]
  },
  {
   "cell_type": "markdown",
   "id": "6be488dc",
   "metadata": {},
   "source": [
    "**Upper triangular matrix** is where all elements below main diagonal are 0"
   ]
  },
  {
   "cell_type": "markdown",
   "id": "bef188d1",
   "metadata": {},
   "source": [
    "**Lower Triangular Matrix** is where all elements above main diagonal are 0"
   ]
  },
  {
   "cell_type": "markdown",
   "id": "20346a5c",
   "metadata": {},
   "source": [
    "**Diagonal Matrix** only contains elements on a diagonal"
   ]
  },
  {
   "cell_type": "code",
   "execution_count": 12,
   "id": "b35696d3",
   "metadata": {},
   "outputs": [
    {
     "data": {
      "text/plain": [
       "array([[4, 0, 0],\n",
       "       [0, 5, 0],\n",
       "       [0, 0, 6]])"
      ]
     },
     "execution_count": 12,
     "metadata": {},
     "output_type": "execute_result"
    }
   ],
   "source": [
    "np.diag([4,5,6])"
   ]
  },
  {
   "cell_type": "markdown",
   "id": "eae6025a",
   "metadata": {},
   "source": [
    "**Identity matrix** is a diagonal matrix of size $n\\times{n}$ with 1's in the main diagonal<br>Notated as $I$"
   ]
  },
  {
   "cell_type": "code",
   "execution_count": 13,
   "id": "03f2aefd",
   "metadata": {},
   "outputs": [
    {
     "data": {
      "text/plain": [
       "array([[1., 0., 0.],\n",
       "       [0., 1., 0.],\n",
       "       [0., 0., 1.]])"
      ]
     },
     "execution_count": 13,
     "metadata": {},
     "output_type": "execute_result"
    }
   ],
   "source": [
    "np.eye(3)"
   ]
  },
  {
   "cell_type": "markdown",
   "id": "dd162656",
   "metadata": {},
   "source": [
    "## Adding Matrices"
   ]
  },
  {
   "cell_type": "markdown",
   "id": "c80220ab",
   "metadata": {},
   "source": [
    "If matrices are same size, they can be added together. Addition is performed elementwise"
   ]
  },
  {
   "cell_type": "code",
   "execution_count": 14,
   "id": "3da7beff",
   "metadata": {},
   "outputs": [
    {
     "data": {
      "text/plain": [
       "array([[10, 20, 30],\n",
       "       [40, 50, 60]])"
      ]
     },
     "execution_count": 14,
     "metadata": {},
     "output_type": "execute_result"
    }
   ],
   "source": [
    "A"
   ]
  },
  {
   "cell_type": "code",
   "execution_count": 15,
   "id": "d33b7929",
   "metadata": {},
   "outputs": [
    {
     "data": {
      "text/plain": [
       "array([[1, 2, 3],\n",
       "       [4, 5, 6]])"
      ]
     },
     "execution_count": 15,
     "metadata": {},
     "output_type": "execute_result"
    }
   ],
   "source": [
    "B = np.array([[1,2,3],[4,5,6]])\n",
    "B"
   ]
  },
  {
   "cell_type": "code",
   "execution_count": 16,
   "id": "fda29a0e",
   "metadata": {},
   "outputs": [
    {
     "data": {
      "text/plain": [
       "array([[11, 22, 33],\n",
       "       [44, 55, 66]])"
      ]
     },
     "execution_count": 16,
     "metadata": {},
     "output_type": "execute_result"
    }
   ],
   "source": [
    "A+B"
   ]
  },
  {
   "cell_type": "markdown",
   "id": "84ad6629",
   "metadata": {},
   "source": [
    "## Scalar Multiplication"
   ]
  },
  {
   "cell_type": "markdown",
   "id": "f1e936d4",
   "metadata": {},
   "source": [
    "Just like vectors, you multiply by a scalar and all elements are multiplied"
   ]
  },
  {
   "cell_type": "code",
   "execution_count": 17,
   "id": "48f7d4f8",
   "metadata": {},
   "outputs": [
    {
     "data": {
      "text/plain": [
       "array([[ 20,  40,  60],\n",
       "       [ 80, 100, 120]])"
      ]
     },
     "execution_count": 17,
     "metadata": {},
     "output_type": "execute_result"
    }
   ],
   "source": [
    "2*A"
   ]
  },
  {
   "cell_type": "markdown",
   "id": "afc81f3d",
   "metadata": {},
   "source": [
    "## Matrix Multiplication"
   ]
  },
  {
   "cell_type": "markdown",
   "id": "5092938d",
   "metadata": {},
   "source": [
    "Bit more complicated"
   ]
  },
  {
   "cell_type": "markdown",
   "id": "8d5f21c9",
   "metadata": {},
   "source": [
    "A matrix $Q$ of size $m\\times{n}$ can be multiplied by a matrix $R$ of size $n\\times{q}$. It is noted $QR$ without any multiplication sign. The result is an $m\\times{q}$ matrix where each element is a sum of products"
   ]
  },
  {
   "cell_type": "markdown",
   "id": "922b7573",
   "metadata": {},
   "source": [
    "$P_{i,j}=\\sum^n_{k=1}Q_{i,k}\\times{R_{k,j}}$"
   ]
  },
  {
   "cell_type": "markdown",
   "id": "6c6f16c0",
   "metadata": {},
   "source": [
    "Each element $P_{i,j}$ is the dot product of row vector $Q_{i}$ and the column vector $R_{*,j}$<br>\n",
    "$P_{i,j}=Q_{i}\\cdot{R_{*,j}}$"
   ]
  },
  {
   "cell_type": "markdown",
   "id": "8b97aad0",
   "metadata": {},
   "source": [
    "### Example"
   ]
  },
  {
   "cell_type": "code",
   "execution_count": 18,
   "id": "c8bd71da",
   "metadata": {},
   "outputs": [
    {
     "data": {
      "text/plain": [
       "(2, 3)"
      ]
     },
     "execution_count": 18,
     "metadata": {},
     "output_type": "execute_result"
    }
   ],
   "source": [
    "A.shape"
   ]
  },
  {
   "cell_type": "code",
   "execution_count": 19,
   "id": "3e0d6d24",
   "metadata": {},
   "outputs": [
    {
     "ename": "NameError",
     "evalue": "name 'D' is not defined",
     "output_type": "error",
     "traceback": [
      "\u001b[0;31m---------------------------------------------------------------------------\u001b[0m",
      "\u001b[0;31mNameError\u001b[0m                                 Traceback (most recent call last)",
      "Cell \u001b[0;32mIn [19], line 1\u001b[0m\n\u001b[0;32m----> 1\u001b[0m \u001b[43mD\u001b[49m\u001b[38;5;241m.\u001b[39mshape\n",
      "\u001b[0;31mNameError\u001b[0m: name 'D' is not defined"
     ]
    }
   ],
   "source": [
    "D.shape"
   ]
  },
  {
   "cell_type": "code",
   "execution_count": null,
   "id": "9f49b79f",
   "metadata": {},
   "outputs": [],
   "source": [
    "D = np.array([\n",
    "    [ 2, 3, 5, 7],\n",
    "    [11, 13, 17, 19],\n",
    "    [23, 29, 31, 37]\n",
    "])\n",
    "E = A.dot(D)\n",
    "E.shape"
   ]
  },
  {
   "cell_type": "code",
   "execution_count": null,
   "id": "b7b79ac5",
   "metadata": {},
   "outputs": [],
   "source": [
    "E"
   ]
  },
  {
   "cell_type": "markdown",
   "id": "d62cb6c8",
   "metadata": {},
   "source": [
    "Because it is a dot product of *row* and *column* vectors, the *columns* of matrix 1 must be equal to the *rows* of matrix 2"
   ]
  },
  {
   "cell_type": "markdown",
   "id": "6abe9e5f",
   "metadata": {},
   "source": [
    "#### Matrix Multiplication is **NOT commutative**"
   ]
  },
  {
   "cell_type": "markdown",
   "id": "cb920c9f",
   "metadata": {},
   "source": [
    "$$QR\\neq{RQ}$$"
   ]
  },
  {
   "cell_type": "markdown",
   "id": "12af048c",
   "metadata": {},
   "source": [
    "#### Matrix Multiplication *is* associative"
   ]
  },
  {
   "cell_type": "markdown",
   "id": "12142405",
   "metadata": {},
   "source": [
    "$$Q(RS)=(QR)S$$"
   ]
  },
  {
   "cell_type": "markdown",
   "id": "4db7e00f",
   "metadata": {},
   "source": [
    "#### *Is* distributive"
   ]
  },
  {
   "cell_type": "markdown",
   "id": "f37a1e6f",
   "metadata": {},
   "source": [
    "$$(Q+R)S=QS+RS$$"
   ]
  },
  {
   "cell_type": "markdown",
   "id": "6cd7e06b",
   "metadata": {},
   "source": [
    "### Identity Matrix Multiplication"
   ]
  },
  {
   "cell_type": "markdown",
   "id": "d3cbf95b",
   "metadata": {},
   "source": [
    "$$MI_n = I_mM=M$$"
   ]
  },
  {
   "cell_type": "markdown",
   "id": "618b6b56",
   "metadata": {},
   "source": [
    "$$MI=IM=M$$"
   ]
  },
  {
   "cell_type": "code",
   "execution_count": null,
   "id": "3938825b",
   "metadata": {},
   "outputs": [],
   "source": [
    "np.eye(3) # Square matrix, diagonal matrix"
   ]
  },
  {
   "cell_type": "code",
   "execution_count": null,
   "id": "b6761653",
   "metadata": {},
   "outputs": [],
   "source": [
    "A"
   ]
  },
  {
   "cell_type": "code",
   "execution_count": null,
   "id": "b1b61a7f",
   "metadata": {
    "scrolled": true
   },
   "outputs": [],
   "source": [
    "(A==A.dot(np.eye(3))).all() "
   ]
  },
  {
   "cell_type": "markdown",
   "id": "86cb8df0",
   "metadata": {},
   "source": [
    "`@` operator - Same thing"
   ]
  },
  {
   "cell_type": "code",
   "execution_count": null,
   "id": "8bdfb597",
   "metadata": {},
   "outputs": [],
   "source": [
    "A @ D"
   ]
  },
  {
   "cell_type": "markdown",
   "id": "6b3ce669",
   "metadata": {},
   "source": [
    "## Matrix Transpose"
   ]
  },
  {
   "cell_type": "markdown",
   "id": "bdf47082",
   "metadata": {},
   "source": [
    "The transpose of a matrix $M$ is notated $M^T$"
   ]
  },
  {
   "cell_type": "markdown",
   "id": "75f0acef",
   "metadata": {},
   "source": [
    "$$A^T = \\begin{bmatrix}10&20&30\\\\40&50&60\\end{bmatrix}^T=\\\n",
    "\\begin{bmatrix}10&40\\\\20&50\\\\30&60\\end{bmatrix}$$"
   ]
  },
  {
   "cell_type": "markdown",
   "id": "7d23500d",
   "metadata": {},
   "source": [
    "`np.array.T`"
   ]
  },
  {
   "cell_type": "code",
   "execution_count": 20,
   "id": "b5e2d787",
   "metadata": {},
   "outputs": [
    {
     "data": {
      "text/plain": [
       "array([[10, 20, 30],\n",
       "       [40, 50, 60]])"
      ]
     },
     "execution_count": 20,
     "metadata": {},
     "output_type": "execute_result"
    }
   ],
   "source": [
    "A"
   ]
  },
  {
   "cell_type": "code",
   "execution_count": 21,
   "id": "f4651db5",
   "metadata": {},
   "outputs": [
    {
     "data": {
      "text/plain": [
       "array([[10, 40],\n",
       "       [20, 50],\n",
       "       [30, 60]])"
      ]
     },
     "execution_count": 21,
     "metadata": {},
     "output_type": "execute_result"
    }
   ],
   "source": [
    "A.T"
   ]
  },
  {
   "cell_type": "code",
   "execution_count": 27,
   "id": "ef8936a9",
   "metadata": {},
   "outputs": [
    {
     "data": {
      "text/plain": [
       "True"
      ]
     },
     "execution_count": 27,
     "metadata": {},
     "output_type": "execute_result"
    }
   ],
   "source": [
    "np.array_equal(A.T.T,A)"
   ]
  },
  {
   "cell_type": "markdown",
   "id": "052470f2",
   "metadata": {},
   "source": [
    "### Transposition Properties"
   ]
  },
  {
   "cell_type": "markdown",
   "id": "77fa0873",
   "metadata": {},
   "source": [
    "#### Distributive"
   ]
  },
  {
   "cell_type": "markdown",
   "id": "d90f71b0",
   "metadata": {},
   "source": [
    "$$(Q+R)^T=Q^T+R^T$$"
   ]
  },
  {
   "cell_type": "code",
   "execution_count": 28,
   "id": "5b479a34",
   "metadata": {},
   "outputs": [
    {
     "data": {
      "text/plain": [
       "array([[11, 44],\n",
       "       [22, 55],\n",
       "       [33, 66]])"
      ]
     },
     "execution_count": 28,
     "metadata": {},
     "output_type": "execute_result"
    }
   ],
   "source": [
    "(A + B).T"
   ]
  },
  {
   "cell_type": "markdown",
   "id": "efc0a991",
   "metadata": {},
   "source": [
    "#### "
   ]
  },
  {
   "cell_type": "code",
   "execution_count": null,
   "id": "f63281ea",
   "metadata": {},
   "outputs": [],
   "source": []
  }
 ],
 "metadata": {
  "kernelspec": {
   "display_name": "Python 3.11.0 64-bit ('DataScience': conda)",
   "language": "python",
   "name": "python3110jvsc74a57bd0ddd6124862d41a4ae89f5ecbe8de165b475f815fedf5e2377c44117f173a4c30"
  },
  "language_info": {
   "codemirror_mode": {
    "name": "ipython",
    "version": 3
   },
   "file_extension": ".py",
   "mimetype": "text/x-python",
   "name": "python",
   "nbconvert_exporter": "python",
   "pygments_lexer": "ipython3",
   "version": "3.11.0"
  }
 },
 "nbformat": 4,
 "nbformat_minor": 5
}
