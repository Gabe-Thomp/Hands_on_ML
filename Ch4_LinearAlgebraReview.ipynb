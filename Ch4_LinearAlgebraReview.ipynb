{
 "cells": [
  {
   "cell_type": "markdown",
   "id": "364d392c",
   "metadata": {},
   "source": [
    "# Linear Algebra Review"
   ]
  },
  {
   "cell_type": "markdown",
   "id": "14a385c6",
   "metadata": {},
   "source": [
    "## Vectors in python"
   ]
  },
  {
   "cell_type": "markdown",
   "id": "58ed23a7",
   "metadata": {},
   "source": [
    "Simple representation: list"
   ]
  },
  {
   "cell_type": "code",
   "execution_count": 1,
   "id": "d2f56ad9",
   "metadata": {},
   "outputs": [
    {
     "data": {
      "text/plain": [
       "[1, 2, 4, 6]"
      ]
     },
     "execution_count": 1,
     "metadata": {},
     "output_type": "execute_result"
    }
   ],
   "source": [
    "[1, 2, 4, 6]"
   ]
  },
  {
   "cell_type": "markdown",
   "id": "9363e9ad",
   "metadata": {},
   "source": [
    "Numpy `ndarray` is likely better for scientific calulations. "
   ]
  },
  {
   "cell_type": "code",
   "execution_count": 2,
   "id": "c157a550",
   "metadata": {},
   "outputs": [
    {
     "data": {
      "text/plain": [
       "array([1, 2, 4, 6])"
      ]
     },
     "execution_count": 2,
     "metadata": {},
     "output_type": "execute_result"
    }
   ],
   "source": [
    "import numpy as np\n",
    "video = np.array([1, 2, 4, 6])\n",
    "video"
   ]
  },
  {
   "cell_type": "code",
   "execution_count": 3,
   "id": "ddf60be0",
   "metadata": {},
   "outputs": [
    {
     "data": {
      "text/plain": [
       "4"
      ]
     },
     "execution_count": 3,
     "metadata": {},
     "output_type": "execute_result"
    }
   ],
   "source": [
    "video.size"
   ]
  },
  {
   "cell_type": "markdown",
   "id": "42aed203",
   "metadata": {},
   "source": [
    "### Plotting Vectors"
   ]
  },
  {
   "cell_type": "code",
   "execution_count": 4,
   "id": "087b62e7",
   "metadata": {},
   "outputs": [],
   "source": [
    "%matplotlib inline\n",
    "import matplotlib.pyplot as plt"
   ]
  },
  {
   "cell_type": "markdown",
   "id": "205d0ba0",
   "metadata": {},
   "source": [
    "### 2D Vectors"
   ]
  },
  {
   "cell_type": "code",
   "execution_count": 5,
   "id": "37a3f22e",
   "metadata": {},
   "outputs": [],
   "source": [
    "u = np.array([2, 5])\n",
    "v = np.array([3, 1])"
   ]
  },
  {
   "cell_type": "code",
   "execution_count": 6,
   "id": "3562461d",
   "metadata": {},
   "outputs": [
    {
     "data": {
      "image/png": "[encoded data removed]",
      "text/plain": [
       "<Figure size 640x480 with 1 Axes>"
      ]
     },
     "metadata": {},
     "output_type": "display_data"
    }
   ],
   "source": [
    "x_coords, y_coords = zip(u, v)\n",
    "plt.scatter(x_coords, y_coords, color=['r','b'])\n",
    "plt.axis([0,9,0,6])\n",
    "plt.grid()\n",
    "plt.show()"
   ]
  },
  {
   "cell_type": "markdown",
   "id": "27da0d8f",
   "metadata": {},
   "source": [
    "### Arrows"
   ]
  },
  {
   "cell_type": "code",
   "execution_count": 7,
   "id": "b7514fcd",
   "metadata": {},
   "outputs": [],
   "source": [
    "def plot_vector2d(vector2d, origin=[0,0], **options):\n",
    "    return plt.arrow(origin[0], origin[1], vector2d[0], vector2d[1],\n",
    "                    head_width=0.2, head_length=0.3, length_includes_head=True,\n",
    "                    **options)"
   ]
  },
  {
   "cell_type": "code",
   "execution_count": 8,
   "id": "0f88adb3",
   "metadata": {},
   "outputs": [
    {
     "data": {
      "text/plain": [
       "(0.0, 9.0, 0.0, 6.0)"
      ]
     },
     "execution_count": 8,
     "metadata": {},
     "output_type": "execute_result"
    },
    {
     "data": {
      "image/png": "[encoded data removed]",
      "text/plain": [
       "<Figure size 640x480 with 1 Axes>"
      ]
     },
     "metadata": {},
     "output_type": "display_data"
    }
   ],
   "source": [
    "plot_vector2d(u, color='r')\n",
    "plot_vector2d(v, color='b')\n",
    "\n",
    "plt.axis([0,9,0,6])"
   ]
  },
  {
   "cell_type": "markdown",
   "id": "e9d8d5bb",
   "metadata": {},
   "source": [
    "## Dot product"
   ]
  },
  {
   "cell_type": "code",
   "execution_count": 9,
   "id": "c5e02233",
   "metadata": {},
   "outputs": [
    {
     "data": {
      "text/plain": [
       "11"
      ]
     },
     "execution_count": 9,
     "metadata": {},
     "output_type": "execute_result"
    }
   ],
   "source": [
    "np.dot(u,v)"
   ]
  },
  {
   "cell_type": "markdown",
   "id": "4a083f37",
   "metadata": {},
   "source": [
    "* will perform elementwise multiplication"
   ]
  },
  {
   "cell_type": "code",
   "execution_count": 10,
   "id": "a878e161",
   "metadata": {},
   "outputs": [
    {
     "data": {
      "text/plain": [
       "array([6, 5])"
      ]
     },
     "execution_count": 10,
     "metadata": {},
     "output_type": "execute_result"
    }
   ],
   "source": [
    "u*v"
   ]
  },
  {
   "cell_type": "markdown",
   "id": "91818c89",
   "metadata": {},
   "source": [
    "## Matrices"
   ]
  },
  {
   "cell_type": "markdown",
   "id": "d94078a0",
   "metadata": {},
   "source": [
    "Rectangular array of scalars arranged in rows and columns\n",
    "\\begin{bmatrix}\n",
    "1&2&4 \\\\\n",
    "1&3&4\n",
    "\\end{bmatrix}"
   ]
  },
  {
   "cell_type": "markdown",
   "id": "8d6358e1",
   "metadata": {},
   "source": [
    "Numpy provides optimized matrices"
   ]
  },
  {
   "cell_type": "code",
   "execution_count": 11,
   "id": "d2ada10f",
   "metadata": {},
   "outputs": [
    {
     "data": {
      "text/plain": [
       "array([[10, 20, 30],\n",
       "       [40, 50, 60]])"
      ]
     },
     "execution_count": 11,
     "metadata": {},
     "output_type": "execute_result"
    }
   ],
   "source": [
    "A = np.array([\n",
    "    [10,20,30],\n",
    "    [40,50,60]\n",
    "])\n",
    "A"
   ]
  },
  {
   "cell_type": "markdown",
   "id": "ea215b22",
   "metadata": {},
   "source": [
    "Matrices typically have uppercase names like $A$"
   ]
  },
  {
   "cell_type": "markdown",
   "id": "09913c47",
   "metadata": {},
   "source": [
    "**Square Matrix** has same # of rows/columns"
   ]
  },
  {
   "cell_type": "markdown",
   "id": "6be488dc",
   "metadata": {},
   "source": [
    "**Upper triangular matrix** is where all elements below main diagonal are 0"
   ]
  },
  {
   "cell_type": "markdown",
   "id": "bef188d1",
   "metadata": {},
   "source": [
    "**Lower Triangular Matrix** is where all elements above main diagonal are 0"
   ]
  },
  {
   "cell_type": "markdown",
   "id": "20346a5c",
   "metadata": {},
   "source": [
    "**Diagonal Matrix** only contains elements on a diagonal"
   ]
  },
  {
   "cell_type": "code",
   "execution_count": 12,
   "id": "b35696d3",
   "metadata": {},
   "outputs": [
    {
     "data": {
      "text/plain": [
       "array([[4, 0, 0],\n",
       "       [0, 5, 0],\n",
       "       [0, 0, 6]])"
      ]
     },
     "execution_count": 12,
     "metadata": {},
     "output_type": "execute_result"
    }
   ],
   "source": [
    "np.diag([4,5,6])"
   ]
  },
  {
   "cell_type": "markdown",
   "id": "eae6025a",
   "metadata": {},
   "source": [
    "**Identity matrix** is a diagonal matrix of size $n\\times{n}$ with 1's in the main diagonal<br>Notated as $I$"
   ]
  },
  {
   "cell_type": "code",
   "execution_count": 13,
   "id": "03f2aefd",
   "metadata": {},
   "outputs": [
    {
     "data": {
      "text/plain": [
       "array([[1., 0., 0.],\n",
       "       [0., 1., 0.],\n",
       "       [0., 0., 1.]])"
      ]
     },
     "execution_count": 13,
     "metadata": {},
     "output_type": "execute_result"
    }
   ],
   "source": [
    "np.eye(3)"
   ]
  },
  {
   "cell_type": "markdown",
   "id": "dd162656",
   "metadata": {},
   "source": [
    "## Adding Matrices"
   ]
  },
  {
   "cell_type": "markdown",
   "id": "c80220ab",
   "metadata": {},
   "source": [
    "If matrices are same size, they can be added together. Addition is performed elementwise"
   ]
  },
  {
   "cell_type": "code",
   "execution_count": 14,
   "id": "3da7beff",
   "metadata": {},
   "outputs": [
    {
     "data": {
      "text/plain": [
       "array([[10, 20, 30],\n",
       "       [40, 50, 60]])"
      ]
     },
     "execution_count": 14,
     "metadata": {},
     "output_type": "execute_result"
    }
   ],
   "source": [
    "A"
   ]
  },
  {
   "cell_type": "code",
   "execution_count": 15,
   "id": "d33b7929",
   "metadata": {},
   "outputs": [
    {
     "data": {
      "text/plain": [
       "array([[1, 2, 3],\n",
       "       [4, 5, 6]])"
      ]
     },
     "execution_count": 15,
     "metadata": {},
     "output_type": "execute_result"
    }
   ],
   "source": [
    "B = np.array([[1,2,3],[4,5,6]])\n",
    "B"
   ]
  },
  {
   "cell_type": "code",
   "execution_count": 16,
   "id": "fda29a0e",
   "metadata": {},
   "outputs": [
    {
     "data": {
      "text/plain": [
       "array([[11, 22, 33],\n",
       "       [44, 55, 66]])"
      ]
     },
     "execution_count": 16,
     "metadata": {},
     "output_type": "execute_result"
    }
   ],
   "source": [
    "A+B"
   ]
  },
  {
   "cell_type": "markdown",
   "id": "84ad6629",
   "metadata": {},
   "source": [
    "## Scalar Multiplication"
   ]
  },
  {
   "cell_type": "markdown",
   "id": "f1e936d4",
   "metadata": {},
   "source": [
    "Just like vectors, you multiply by a scalar and all elements are multiplied"
   ]
  },
  {
   "cell_type": "code",
   "execution_count": 17,
   "id": "48f7d4f8",
   "metadata": {},
   "outputs": [
    {
     "data": {
      "text/plain": [
       "array([[ 20,  40,  60],\n",
       "       [ 80, 100, 120]])"
      ]
     },
     "execution_count": 17,
     "metadata": {},
     "output_type": "execute_result"
    }
   ],
   "source": [
    "2*A"
   ]
  },
  {
   "cell_type": "markdown",
   "id": "afc81f3d",
   "metadata": {},
   "source": [
    "## Matrix Multiplication"
   ]
  },
  {
   "cell_type": "markdown",
   "id": "5092938d",
   "metadata": {},
   "source": [
    "Bit more complicated"
   ]
  },
  {
   "cell_type": "markdown",
   "id": "8d5f21c9",
   "metadata": {},
   "source": [
    "A matrix $Q$ of size $m\\times{n}$ can be multiplied by a matrix $R$ of size $n\\times{q}$. It is noted $QR$ without any multiplication sign. The result is an $m\\times{q}$ matrix where each element is a sum of products"
   ]
  },
  {
   "cell_type": "markdown",
   "id": "922b7573",
   "metadata": {},
   "source": [
    "$P_{i,j}=\\sum^n_{k=1}Q_{i,k}\\times{R_{k,j}}$"
   ]
  },
  {
   "cell_type": "markdown",
   "id": "6c6f16c0",
   "metadata": {},
   "source": [
    "Each element $P_{i,j}$ is the dot product of row vector $Q_{i}$ and the column vector $R_{*,j}$<br>\n",
    "$P_{i,j}=Q_{i}\\cdot{R_{*,j}}$"
   ]
  },
  {
   "cell_type": "markdown",
   "id": "8b97aad0",
   "metadata": {},
   "source": [
    "### Example"
   ]
  },
  {
   "cell_type": "code",
   "execution_count": 18,
   "id": "c8bd71da",
   "metadata": {},
   "outputs": [
    {
     "data": {
      "text/plain": [
       "(2, 3)"
      ]
     },
     "execution_count": 18,
     "metadata": {},
     "output_type": "execute_result"
    }
   ],
   "source": [
    "A.shape"
   ]
  },
  {
   "cell_type": "code",
   "execution_count": 19,
   "id": "3e0d6d24",
   "metadata": {},
   "outputs": [
    {
     "ename": "NameError",
     "evalue": "name 'D' is not defined",
     "output_type": "error",
     "traceback": [
      "\u001b[0;31m---------------------------------------------------------------------------\u001b[0m",
      "\u001b[0;31mNameError\u001b[0m                                 Traceback (most recent call last)",
      "Cell \u001b[0;32mIn [19], line 1\u001b[0m\n\u001b[0;32m----> 1\u001b[0m \u001b[43mD\u001b[49m\u001b[38;5;241m.\u001b[39mshape\n",
      "\u001b[0;31mNameError\u001b[0m: name 'D' is not defined"
     ]
    }
   ],
   "source": [
    "D.shape"
   ]
  },
  {
   "cell_type": "code",
   "execution_count": null,
   "id": "9f49b79f",
   "metadata": {},
   "outputs": [],
   "source": [
    "D = np.array([\n",
    "    [ 2, 3, 5, 7],\n",
    "    [11, 13, 17, 19],\n",
    "    [23, 29, 31, 37]\n",
    "])\n",
    "E = A.dot(D)\n",
    "E.shape"
   ]
  },
  {
   "cell_type": "code",
   "execution_count": null,
   "id": "b7b79ac5",
   "metadata": {},
   "outputs": [],
   "source": [
    "E"
   ]
  },
  {
   "cell_type": "markdown",
   "id": "d62cb6c8",
   "metadata": {},
   "source": [
    "Because it is a dot product of *row* and *column* vectors, the *columns* of matrix 1 must be equal to the *rows* of matrix 2"
   ]
  },
  {
   "cell_type": "markdown",
   "id": "6abe9e5f",
   "metadata": {},
   "source": [
    "#### Matrix Multiplication is **NOT commutative**"
   ]
  },
  {
   "cell_type": "markdown",
   "id": "cb920c9f",
   "metadata": {},
   "source": [
    "$$QR\\neq{RQ}$$"
   ]
  },
  {
   "cell_type": "markdown",
   "id": "12af048c",
   "metadata": {},
   "source": [
    "#### Matrix Multiplication *is* associative"
   ]
  },
  {
   "cell_type": "markdown",
   "id": "12142405",
   "metadata": {},
   "source": [
    "$$Q(RS)=(QR)S$$"
   ]
  },
  {
   "cell_type": "markdown",
   "id": "4db7e00f",
   "metadata": {},
   "source": [
    "#### *Is* distributive"
   ]
  },
  {
   "cell_type": "markdown",
   "id": "f37a1e6f",
   "metadata": {},
   "source": [
    "$$(Q+R)S=QS+RS$$"
   ]
  },
  {
   "cell_type": "markdown",
   "id": "6cd7e06b",
   "metadata": {},
   "source": [
    "### Identity Matrix Multiplication"
   ]
  },
  {
   "cell_type": "markdown",
   "id": "d3cbf95b",
   "metadata": {},
   "source": [
    "$$MI_n = I_mM=M$$"
   ]
  },
  {
   "cell_type": "markdown",
   "id": "618b6b56",
   "metadata": {},
   "source": [
    "$$MI=IM=M$$"
   ]
  },
  {
   "cell_type": "code",
   "execution_count": null,
   "id": "3938825b",
   "metadata": {},
   "outputs": [],
   "source": [
    "np.eye(3) # Square matrix, diagonal matrix"
   ]
  },
  {
   "cell_type": "code",
   "execution_count": null,
   "id": "b6761653",
   "metadata": {},
   "outputs": [],
   "source": [
    "A"
   ]
  },
  {
   "cell_type": "code",
   "execution_count": null,
   "id": "b1b61a7f",
   "metadata": {
    "scrolled": true
   },
   "outputs": [],
   "source": [
    "(A==A.dot(np.eye(3))).all() "
   ]
  },
  {
   "cell_type": "markdown",
   "id": "86cb8df0",
   "metadata": {},
   "source": [
    "`@` operator - Same thing"
   ]
  },
  {
   "cell_type": "code",
   "execution_count": null,
   "id": "8bdfb597",
   "metadata": {},
   "outputs": [],
   "source": [
    "A @ D"
   ]
  },
  {
   "cell_type": "markdown",
   "id": "6b3ce669",
   "metadata": {},
   "source": [
    "## Matrix Transpose"
   ]
  },
  {
   "cell_type": "markdown",
   "id": "bdf47082",
   "metadata": {},
   "source": [
    "The transpose of a matrix $M$ is notated $M^T$"
   ]
  },
  {
   "cell_type": "markdown",
   "id": "75f0acef",
   "metadata": {},
   "source": [
    "$$A^T = \\begin{bmatrix}10&20&30\\\\40&50&60\\end{bmatrix}^T=\\\n",
    "\\begin{bmatrix}10&40\\\\20&50\\\\30&60\\end{bmatrix}$$"
   ]
  },
  {
   "cell_type": "markdown",
   "id": "1ec27d2e",
   "metadata": {},
   "source": [
    "`np.array.T`"
   ]
  },
  {
   "cell_type": "code",
   "execution_count": 20,
   "id": "6bfa762d",
   "metadata": {},
   "outputs": [
    {
     "data": {
      "text/plain": [
       "array([[10, 20, 30],\n",
       "       [40, 50, 60]])"
      ]
     },
     "execution_count": 20,
     "metadata": {},
     "output_type": "execute_result"
    }
   ],
   "source": [
    "A"
   ]
  },
  {
   "cell_type": "code",
   "execution_count": 21,
   "id": "32c2eba4",
   "metadata": {},
   "outputs": [
    {
     "data": {
      "text/plain": [
       "array([[10, 40],\n",
       "       [20, 50],\n",
       "       [30, 60]])"
      ]
     },
     "execution_count": 21,
     "metadata": {},
     "output_type": "execute_result"
    }
   ],
   "source": [
    "A.T"
   ]
  },
  {
   "cell_type": "code",
   "execution_count": 27,
   "id": "4b88f35b",
   "metadata": {},
   "outputs": [
    {
     "data": {
      "text/plain": [
       "True"
      ]
     },
     "execution_count": 27,
     "metadata": {},
     "output_type": "execute_result"
    }
   ],
   "source": [
    "np.array_equal(A.T.T,A)"
   ]
  },
  {
   "cell_type": "markdown",
   "id": "89ee0a4c",
   "metadata": {},
   "source": [
    "### Transposition Properties"
   ]
  },
  {
   "cell_type": "markdown",
   "id": "4d9fad3f",
   "metadata": {},
   "source": [
    "#### Distributive"
   ]
  },
  {
   "cell_type": "markdown",
   "id": "1cfc4f4b",
   "metadata": {},
   "source": [
    "$$(Q+R)^T=Q^T+R^T$$"
   ]
  },
  {
   "cell_type": "code",
   "execution_count": 29,
   "id": "80decb57",
   "metadata": {},
   "outputs": [
    {
     "data": {
      "text/plain": [
       "array([[11, 44],\n",
       "       [22, 55],\n",
       "       [33, 66]])"
      ]
     },
     "execution_count": 29,
     "metadata": {},
     "output_type": "execute_result"
    }
   ],
   "source": [
    "A.T+B.T"
   ]
  },
  {
   "cell_type": "code",
   "execution_count": 28,
   "id": "2dee714c",
   "metadata": {},
   "outputs": [
    {
     "data": {
      "text/plain": [
       "array([[11, 44],\n",
       "       [22, 55],\n",
       "       [33, 66]])"
      ]
     },
     "execution_count": 28,
     "metadata": {},
     "output_type": "execute_result"
    }
   ],
   "source": [
    "(A + B).T"
   ]
  },
  {
   "cell_type": "markdown",
   "id": "ce8a9d9c",
   "metadata": {},
   "source": [
    "$$(Q\\cdot{R})^T=R^T\\cdot{Q^T}$$"
   ]
  },
  {
   "cell_type": "markdown",
   "id": "f268d1bf",
   "metadata": {},
   "source": [
    "A **symmetric matrix $M$** is equal to its transpose: $M^T=M$\n",
    "> Must be a square matrix whose elements are symmetric relative to main diagonal"
   ]
  },
  {
   "cell_type": "markdown",
   "id": "27873c8e",
   "metadata": {},
   "source": [
    "## Converting 1D arrays to 2d arrays"
   ]
  },
  {
   "cell_type": "code",
   "execution_count": 30,
   "id": "46455182",
   "metadata": {},
   "outputs": [
    {
     "data": {
      "text/plain": [
       "array([2, 5])"
      ]
     },
     "execution_count": 30,
     "metadata": {},
     "output_type": "execute_result"
    }
   ],
   "source": [
    "u"
   ]
  },
  {
   "cell_type": "code",
   "execution_count": 31,
   "id": "ee2662e9",
   "metadata": {},
   "outputs": [
    {
     "data": {
      "text/plain": [
       "array([2, 5])"
      ]
     },
     "execution_count": 31,
     "metadata": {},
     "output_type": "execute_result"
    }
   ],
   "source": [
    "u.T"
   ]
  },
  {
   "cell_type": "markdown",
   "id": "b9015d08",
   "metadata": {},
   "source": [
    "We want to convert $\\bf{u}$ into a row vector before transposition"
   ]
  },
  {
   "cell_type": "code",
   "execution_count": 32,
   "id": "66c73969",
   "metadata": {},
   "outputs": [
    {
     "data": {
      "text/plain": [
       "array([[2, 5]])"
      ]
     },
     "execution_count": 32,
     "metadata": {},
     "output_type": "execute_result"
    }
   ],
   "source": [
    "u_row = np.array([u])\n",
    "u_row"
   ]
  },
  {
   "cell_type": "code",
   "execution_count": 33,
   "id": "46b03701",
   "metadata": {},
   "outputs": [
    {
     "data": {
      "text/plain": [
       "array([[2, 5]])"
      ]
     },
     "execution_count": 33,
     "metadata": {},
     "output_type": "execute_result"
    }
   ],
   "source": [
    "u[np.newaxis, :]"
   ]
  },
  {
   "cell_type": "code",
   "execution_count": 34,
   "id": "abd9f008",
   "metadata": {},
   "outputs": [
    {
     "data": {
      "text/plain": [
       "array([[2, 5]])"
      ]
     },
     "execution_count": 34,
     "metadata": {},
     "output_type": "execute_result"
    }
   ],
   "source": [
    "u[np.newaxis]"
   ]
  },
  {
   "cell_type": "markdown",
   "id": "39567b13",
   "metadata": {},
   "source": [
    "Now we have a column vector!"
   ]
  },
  {
   "cell_type": "code",
   "execution_count": 36,
   "id": "d8f2fc60",
   "metadata": {},
   "outputs": [
    {
     "data": {
      "text/plain": [
       "array([[2],\n",
       "       [5]])"
      ]
     },
     "execution_count": 36,
     "metadata": {},
     "output_type": "execute_result"
    }
   ],
   "source": [
    "u_row.T"
   ]
  },
  {
   "cell_type": "markdown",
   "id": "f433df7d",
   "metadata": {},
   "source": [
    "## Graphing Matrices"
   ]
  },
  {
   "cell_type": "code",
   "execution_count": 38,
   "id": "4669be3e",
   "metadata": {},
   "outputs": [],
   "source": [
    "P = np.array([\n",
    "    [3.0,4.,1.,4.6],\n",
    "    [.2, 3.5, 2., .5]\n",
    "])"
   ]
  },
  {
   "cell_type": "code",
   "execution_count": 40,
   "id": "e147befc",
   "metadata": {},
   "outputs": [
    {
     "data": {
      "image/png": "[encoded data removed]",
      "text/plain": [
       "<Figure size 640x480 with 1 Axes>"
      ]
     },
     "metadata": {},
     "output_type": "display_data"
    }
   ],
   "source": [
    "x_coords_P, y_coords_P = P\n",
    "plt.scatter(x_coords_P, y_coords_P)\n",
    "plt.axis([0, 5, 0, 4])\n",
    "plt.show()"
   ]
  },
  {
   "cell_type": "code",
   "execution_count": 45,
   "id": "2eeb8fa9",
   "metadata": {},
   "outputs": [
    {
     "data": {
      "image/png": "[encoded data removed]",
      "text/plain": [
       "<Figure size 640x480 with 1 Axes>"
      ]
     },
     "metadata": {},
     "output_type": "display_data"
    }
   ],
   "source": [
    "plt.plot(x_coords_P, y_coors_P, \"bo\")\n",
    "plt.plot(x_coords_P, y_coords_P, \"b--\")\n",
    "plt.axis([0, 5, 0, 4])\n",
    "plt.grid()\n",
    "plt.show()"
   ]
  },
  {
   "cell_type": "code",
   "execution_count": 48,
   "id": "7e720ca9",
   "metadata": {},
   "outputs": [
    {
     "data": {
      "image/png": "[encoded data removed]",
      "text/plain": [
       "<Figure size 640x480 with 1 Axes>"
      ]
     },
     "metadata": {},
     "output_type": "display_data"
    }
   ],
   "source": [
    "from matplotlib.patches import Polygon\n",
    "plt.gca().add_artist(Polygon(P.T))\n",
    "\n",
    "plt.axis([0, 5, 0, 4])\n",
    "\n",
    "plt.grid()\n",
    "plt.show()"
   ]
  },
  {
   "cell_type": "markdown",
   "id": "23d1940f",
   "metadata": {},
   "source": [
    "## Geometric Applications of Matrix Operations"
   ]
  },
  {
   "cell_type": "markdown",
   "id": "a68d6df9",
   "metadata": {},
   "source": [
    "### Addition = multiple geometric translations"
   ]
  },
  {
   "cell_type": "code",
   "execution_count": 57,
   "id": "7321f224",
   "metadata": {},
   "outputs": [
    {
     "data": {
      "image/png": "[encoded data removed]",
      "text/plain": [
       "<Figure size 640x480 with 1 Axes>"
      ]
     },
     "metadata": {},
     "output_type": "display_data"
    }
   ],
   "source": [
    "H = np.array([\n",
    "    [.5, -.2, .2, -.1],\n",
    "    [.4, .4, 1.5, .6]\n",
    "])\n",
    "P_translate = P + H\n",
    "\n",
    "plt.gca().add_artist(Polygon(P.T, alpha=.2))\n",
    "plt.gca().add_artist(Polygon(P_translate.T, alpha=.3, color='r'))\n",
    "\n",
    "\n",
    "for vector, origin in zip(H.T, P.T):\n",
    "    plot_vector2d(vector, origin=origin)\n",
    "\n",
    "plt.axis([0, 5, 0, 4])\n",
    "plt.grid()\n",
    "plt.show()"
   ]
  },
  {
   "cell_type": "markdown",
   "id": "8e6e10a3",
   "metadata": {},
   "source": [
    "Adding row vectors or columns vectors to a matrix (that aren't the same size as the matrix) is called **broadcasting**"
   ]
  },
  {
   "cell_type": "markdown",
   "id": "55d0227a",
   "metadata": {},
   "source": [
    "### Scalar Multiplication is dilation"
   ]
  },
  {
   "cell_type": "code",
   "execution_count": 83,
   "id": "b71be2b5",
   "metadata": {},
   "outputs": [
    {
     "data": {
      "image/png": "[encoded data removed]",
      "text/plain": [
       "<Figure size 640x480 with 1 Axes>"
      ]
     },
     "metadata": {},
     "output_type": "display_data"
    }
   ],
   "source": [
    "P_dilate = P*.5\n",
    "\n",
    "plt.gca().add_artist(Polygon(P.T, alpha=.2))\n",
    "plt.gca().add_artist(Polygon(P_dilate.T, alpha=.3, color='r'))\n",
    "\n",
    "\n",
    "for vector_before, vector_after in zip(P.T,P_dilate.T):\n",
    "    plot_vector2d(vector_before, color='blue',alpha=.4,linestyle='--')\n",
    "    plot_vector2d(vector_after, color='red',alpha=1, linestyle='-')\n",
    "\n",
    "plt.axis([0, 5, 0, 4])\n",
    "plt.grid()\n",
    "plt.show()"
   ]
  },
  {
   "cell_type": "markdown",
   "id": "9ed7c1cc",
   "metadata": {},
   "source": [
    "### Matrix Multiplication - Projection onto an axis"
   ]
  },
  {
   "cell_type": "markdown",
   "id": "82286a5a",
   "metadata": {},
   "source": [
    "Row vector"
   ]
  },
  {
   "cell_type": "code",
   "execution_count": 85,
   "id": "9270ff1a",
   "metadata": {},
   "outputs": [],
   "source": [
    "U = np.array([[1,0]])"
   ]
  },
  {
   "cell_type": "code",
   "execution_count": 87,
   "id": "78972ebc",
   "metadata": {},
   "outputs": [
    {
     "data": {
      "text/plain": [
       "array([[3. , 4. , 1. , 4.6],\n",
       "       [0.2, 3.5, 2. , 0.5]])"
      ]
     },
     "execution_count": 87,
     "metadata": {},
     "output_type": "execute_result"
    }
   ],
   "source": [
    "P"
   ]
  },
  {
   "cell_type": "code",
   "execution_count": 86,
   "id": "b9209372",
   "metadata": {},
   "outputs": [
    {
     "data": {
      "text/plain": [
       "array([[3. , 4. , 1. , 4.6]])"
      ]
     },
     "execution_count": 86,
     "metadata": {},
     "output_type": "execute_result"
    }
   ],
   "source": [
    "U.dot(P)"
   ]
  },
  {
   "cell_type": "markdown",
   "id": "f05a1de2",
   "metadata": {},
   "source": [
    "These are the horizontal coordinates of the vectors in $P$. In other words, it is a *projection* of $P$ onto the horizontal axis"
   ]
  },
  {
   "cell_type": "code",
   "execution_count": 88,
   "id": "0e1890cc",
   "metadata": {},
   "outputs": [],
   "source": [
    "def plot_project(U, P):\n",
    "    U_P = U.dot(P)\n",
    "    \n",
    "    axis_end = 100 * U\n",
    "    plot_vector2d(axis_end[0], color=\"black\")\n",
    "    \n",
    "    plt.gca().add_artist(Polygon(P.T, alpha=0.2))\n",
    "    for vector, proj_coordinate in zip(P.T, U_P.T):\n",
    "        proj_point = proj_coordinate * U\n",
    "        plt.plot(proj_point[0][0], proj_point[0][1], \"ro\")\n",
    "        plt.plot([vector[0], proj_point[0][0]], [vector[1], proj_point[0][1]], \"r--\")"
   ]
  },
  {
   "cell_type": "code",
   "execution_count": null,
   "id": "9e71d029",
   "metadata": {},
   "outputs": [],
   "source": []
  }
 ],
 "metadata": {
  "kernelspec": {
   "display_name": "Python 3.11.0 64-bit ('DataScience': conda)",
   "language": "python",
   "name": "python3110jvsc74a57bd0ddd6124862d41a4ae89f5ecbe8de165b475f815fedf5e2377c44117f173a4c30"
  },
  "language_info": {
   "codemirror_mode": {
    "name": "ipython",
    "version": 3
   },
   "file_extension": ".py",
   "mimetype": "text/x-python",
   "name": "python",
   "nbconvert_exporter": "python",
   "pygments_lexer": "ipython3",
   "version": "3.11.0"
  }
 },
 "nbformat": 4,
 "nbformat_minor": 5
}
